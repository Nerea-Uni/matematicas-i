{
 "cells": [
  {
   "cell_type": "markdown",
   "metadata": {},
   "source": [
    "$$\n",
    "\\def\\CC{\\bf C}\n",
    "\\def\\QQ{\\bf Q}\n",
    "\\def\\RR{\\bf R}\n",
    "\\def\\ZZ{\\bf Z}\n",
    "\\def\\NN{\\bf N}\n",
    "$$\n",
    "# Práctica nº 3. Matemáticas I de Ingeniería Informática\n",
    "\n",
    "En esta práctica completaremos el estudio de series que comenzamos brevemente en la práctica 2, haremos algunos ejercicios sobre números complejos y empezaremos a estudiar funciones de variable real. Contenido:\n",
    "\n",
    "-   Series: convergencia y suma\n",
    "-   Funciones: introducción, generalidades y gráficas\n",
    "\n",
    "## 0. Sumas finitas y series.\n",
    "\n",
    "Sage efectúa sumas de un número finito de términos con la orden sum. Por ejemplo, la siguiente orden calcula $$\\sum_{n=1}^{10} 2^n$$"
   ]
  },
  {
   "cell_type": "code",
   "execution_count": null,
   "metadata": {},
   "outputs": [],
   "source": [
    "reset()\n",
    "var('n')\n",
    "sum(2^n,n,1,10)"
   ]
  },
  {
   "cell_type": "markdown",
   "metadata": {},
   "source": [
    "**Ejemplo.** Comprobar, con variables simbólicas, que Sage conoce la fórmula del binomio de Newton $\\displaystyle \\sum_{k=0}^n\\binom{n}{k}a^k b^{n-k}=(a+b)^n$."
   ]
  },
  {
   "cell_type": "code",
   "execution_count": null,
   "metadata": {},
   "outputs": [],
   "source": [
    "reset()\n",
    "var('a b k n')\n",
    "show(sum(binomial(n,k)*a^k*b^(n-k),k,0,n))"
   ]
  },
  {
   "cell_type": "markdown",
   "metadata": {},
   "source": [
    "Una suma con infinitos términos es lo que en Matemáticas se llama serie. La serie por definición es el límite de las sumas parciales, es decir,\n",
    "\n",
    "$$\\sum_{k=1}^\\infty a_k=\\lim_{n\\to\\infty} \\sum_{k=1}^n a_k,$$\n",
    "\n",
    "y el límite puede ser finito, $+\\infty$, $-\\infty$ o no existir. Sage sabe hacer este límite en algunos casos con la misma orden sum poniendo sum(a(k),k,1,oo). En otros no lo sabrá hacer, pero como sí sabe hacer sumas finitas de muchísimos sumandos, siempre nos puede ser útil. Veamos unos últimos ejemplos sobre sumas y series.\n"
   ]
  },
  {
   "cell_type": "markdown",
   "metadata": {},
   "source": [
    "**Ejemplo.** Sumar la serie $\\displaystyle \\sum_{k=1}^\\infty\\frac{1}{k(k+1)}$ y comprobar que es el límite de las sumas parciales."
   ]
  },
  {
   "cell_type": "code",
   "execution_count": 1,
   "metadata": {},
   "outputs": [
    {
     "data": {
      "text/plain": [
       "1"
      ]
     },
     "execution_count": 1,
     "metadata": {},
     "output_type": "execute_result"
    }
   ],
   "source": [
    "reset()\n",
    "var('k')\n",
    "sum(1/(k*(k+1)),k,1,oo) # la suma es 1"
   ]
  },
  {
   "cell_type": "code",
   "execution_count": 2,
   "metadata": {},
   "outputs": [
    {
     "data": {
      "text/plain": [
       "n/(n + 1)"
      ]
     },
     "execution_count": 2,
     "metadata": {},
     "output_type": "execute_result"
    }
   ],
   "source": [
    "var('n')\n",
    "s(n)=sum(1/(k*(k+1)),k,1,n)\n",
    "s(n) # ha sabido sumar y simplificar cada suma parcial"
   ]
  },
  {
   "cell_type": "code",
   "execution_count": 3,
   "metadata": {},
   "outputs": [
    {
     "data": {
      "text/plain": [
       "1"
      ]
     },
     "execution_count": 3,
     "metadata": {},
     "output_type": "execute_result"
    }
   ],
   "source": [
    "lim(s(n),n=oo) # comprobado"
   ]
  },
  {
   "cell_type": "markdown",
   "metadata": {},
   "source": [
    "**Ejemplo 1.** Tratar de ver si es convergente y de hallar la suma de la serie $\\displaystyle \\sum_{k=1}^\\infty\\frac{\\sqrt{k+1}-\\sqrt{k}}{\\sqrt{k(k+1)}}$."
   ]
  },
  {
   "cell_type": "code",
   "execution_count": 4,
   "metadata": {},
   "outputs": [
    {
     "data": {
      "text/plain": [
       "sum((sqrt(k + 1) - sqrt(k))/sqrt(k^2 + k), k, 1, +Infinity)"
      ]
     },
     "execution_count": 4,
     "metadata": {},
     "output_type": "execute_result"
    }
   ],
   "source": [
    "reset()\n",
    "var('k')\n",
    "sum((sqrt(k+1)-sqrt(k))/sqrt(k*(k+1)),k,1,oo)"
   ]
  },
  {
   "cell_type": "code",
   "execution_count": 5,
   "metadata": {},
   "outputs": [
    {
     "data": {
      "text/plain": [
       "sum((sqrt(k + 1) - sqrt(k))/sqrt(k^2 + k), k, 1, n)"
      ]
     },
     "execution_count": 5,
     "metadata": {},
     "output_type": "execute_result"
    }
   ],
   "source": [
    "var('n')\n",
    "s(n)=sum((sqrt(k+1)-sqrt(k))/sqrt(k*(k+1)),k,1,n)\n",
    "s(n).full_simplify()"
   ]
  },
  {
   "cell_type": "markdown",
   "metadata": {},
   "source": [
    "Como no sabe hacer las sumas parciales, no sabrá hacer el límite. Vamos a formar una lista con las 50 sumas parciales y dibujar los valores. Para ello, podemos utilizar el comando list_plot:"
   ]
  },
  {
   "cell_type": "code",
   "execution_count": 6,
   "metadata": {},
   "outputs": [
    {
     "data": {
      "image/png": "[encoded data removed]",
      "text/plain": [
       "Graphics object consisting of 1 graphics primitive"
      ]
     },
     "execution_count": 6,
     "metadata": {},
     "output_type": "execute_result"
    }
   ],
   "source": [
    "L=[sum((sqrt(k + 1) - sqrt(k))/sqrt(k*(k+1)), k, 1, n) for n in [1..50]]\n",
    "list_plot(L)"
   ]
  },
  {
   "cell_type": "markdown",
   "metadata": {},
   "source": [
    "Esto nos puede dar una idea de que la serie converge, las sumas parciales parece que crecen lentamente y que permanecerán acotadas. Podemos tomar más términos para verlo mejor, por ejemplo $500$, pero aquí nos aparece un problema de tipo computacional. Si ponemos\n",
    "\n",
    "list\\_plot(\\[sum((sqrt(k + 1) - sqrt(k))/sqrt(k\\*(k+1)), k, 1, n) for n in \\[1..500\\]\\])\n",
    "\n",
    "observaremos que tarda mucho en hacer el cálculo. Es mejor (más rápido), crear una lista con las sumas parciales hasta la suma parcial de orden $500$, por medio de un bucle con append, de forma similar a lo hecho con sucesiones recurrentes:"
   ]
  },
  {
   "cell_type": "code",
   "execution_count": 7,
   "metadata": {},
   "outputs": [],
   "source": [
    "\n",
    "a(k)=(sqrt(k+1)-sqrt(k))/sqrt(k*(k+1)) # término general\n",
    "c=500\n",
    "H=[0]\n",
    "for k in [1..c]:\n",
    "   H.append(H[k-1]+a(k))\n",
    "A=list_plot([H[n] for n in [1..c]],figsize=4)"
   ]
  },
  {
   "cell_type": "markdown",
   "metadata": {},
   "source": [
    "Ahora H es una lista de $501$ términos, cuyo primer término es cero y los siguientes son las sumas parciales de la serie desde $1$ hasta $500$. Dibujamos H con la línea $y=1$ :"
   ]
  },
  {
   "cell_type": "code",
   "execution_count": 8,
   "metadata": {},
   "outputs": [
    {
     "data": {
      "image/png": "[encoded data removed]",
      "text/plain": [
       "Graphics object consisting of 2 graphics primitives"
      ]
     },
     "execution_count": 8,
     "metadata": {},
     "output_type": "execute_result"
    }
   ],
   "source": [
    "B=plot(1,x,0,500,color='red')\n",
    "A+B"
   ]
  },
  {
   "cell_type": "markdown",
   "metadata": {},
   "source": [
    "Tomando más términos (aunque los cálculos llevarían mucho tiempo) veríamos que las sumas parciales se acercan a $1$. De todas formas, Sage no se da cuenta de lo que sí podemos ver nosotros con una simple operación. La serie es telescópica:\n",
    "\n",
    "$$\\sum_{k=1}^n\\frac{\\sqrt{k+1}-\\sqrt{k}}{\\sqrt{k(k+1)}}=\\sum_{k=1}^n\\left(\\frac{1}{\\sqrt{k}}-\\frac{1}{\\sqrt{k+1}}\\right)=1-\\frac{1}{\\sqrt{n+1}}.$$\n",
    "\n",
    "Y, ahora, es inmediato que el límite es $1$.\n",
    "\n",
    "## 1. Series: convergencia y suma\n",
    "\n",
    "Recordamos las órdenes:\n",
    "\n",
    "-   sum(a(n),n,1,m) , calcula la suma finita $\\displaystyle \\sum_{n=1}^m a(n)$.\n",
    "-   sum(a(n),n,1,oo) , calcula la suma de la serie $\\displaystyle \\sum_{n=1}^\\infty a(n)$.\n",
    "\n",
    "**Lo principal sobre sucesiones.** Antes de manejar series, recordamos lo básico sobre sucesiones: para introducir una sucesión $a_n$ lo más sencillo es usar la sintaxis\n",
    "\n",
    "a(n)= $\\cdots$\n",
    "\n",
    "Para hallar su límite, intentamos la orden\n",
    "\n",
    "lim(a(n),n=oo)\n",
    "\n",
    "Si queremos introducir un número finito de términos en una lista (por ejemplo los términos desde $1$ hasta $100$) hacemos\n",
    "\n",
    "L=\\[a(n) for n in \\[1..100\\]\\]\n",
    "\n",
    "y si queremos dibujar estos términos, hacemos\n",
    "\n",
    "list\\_plot(L,opciones)\n",
    "\n",
    "o bien\n",
    "\n",
    "point(\\[(n,a(n)) for n in \\[1..100\\]\\], opciones)\n",
    "\n",
    "donde en opciones ponemos separados por comas, atributos del dibujo como color, tamaño de la figura, etc.\n",
    "\n",
    "En los ejemplos de series que siguen recordamos algún criterio de convergencia, pero convendría repasar o tener a mano lo que se ha visto en clase sobre series.\n",
    "\n",
    "**Ejemplo 2:** Estudia el carácter de la serie $\\displaystyle \\sum_{n=1}^{\\infty}\\frac{n^n}{n!}$\n",
    "\n",
    "Para este ejemplo usamos el criterio del cociente: si $\\displaystyle \\lim_{n\\to \\infty} \\left|\\frac{a(n+1)}{a(n)}\\right| =L$ y $L<1$ entonces $\\displaystyle \\sum_{n=1}^\\infty a(n)$ es convergente; si $L>1$ no es convergente y si $L=1$ es un caso dudoso, hay ejemplos en los que converge y otros en los que no converge y para salir de dudas habrá que recurrir a otros métodos."
   ]
  },
  {
   "cell_type": "code",
   "execution_count": 9,
   "metadata": {},
   "outputs": [
    {
     "data": {
      "text/html": [
       "<html><script type=\"math/tex; mode=display\">\\newcommand{\\Bold}[1]{\\mathbf{#1}}\\frac{n^{n}}{n!}</script></html>"
      ],
      "text/plain": [
       "n^n/factorial(n)"
      ]
     },
     "metadata": {},
     "output_type": "display_data"
    }
   ],
   "source": [
    "reset()\n",
    "var('n')\n",
    "a(n)=n^n/factorial(n)\n",
    "show(a(n))"
   ]
  },
  {
   "cell_type": "code",
   "execution_count": 10,
   "metadata": {},
   "outputs": [
    {
     "data": {
      "text/html": [
       "<html><script type=\"math/tex; mode=display\">\\newcommand{\\Bold}[1]{\\mathbf{#1}}e</script></html>"
      ],
      "text/plain": [
       "e"
      ]
     },
     "metadata": {},
     "output_type": "display_data"
    }
   ],
   "source": [
    "L=lim(a(n+1)/a(n),n=oo)\n",
    "L.show() # como e>1, la serie diverge"
   ]
  },
  {
   "cell_type": "markdown",
   "metadata": {},
   "source": [
    "**Ejemplo 3:** Estudia el carácter de la serie $\\displaystyle \\sum_{n= 1}^\\infty \\frac{n+1}{n(n+2)(n+3)}$\n",
    "\n",
    "Usamos primero el criterio del cociente."
   ]
  },
  {
   "cell_type": "code",
   "execution_count": 11,
   "metadata": {},
   "outputs": [
    {
     "data": {
      "text/plain": [
       "1"
      ]
     },
     "execution_count": 11,
     "metadata": {},
     "output_type": "execute_result"
    }
   ],
   "source": [
    "reset()\n",
    "var('n')\n",
    "a(n)=(n+1)/(n*(n+2)*(n+3))\n",
    "L=lim(a(n+1)/a(n),n=oo)\n",
    "L # vemos que L=1: caso dudoso"
   ]
  },
  {
   "cell_type": "markdown",
   "metadata": {},
   "source": [
    "Para resolver la duda, usamos el criterio de comparación: si $\\displaystyle \\lim_{n\\to \\infty}  \\frac{a(n)}{b(n)}=L\\in (0,+\\infty)$ entonces las series $\\displaystyle \\sum_{n=1}^\\infty a(n)$ y $\\displaystyle \\sum_{n=1}^\\infty b(n)$ convergen o divergen simultáneamente.\n",
    "\n",
    "En este caso comparamos con la serie $\\displaystyle\\sum_{n= 1}^\\infty \\frac{1}{n^2 }$"
   ]
  },
  {
   "cell_type": "code",
   "execution_count": 12,
   "metadata": {},
   "outputs": [
    {
     "data": {
      "text/plain": [
       "1"
      ]
     },
     "execution_count": 12,
     "metadata": {},
     "output_type": "execute_result"
    }
   ],
   "source": [
    "lim(a(n)/(1/n^2),n=oo)"
   ]
  },
  {
   "cell_type": "markdown",
   "metadata": {},
   "source": [
    "Como la serie  $\\displaystyle\\sum_{n= 1}^\\infty \\frac{1}{n^2 }$ converge, la nuestra también.\n",
    "\n",
    "\n",
    "\n",
    "**Introducción de las sumas parciales.** Recordamos también el siguiente procedimiento para formar unas cuantas sumas parciales, interesante cuando no sabe hallarlas para un $n$ genérico: si queremos formar una lista (la llamamos s) con las 50 primeras sumas parciales, $s_1=a_1$, $s_2=a_1+a_2$, $\\dots$, observando que $s_n=s_{n-1}+a_n$, lo podemos hacer así:\n",
    "\n",
    "a(n)=término general\n",
    "\n",
    "s=\\[0\\]\n",
    "\n",
    "for n in \\[1..50\\]:\n",
    "\n",
    "> s.append(s\\[n-1\\]+a(n))\n",
    "\n",
    "Así hemos formado una lista donde el primer elemento es s\\[0\\]= $0$ y los siguientes son s\\[n\\]= $s_n$.\n",
    "\n",
    "**Ejemplo 4:** Sea la serie armónica $\\displaystyle \\sum_{n=1}^\\infty\\frac{1}{n}$. Dibujar las sumas parciales de esta serie, $H_N=\\displaystyle \\sum_{n=1}^N\\frac{1}{n}$, y comprobar que van por encima de $\\log N$. Esto hace sospechar que la serie es divergente."
   ]
  },
  {
   "cell_type": "code",
   "execution_count": 13,
   "metadata": {},
   "outputs": [
    {
     "data": {
      "image/png": "[encoded data removed]",
      "text/plain": [
       "Graphics object consisting of 2 graphics primitives"
      ]
     },
     "execution_count": 13,
     "metadata": {},
     "output_type": "execute_result"
    }
   ],
   "source": [
    "reset()\n",
    "c=50\n",
    "H=[0]\n",
    "for n in [1..c]:\n",
    "    H.append(H[n-1]+1/n) \n",
    "A=list_plot([H[n] for n in [1..c]],figsize=4) \n",
    "B=list_plot([log(n) for n in [1..c]],color='red',figsize=4)\n",
    "A+B"
   ]
  },
  {
   "cell_type": "markdown",
   "metadata": {},
   "source": [
    "**Nota.-** Es conocido que existe $\\displaystyle \\lim_{N\\to\\infty}\\left(\\sum_{n=1}^N\\frac1n-\\log N\\right)$. Este límite es un número muy famoso en matemáticas que se llama constante de Euler, se denota $\\gamma$ y se sabe que $\\gamma\\sim 0,577$ (Sage lo tiene en memoria y se obtiene con la orden euler\\_gamma). Podemos comprobar gráficamente que estas diferencias se acercan a dicho número, dibujándolas junto a la línea horizontal de altura $\\gamma$ :"
   ]
  },
  {
   "cell_type": "code",
   "execution_count": 14,
   "metadata": {},
   "outputs": [
    {
     "data": {
      "image/png": "[encoded data removed]",
      "text/plain": [
       "Graphics object consisting of 2 graphics primitives"
      ]
     },
     "metadata": {},
     "output_type": "display_data"
    }
   ],
   "source": [
    "D=[H[n]-log(n) for n in [1..c]]\n",
    "dif=list_plot(D)\n",
    "linea=plot(euler_gamma,(x,1,50),color='red')\n",
    "show(dif+linea,figsize=4)"
   ]
  },
  {
   "cell_type": "code",
   "execution_count": 15,
   "metadata": {},
   "outputs": [
    {
     "data": {
      "text/plain": [
       "0.57721566490153286060651209008240243104215933593992"
      ]
     },
     "execution_count": 15,
     "metadata": {},
     "output_type": "execute_result"
    }
   ],
   "source": [
    "N(euler_gamma,digits=50)"
   ]
  },
  {
   "cell_type": "markdown",
   "metadata": {},
   "source": [
    "**Suma de series.** Con la orden sum(a(n),n,1,oo) , Sage suma algunas series (y para algunas otras sabe, con esta orden, que no son convergentes). Por ejemplo, sumemos la serie $\\displaystyle\\sum_{n= 1}^\\infty \\frac{n^2+3n+1}{n^2 (n+1)^2}$"
   ]
  },
  {
   "cell_type": "code",
   "execution_count": 16,
   "metadata": {},
   "outputs": [
    {
     "data": {
      "text/plain": [
       "2"
      ]
     },
     "execution_count": 16,
     "metadata": {},
     "output_type": "execute_result"
    }
   ],
   "source": [
    "var('n')\n",
    "sum((n^2+3*n+1)/(n^2*(n+1)^2),n,1,oo)"
   ]
  },
  {
   "cell_type": "markdown",
   "metadata": {},
   "source": [
    "Si tenemos una serie divergente, en algunos casos Sage detecta con esta orden que efectivamente lo es, pero en otros casos (la mayoría) nos devuelve la expresión:"
   ]
  },
  {
   "cell_type": "code",
   "execution_count": 17,
   "metadata": {
    "scrolled": true
   },
   "outputs": [
    {
     "ename": "ValueError",
     "evalue": "Sum is divergent.",
     "output_type": "error",
     "traceback": [
      "\u001b[0;31m---------------------------------------------------------------------------\u001b[0m",
      "\u001b[0;31mRuntimeError\u001b[0m                              Traceback (most recent call last)",
      "\u001b[0;32m/opt/sagemath-9.1/local/lib/python3.7/site-packages/sage/interfaces/maxima_lib.py\u001b[0m in \u001b[0;36msr_sum\u001b[0;34m(self, *args)\u001b[0m\n\u001b[1;32m    875\u001b[0m         \u001b[0;32mtry\u001b[0m\u001b[0;34m:\u001b[0m\u001b[0;34m\u001b[0m\u001b[0;34m\u001b[0m\u001b[0m\n\u001b[0;32m--> 876\u001b[0;31m             \u001b[0;32mreturn\u001b[0m \u001b[0mmax_to_sr\u001b[0m\u001b[0;34m(\u001b[0m\u001b[0mmaxima_eval\u001b[0m\u001b[0;34m(\u001b[0m\u001b[0;34m[\u001b[0m\u001b[0;34m[\u001b[0m\u001b[0mmax_ratsimp\u001b[0m\u001b[0;34m]\u001b[0m\u001b[0;34m,\u001b[0m\u001b[0;34m[\u001b[0m\u001b[0;34m[\u001b[0m\u001b[0mmax_simplify_sum\u001b[0m\u001b[0;34m]\u001b[0m\u001b[0;34m,\u001b[0m\u001b[0;34m(\u001b[0m\u001b[0;34m[\u001b[0m\u001b[0mmax_sum\u001b[0m\u001b[0;34m]\u001b[0m\u001b[0;34m,\u001b[0m\u001b[0;34m[\u001b[0m\u001b[0msr_to_max\u001b[0m\u001b[0;34m(\u001b[0m\u001b[0mSR\u001b[0m\u001b[0;34m(\u001b[0m\u001b[0ma\u001b[0m\u001b[0;34m)\u001b[0m\u001b[0;34m)\u001b[0m \u001b[0;32mfor\u001b[0m \u001b[0ma\u001b[0m \u001b[0;32min\u001b[0m \u001b[0margs\u001b[0m\u001b[0;34m]\u001b[0m\u001b[0;34m)\u001b[0m\u001b[0;34m]\u001b[0m\u001b[0;34m]\u001b[0m\u001b[0;34m)\u001b[0m\u001b[0;34m)\u001b[0m\u001b[0;34m;\u001b[0m\u001b[0;34m\u001b[0m\u001b[0;34m\u001b[0m\u001b[0m\n\u001b[0m\u001b[1;32m    877\u001b[0m         \u001b[0;32mexcept\u001b[0m \u001b[0mRuntimeError\u001b[0m \u001b[0;32mas\u001b[0m \u001b[0merror\u001b[0m\u001b[0;34m:\u001b[0m\u001b[0;34m\u001b[0m\u001b[0;34m\u001b[0m\u001b[0m\n",
      "\u001b[0;32m/opt/sagemath-9.1/local/lib/python3.7/site-packages/sage/libs/ecl.pyx\u001b[0m in \u001b[0;36msage.libs.ecl.EclObject.__call__ (build/cythonized/sage/libs/ecl.c:7794)\u001b[0;34m()\u001b[0m\n\u001b[1;32m    804\u001b[0m         \u001b[0mlispargs\u001b[0m \u001b[0;34m=\u001b[0m \u001b[0mEclObject\u001b[0m\u001b[0;34m(\u001b[0m\u001b[0mlist\u001b[0m\u001b[0;34m(\u001b[0m\u001b[0margs\u001b[0m\u001b[0;34m)\u001b[0m\u001b[0;34m)\u001b[0m\u001b[0;34m\u001b[0m\u001b[0;34m\u001b[0m\u001b[0m\n\u001b[0;32m--> 805\u001b[0;31m         \u001b[0;32mreturn\u001b[0m \u001b[0mecl_wrap\u001b[0m\u001b[0;34m(\u001b[0m\u001b[0mecl_safe_apply\u001b[0m\u001b[0;34m(\u001b[0m\u001b[0mself\u001b[0m\u001b[0;34m.\u001b[0m\u001b[0mobj\u001b[0m\u001b[0;34m,\u001b[0m\u001b[0;34m(\u001b[0m\u001b[0;34m<\u001b[0m\u001b[0mEclObject\u001b[0m\u001b[0;34m>\u001b[0m\u001b[0mlispargs\u001b[0m\u001b[0;34m)\u001b[0m\u001b[0;34m.\u001b[0m\u001b[0mobj\u001b[0m\u001b[0;34m)\u001b[0m\u001b[0;34m)\u001b[0m\u001b[0;34m\u001b[0m\u001b[0;34m\u001b[0m\u001b[0m\n\u001b[0m\u001b[1;32m    806\u001b[0m \u001b[0;34m\u001b[0m\u001b[0m\n",
      "\u001b[0;32m/opt/sagemath-9.1/local/lib/python3.7/site-packages/sage/libs/ecl.pyx\u001b[0m in \u001b[0;36msage.libs.ecl.ecl_safe_apply (build/cythonized/sage/libs/ecl.c:5456)\u001b[0;34m()\u001b[0m\n\u001b[1;32m    376\u001b[0m         \u001b[0ms\u001b[0m \u001b[0;34m=\u001b[0m \u001b[0msi_coerce_to_base_string\u001b[0m\u001b[0;34m(\u001b[0m\u001b[0mecl_values\u001b[0m\u001b[0;34m(\u001b[0m\u001b[0;36m1\u001b[0m\u001b[0;34m)\u001b[0m\u001b[0;34m)\u001b[0m\u001b[0;34m\u001b[0m\u001b[0;34m\u001b[0m\u001b[0m\n\u001b[0;32m--> 377\u001b[0;31m         raise RuntimeError(\"ECL says: {}\".format(\n\u001b[0m\u001b[1;32m    378\u001b[0m             char_to_str(ecl_base_string_pointer_safe(s))))\n",
      "\u001b[0;31mRuntimeError\u001b[0m: ECL says: Error executing code in Maxima: sum: sum is divergent.",
      "\nDuring handling of the above exception, another exception occurred:\n",
      "\u001b[0;31mValueError\u001b[0m                                Traceback (most recent call last)",
      "\u001b[0;32m/opt/sagemath-9.1/local/lib/python3.7/site-packages/sage/all_cmdline.py\u001b[0m in \u001b[0;36m<module>\u001b[0;34m()\u001b[0m\n\u001b[0;32m----> 1\u001b[0;31m \u001b[0msum\u001b[0m\u001b[0;34m(\u001b[0m\u001b[0mInteger\u001b[0m\u001b[0;34m(\u001b[0m\u001b[0;36m1\u001b[0m\u001b[0;34m)\u001b[0m\u001b[0;34m/\u001b[0m\u001b[0mn\u001b[0m\u001b[0;34m,\u001b[0m\u001b[0mn\u001b[0m\u001b[0;34m,\u001b[0m\u001b[0mInteger\u001b[0m\u001b[0;34m(\u001b[0m\u001b[0;36m1\u001b[0m\u001b[0;34m)\u001b[0m\u001b[0;34m,\u001b[0m\u001b[0moo\u001b[0m\u001b[0;34m)\u001b[0m \u001b[0;31m# Sage sabe que esta serie\u001b[0m\u001b[0;34m\u001b[0m\u001b[0;34m\u001b[0m\u001b[0m\n\u001b[0m\u001b[1;32m      2\u001b[0m                 \u001b[0;31m# es divergente\u001b[0m\u001b[0;34m\u001b[0m\u001b[0;34m\u001b[0m\u001b[0;34m\u001b[0m\u001b[0m\n",
      "\u001b[0;32m/opt/sagemath-9.1/local/lib/python3.7/site-packages/sage/misc/functional.py\u001b[0m in \u001b[0;36msymbolic_sum\u001b[0;34m(expression, *args, **kwds)\u001b[0m\n\u001b[1;32m    573\u001b[0m     \"\"\"\n\u001b[1;32m    574\u001b[0m     \u001b[0;32mif\u001b[0m \u001b[0mhasattr\u001b[0m\u001b[0;34m(\u001b[0m\u001b[0mexpression\u001b[0m\u001b[0;34m,\u001b[0m \u001b[0;34m'sum'\u001b[0m\u001b[0;34m)\u001b[0m\u001b[0;34m:\u001b[0m\u001b[0;34m\u001b[0m\u001b[0;34m\u001b[0m\u001b[0m\n\u001b[0;32m--> 575\u001b[0;31m         \u001b[0;32mreturn\u001b[0m \u001b[0mexpression\u001b[0m\u001b[0;34m.\u001b[0m\u001b[0msum\u001b[0m\u001b[0;34m(\u001b[0m\u001b[0;34m*\u001b[0m\u001b[0margs\u001b[0m\u001b[0;34m,\u001b[0m \u001b[0;34m**\u001b[0m\u001b[0mkwds\u001b[0m\u001b[0;34m)\u001b[0m\u001b[0;34m\u001b[0m\u001b[0;34m\u001b[0m\u001b[0m\n\u001b[0m\u001b[1;32m    576\u001b[0m     \u001b[0;32melif\u001b[0m \u001b[0mlen\u001b[0m\u001b[0;34m(\u001b[0m\u001b[0margs\u001b[0m\u001b[0;34m)\u001b[0m \u001b[0;34m<=\u001b[0m \u001b[0;36m1\u001b[0m\u001b[0;34m:\u001b[0m\u001b[0;34m\u001b[0m\u001b[0;34m\u001b[0m\u001b[0m\n\u001b[1;32m    577\u001b[0m         \u001b[0;32mreturn\u001b[0m \u001b[0msum\u001b[0m\u001b[0;34m(\u001b[0m\u001b[0mexpression\u001b[0m\u001b[0;34m,\u001b[0m \u001b[0;34m*\u001b[0m\u001b[0margs\u001b[0m\u001b[0;34m)\u001b[0m\u001b[0;34m\u001b[0m\u001b[0;34m\u001b[0m\u001b[0m\n",
      "\u001b[0;32m/opt/sagemath-9.1/local/lib/python3.7/site-packages/sage/symbolic/expression.pyx\u001b[0m in \u001b[0;36msage.symbolic.expression.Expression.sum (build/cythonized/sage/symbolic/expression.cpp:63800)\u001b[0;34m()\u001b[0m\n\u001b[1;32m  12326\u001b[0m         \"\"\"\n\u001b[1;32m  12327\u001b[0m         \u001b[0;32mfrom\u001b[0m \u001b[0msage\u001b[0m\u001b[0;34m.\u001b[0m\u001b[0mcalculus\u001b[0m\u001b[0;34m.\u001b[0m\u001b[0mcalculus\u001b[0m \u001b[0;32mimport\u001b[0m \u001b[0msymbolic_sum\u001b[0m\u001b[0;34m\u001b[0m\u001b[0;34m\u001b[0m\u001b[0m\n\u001b[0;32m> 12328\u001b[0;31m         \u001b[0;32mreturn\u001b[0m \u001b[0msymbolic_sum\u001b[0m\u001b[0;34m(\u001b[0m\u001b[0mself\u001b[0m\u001b[0;34m,\u001b[0m \u001b[0;34m*\u001b[0m\u001b[0margs\u001b[0m\u001b[0;34m,\u001b[0m \u001b[0;34m**\u001b[0m\u001b[0mkwds\u001b[0m\u001b[0;34m)\u001b[0m\u001b[0;34m\u001b[0m\u001b[0;34m\u001b[0m\u001b[0m\n\u001b[0m\u001b[1;32m  12329\u001b[0m \u001b[0;34m\u001b[0m\u001b[0m\n\u001b[1;32m  12330\u001b[0m     \u001b[0;32mdef\u001b[0m \u001b[0mprod\u001b[0m\u001b[0;34m(\u001b[0m\u001b[0mself\u001b[0m\u001b[0;34m,\u001b[0m \u001b[0;34m*\u001b[0m\u001b[0margs\u001b[0m\u001b[0;34m,\u001b[0m \u001b[0;34m**\u001b[0m\u001b[0mkwds\u001b[0m\u001b[0;34m)\u001b[0m\u001b[0;34m:\u001b[0m\u001b[0;34m\u001b[0m\u001b[0;34m\u001b[0m\u001b[0m\n",
      "\u001b[0;32m/opt/sagemath-9.1/local/lib/python3.7/site-packages/sage/calculus/calculus.py\u001b[0m in \u001b[0;36msymbolic_sum\u001b[0;34m(expression, v, a, b, algorithm, hold)\u001b[0m\n\u001b[1;32m    610\u001b[0m \u001b[0;34m\u001b[0m\u001b[0m\n\u001b[1;32m    611\u001b[0m     \u001b[0;32mif\u001b[0m \u001b[0malgorithm\u001b[0m \u001b[0;34m==\u001b[0m \u001b[0;34m'maxima'\u001b[0m\u001b[0;34m:\u001b[0m\u001b[0;34m\u001b[0m\u001b[0;34m\u001b[0m\u001b[0m\n\u001b[0;32m--> 612\u001b[0;31m         \u001b[0;32mreturn\u001b[0m \u001b[0mmaxima\u001b[0m\u001b[0;34m.\u001b[0m\u001b[0msr_sum\u001b[0m\u001b[0;34m(\u001b[0m\u001b[0mexpression\u001b[0m\u001b[0;34m,\u001b[0m\u001b[0mv\u001b[0m\u001b[0;34m,\u001b[0m\u001b[0ma\u001b[0m\u001b[0;34m,\u001b[0m\u001b[0mb\u001b[0m\u001b[0;34m)\u001b[0m\u001b[0;34m\u001b[0m\u001b[0;34m\u001b[0m\u001b[0m\n\u001b[0m\u001b[1;32m    613\u001b[0m \u001b[0;34m\u001b[0m\u001b[0m\n\u001b[1;32m    614\u001b[0m     \u001b[0;32melif\u001b[0m \u001b[0malgorithm\u001b[0m \u001b[0;34m==\u001b[0m \u001b[0;34m'mathematica'\u001b[0m\u001b[0;34m:\u001b[0m\u001b[0;34m\u001b[0m\u001b[0;34m\u001b[0m\u001b[0m\n",
      "\u001b[0;32m/opt/sagemath-9.1/local/lib/python3.7/site-packages/sage/interfaces/maxima_lib.py\u001b[0m in \u001b[0;36msr_sum\u001b[0;34m(self, *args)\u001b[0m\n\u001b[1;32m    881\u001b[0m \u001b[0;31m# could not find an example where 'Pole encountered' occurred, though\u001b[0m\u001b[0;34m\u001b[0m\u001b[0;34m\u001b[0m\u001b[0;34m\u001b[0m\u001b[0m\n\u001b[1;32m    882\u001b[0m \u001b[0;31m#            if \"divergent\" in s or 'Pole encountered' in s:\u001b[0m\u001b[0;34m\u001b[0m\u001b[0;34m\u001b[0m\u001b[0;34m\u001b[0m\u001b[0m\n\u001b[0;32m--> 883\u001b[0;31m                 \u001b[0;32mraise\u001b[0m \u001b[0mValueError\u001b[0m\u001b[0;34m(\u001b[0m\u001b[0;34m\"Sum is divergent.\"\u001b[0m\u001b[0;34m)\u001b[0m\u001b[0;34m\u001b[0m\u001b[0;34m\u001b[0m\u001b[0m\n\u001b[0m\u001b[1;32m    884\u001b[0m             \u001b[0;32melif\u001b[0m \u001b[0;34m\"Is\"\u001b[0m \u001b[0;32min\u001b[0m \u001b[0ms\u001b[0m\u001b[0;34m:\u001b[0m \u001b[0;31m# Maxima asked for a condition\u001b[0m\u001b[0;34m\u001b[0m\u001b[0;34m\u001b[0m\u001b[0m\n\u001b[1;32m    885\u001b[0m                 \u001b[0mself\u001b[0m\u001b[0;34m.\u001b[0m\u001b[0m_missing_assumption\u001b[0m\u001b[0;34m(\u001b[0m\u001b[0ms\u001b[0m\u001b[0;34m)\u001b[0m\u001b[0;34m\u001b[0m\u001b[0;34m\u001b[0m\u001b[0m\n",
      "\u001b[0;31mValueError\u001b[0m: Sum is divergent."
     ]
    }
   ],
   "source": [
    "sum(1/n,n,1,oo) # Sage sabe que esta serie\n",
    "                # es divergente"
   ]
  },
  {
   "cell_type": "code",
   "execution_count": 18,
   "metadata": {},
   "outputs": [
    {
     "data": {
      "text/plain": [
       "sum(sqrt(n), n, 1, +Infinity)"
      ]
     },
     "execution_count": 18,
     "metadata": {},
     "output_type": "execute_result"
    }
   ],
   "source": [
    "sum(n^(1/2),n,1,oo)  # serie claramente divergente,\n",
    "                     # pero Sage no lo sabe"
   ]
  },
  {
   "cell_type": "markdown",
   "metadata": {},
   "source": [
    "Sage no sabe sumar toda serie convergente, en parte porque no toda serie se puede sumar por métodos elementales y en parte porque Sage puede que no vea alguna simplificación sobre el término general, importante para hallar la suma."
   ]
  },
  {
   "cell_type": "code",
   "execution_count": null,
   "metadata": {},
   "outputs": [],
   "source": []
  },
  {
   "cell_type": "markdown",
   "metadata": {},
   "source": [
    "**Ejemplo 5:** Sea $0<c<1$. Probar que la serie $\\displaystyle \\sum_{n=1}^\\infty nc^n$ es convergente y que su suma es $\\displaystyle \\frac{c}{(c-1)^2}$."
   ]
  },
  {
   "cell_type": "code",
   "execution_count": 21,
   "metadata": {},
   "outputs": [
    {
     "name": "stdout",
     "output_type": "stream",
     "text": [
      "c\n"
     ]
    },
    {
     "data": {
      "text/html": [
       "<html><script type=\"math/tex; mode=display\">\\newcommand{\\Bold}[1]{\\mathbf{#1}}\\frac{c}{c^{2} - 2 \\, c + 1}</script></html>"
      ],
      "text/plain": [
       "c/(c^2 - 2*c + 1)"
      ]
     },
     "metadata": {},
     "output_type": "display_data"
    }
   ],
   "source": [
    "reset()\n",
    "var('c n')\n",
    "a(n)=n*c^n\n",
    "L=limit(a(n+1)/a(n),n=oo)\n",
    "print(L) # como L=c<1, es convergente\n",
    "sum(a(n),n,1,oo).show()"
   ]
  },
  {
   "cell_type": "markdown",
   "metadata": {},
   "source": [
    "Observar que esta serie no converge si $c\\geq 1$, pero ni Sage ni nosotros lo hemos dicho explícitamente. Por tanto, debemos tener cuidado en sumas como estas donde aparecen parámetros.\n",
    "\n",
    "## 3. Funciones: introducción, generalidades y gráficas\n",
    "\n",
    "Contenido:\n",
    "\n",
    "-   Definir funciones\n",
    "-   Gráficas: repasando la orden plot\n",
    "\n",
    "Una de las mejores maneras de definir una función de variable real es con la sencilla sintaxis f(x)= $\\cdots$ . Por ejemplo, introducimos la función $f(x)=x^3+2x+1$."
   ]
  },
  {
   "cell_type": "code",
   "execution_count": 22,
   "metadata": {},
   "outputs": [],
   "source": [
    "f(x)=x^3+2*x+1"
   ]
  },
  {
   "cell_type": "markdown",
   "metadata": {},
   "source": [
    "Comprobamos con la orden show que la función $f$ está definida y que no nos hemos equivocado al escribir:"
   ]
  },
  {
   "cell_type": "code",
   "execution_count": 23,
   "metadata": {},
   "outputs": [
    {
     "data": {
      "text/html": [
       "<html><script type=\"math/tex; mode=display\">\\newcommand{\\Bold}[1]{\\mathbf{#1}}x^{3} + 2 \\, x + 1</script></html>"
      ],
      "text/plain": [
       "x^3 + 2*x + 1"
      ]
     },
     "metadata": {},
     "output_type": "display_data"
    }
   ],
   "source": [
    "f(x).show()"
   ]
  },
  {
   "cell_type": "markdown",
   "metadata": {},
   "source": [
    "Definimos ahora la función $h(t) = t \\ln t$ :"
   ]
  },
  {
   "cell_type": "code",
   "execution_count": 24,
   "metadata": {},
   "outputs": [
    {
     "data": {
      "text/html": [
       "<html><script type=\"math/tex; mode=display\">\\newcommand{\\Bold}[1]{\\mathbf{#1}}t \\log\\left(t\\right)</script></html>"
      ],
      "text/plain": [
       "t*log(t)"
      ]
     },
     "metadata": {},
     "output_type": "display_data"
    }
   ],
   "source": [
    "var('t')     # si se quiere, no es necesario\n",
    "h(t)=t*ln(t) # declarar t como variable\n",
    "h(t).show()"
   ]
  },
  {
   "cell_type": "markdown",
   "metadata": {},
   "source": [
    "Con esta sintaxis la evaluación de funciones en puntos, o en otras variables (siempre que estén declaradas), es muy sencilla:"
   ]
  },
  {
   "cell_type": "code",
   "execution_count": 26,
   "metadata": {},
   "outputs": [
    {
     "name": "stdout",
     "output_type": "stream",
     "text": [
      "5*log(5)\n",
      "-x^3 - 2*x + 1\n",
      "t^3*log(t)^3 + 2*t*log(t) + 1\n"
     ]
    }
   ],
   "source": [
    "print(h(5))\n",
    "print(f(-x))\n",
    "print(f(h(t)))"
   ]
  },
  {
   "cell_type": "markdown",
   "metadata": {},
   "source": [
    "Para dibujar usamos la orden plot que tiene numerosas opciones, algunas de las cuales hemos usado con anterioridad. Aquí repasamos con algunos ejemplos: primero, dibujaremos la gráfica de la función $f(x) = (x^2-1)/(x^2+1)$ para $x$ entre $-2$ y $5$, y con la opción figsize indicamos el tamaño del dibujo (la opción por defecto es figsize=8):"
   ]
  },
  {
   "cell_type": "code",
   "execution_count": 27,
   "metadata": {},
   "outputs": [
    {
     "data": {
      "image/png": "[encoded data removed]",
      "text/plain": [
       "Graphics object consisting of 1 graphics primitive"
      ]
     },
     "execution_count": 27,
     "metadata": {},
     "output_type": "execute_result"
    }
   ],
   "source": [
    "reset()\n",
    "f(x)=(x^2-1)/(x^2+1)\n",
    "plot(f(x),(x,-2,5),figsize=4)"
   ]
  },
  {
   "cell_type": "markdown",
   "metadata": {},
   "source": [
    "Representamos ahora la función $\\displaystyle f(x) = \\frac{x}{x^3-1}$ con $x$ entre $-1$ y $3$ :"
   ]
  },
  {
   "cell_type": "code",
   "execution_count": 28,
   "metadata": {},
   "outputs": [
    {
     "data": {
      "image/png": "[encoded data removed]",
      "text/plain": [
       "Graphics object consisting of 1 graphics primitive"
      ]
     },
     "execution_count": 28,
     "metadata": {},
     "output_type": "execute_result"
    }
   ],
   "source": [
    "reset()\n",
    "f(x)=x/(x^3-1)\n",
    "plot(f(x),(x,-1,3),figsize=5)"
   ]
  },
  {
   "cell_type": "markdown",
   "metadata": {},
   "source": [
    "No se distingue nada. ¿Qué ha ocurrido? Sage intenta representar toda la función, pero cuando $x$ está cerca de $1$ esta función toma valores muy grandes (positivos o negativos); observemos la escala del eje vertical.\n",
    "\n",
    "Podemos evitar esto si limitamos los valores del eje vertical; para lo cual tenemos las opciones ymin e ymax:"
   ]
  },
  {
   "cell_type": "code",
   "execution_count": 29,
   "metadata": {},
   "outputs": [
    {
     "data": {
      "image/png": "[encoded data removed]",
      "text/plain": [
       "Graphics object consisting of 1 graphics primitive"
      ]
     },
     "execution_count": 29,
     "metadata": {},
     "output_type": "execute_result"
    }
   ],
   "source": [
    "plot(f(x),(x,-1,3),figsize=5,ymin=-2,ymax=4)"
   ]
  },
  {
   "cell_type": "markdown",
   "metadata": {},
   "source": [
    "La línea vertical en realidad no es parte de la gráfica. Podemos evitar que aparezca con la opción detect\\_poles='True'. Con detect\\_poles='show', aparecerá una linea discontinua:"
   ]
  },
  {
   "cell_type": "code",
   "execution_count": 30,
   "metadata": {},
   "outputs": [
    {
     "data": {
      "image/png": "[encoded data removed]",
      "text/plain": [
       "Graphics object consisting of 4 graphics primitives"
      ]
     },
     "execution_count": 30,
     "metadata": {},
     "output_type": "execute_result"
    }
   ],
   "source": [
    "plot(f(x),(x,-1,3),ymin=-2,ymax=4,figsize=5,detect_poles='show')"
   ]
  },
  {
   "cell_type": "markdown",
   "metadata": {},
   "source": [
    "Otras opciones útiles son:\n",
    "\n",
    "-   aspect\\_ratio=1 , que fuerza a emplear la misma escala en los dos ejes;\n",
    "-   color='red' , que indica el color, en este caso rojo, de la curva;\n",
    "-   linestyle='dashed' , que indica el trazo, en este caso discontinuo, de la curva.\n",
    "\n",
    "Para representar dos o más funciones juntas (en realidad, para hacer dos o más gráficas juntas) lo mejor es dar un nombre a cada plot y luego juntarlos con el símbolo +. Por ejemplo, llamamos gf a la gráfica de la función $f(x) = \\frac{x}{x^3-1}$, que ya tenemos definida, para $x$ entre $-1$ y $3$, y al introducir la orden, veremos que no la enseña:"
   ]
  },
  {
   "cell_type": "code",
   "execution_count": 31,
   "metadata": {},
   "outputs": [],
   "source": [
    "gf=plot(f(x),(x,-1,3),ymin=-2,ymax=4,detect_poles='True',figsize=5)"
   ]
  },
  {
   "cell_type": "markdown",
   "metadata": {},
   "source": [
    "Calculamos ahora la gráfica de la función $h(x)=(x-1)^2$ para $x \\in (0,4)$ y la llamamos gh:"
   ]
  },
  {
   "cell_type": "code",
   "execution_count": 32,
   "metadata": {},
   "outputs": [],
   "source": [
    "h(x)=(x-1)^2\n",
    "gh=plot(h(x),(x,0,4),color='red',linestyle='dashed',figsize=5)"
   ]
  },
  {
   "cell_type": "markdown",
   "metadata": {},
   "source": [
    "Las dos gráficas se ven juntas con:"
   ]
  },
  {
   "cell_type": "code",
   "execution_count": 33,
   "metadata": {},
   "outputs": [
    {
     "data": {
      "image/png": "[encoded data removed]",
      "text/plain": [
       "Graphics object consisting of 4 graphics primitives"
      ]
     },
     "execution_count": 33,
     "metadata": {},
     "output_type": "execute_result"
    }
   ],
   "source": [
    "gf+gh"
   ]
  },
  {
   "cell_type": "markdown",
   "metadata": {},
   "source": [
    "Con la orden show podemos añadir opciones nuevas a las gráficas, o modificar algunas de las que ya había:"
   ]
  },
  {
   "cell_type": "code",
   "execution_count": 34,
   "metadata": {},
   "outputs": [
    {
     "data": {
      "image/png": "[encoded data removed]",
      "text/plain": [
       "Graphics object consisting of 4 graphics primitives"
      ]
     },
     "metadata": {},
     "output_type": "display_data"
    }
   ],
   "source": [
    "(gf+gh).show(ymax=6,xmax=3,figsize=3)"
   ]
  },
  {
   "cell_type": "markdown",
   "metadata": {},
   "source": [
    "A continuación, añadimos a la gráfica anterior el dibujo del punto $(1,0)$ :"
   ]
  },
  {
   "cell_type": "code",
   "execution_count": 35,
   "metadata": {},
   "outputs": [
    {
     "data": {
      "image/png": "[encoded data removed]",
      "text/plain": [
       "Graphics object consisting of 5 graphics primitives"
      ]
     },
     "metadata": {},
     "output_type": "display_data"
    }
   ],
   "source": [
    "P=point([(1,0)], pointsize=40, color='black')\n",
    "(gf+gh+P).show(ymax=6,xmax=3,figsize=3)"
   ]
  },
  {
   "cell_type": "markdown",
   "metadata": {},
   "source": [
    "Acabamos con problemas típicos en los que Sage nos puede ayudar.\n",
    "\n",
    "**Ejemplo 1:** Hallar el dominio de definición de la función $f(x)=\\log\\frac{1+x}{1-x}$. Dibujarla y estudiar si es par o impar. \\**\\**"
   ]
  },
  {
   "cell_type": "code",
   "execution_count": 36,
   "metadata": {},
   "outputs": [
    {
     "data": {
      "text/plain": [
       "[[x > -1, x < 1]]"
      ]
     },
     "execution_count": 36,
     "metadata": {},
     "output_type": "execute_result"
    }
   ],
   "source": [
    "reset()\n",
    "solve((1+x)/(1-x)>0,x) # así, vemos que dominio f = (-1,1)"
   ]
  },
  {
   "cell_type": "code",
   "execution_count": 37,
   "metadata": {},
   "outputs": [
    {
     "data": {
      "image/png": "[encoded data removed]",
      "text/plain": [
       "Graphics object consisting of 1 graphics primitive"
      ]
     },
     "execution_count": 37,
     "metadata": {},
     "output_type": "execute_result"
    }
   ],
   "source": [
    "f(x)=log((1+x)/(1-x)) # parece que es impar\n",
    "plot(f(x),x,-1,1,figsize=4,ymin=-5,ymax=5)"
   ]
  },
  {
   "cell_type": "code",
   "execution_count": 38,
   "metadata": {},
   "outputs": [
    {
     "data": {
      "text/plain": [
       "log(-(x + 1)/(x - 1)) + log(-(x - 1)/(x + 1))"
      ]
     },
     "execution_count": 38,
     "metadata": {},
     "output_type": "execute_result"
    }
   ],
   "source": [
    "(f(x)+f(-x)).full_simplify()"
   ]
  },
  {
   "cell_type": "markdown",
   "metadata": {},
   "source": [
    "Sage no ve que la expresión anterior es $0$, pero es inmediato (usando $\\log(a/b)=\\log a  - \\log b$).\n",
    "\n",
    "**Ejemplo 2:** Sea la función $\\displaystyle f(x)=\\sin\\frac{2\\pi x}{3}+\\cos\\frac{\\pi x}{2}$. A la vista de su gráfica, analizar si es periódica y encontrar el periodo más pequeño."
   ]
  },
  {
   "cell_type": "code",
   "execution_count": 39,
   "metadata": {},
   "outputs": [
    {
     "data": {
      "image/png": "[encoded data removed]",
      "text/plain": [
       "Graphics object consisting of 1 graphics primitive"
      ]
     },
     "execution_count": 39,
     "metadata": {},
     "output_type": "execute_result"
    }
   ],
   "source": [
    "reset()\n",
    "f(x)=sin(2*pi*x/3)+cos(pi*x/2)\n",
    "plot(f(x),(x,-20,20),figsize=5)"
   ]
  },
  {
   "cell_type": "markdown",
   "metadata": {},
   "source": [
    "Observando la gráfica se aprecia la periodicidad. Además parece que el periodo más pequeño es 12:"
   ]
  },
  {
   "cell_type": "code",
   "execution_count": 40,
   "metadata": {},
   "outputs": [
    {
     "data": {
      "text/plain": [
       "0"
      ]
     },
     "execution_count": 40,
     "metadata": {},
     "output_type": "execute_result"
    }
   ],
   "source": [
    "(f(x)-f(x+12)).full_simplify() # en efecto"
   ]
  },
  {
   "cell_type": "markdown",
   "metadata": {},
   "source": [
    "**Ejemplo 3:** Sean las funciones $f(x)=x^2$, $g(x)=2^x$ y $h(x)=\\sin x$. Escribir explícitamente como función de $x$ las expresiones: $(f\\circ g)(x^2)$, $(g \\circ f)(x)$, $(f\\circ h)(x^3-2)$ y $(f\\circ g\\circ h)(x^2)$. \\**\\**"
   ]
  },
  {
   "cell_type": "code",
   "execution_count": 41,
   "metadata": {},
   "outputs": [],
   "source": [
    "reset()\n",
    "f(x)=x^2\n",
    "g(x)=2^x\n",
    "h(x)=sin(x)"
   ]
  },
  {
   "cell_type": "code",
   "execution_count": 42,
   "metadata": {},
   "outputs": [
    {
     "data": {
      "text/html": [
       "<html><script type=\"math/tex; mode=display\">\\newcommand{\\Bold}[1]{\\mathbf{#1}}2^{2 \\, x^{2}}</script></html>"
      ],
      "text/plain": [
       "2^(2*x^2)"
      ]
     },
     "metadata": {},
     "output_type": "display_data"
    },
    {
     "data": {
      "text/html": [
       "<html><script type=\"math/tex; mode=display\">\\newcommand{\\Bold}[1]{\\mathbf{#1}}2^{\\left(x^{2}\\right)}</script></html>"
      ],
      "text/plain": [
       "2^(x^2)"
      ]
     },
     "metadata": {},
     "output_type": "display_data"
    },
    {
     "data": {
      "text/html": [
       "<html><script type=\"math/tex; mode=display\">\\newcommand{\\Bold}[1]{\\mathbf{#1}}\\sin\\left(x^{3} - 2\\right)^{2}</script></html>"
      ],
      "text/plain": [
       "sin(x^3 - 2)^2"
      ]
     },
     "metadata": {},
     "output_type": "display_data"
    },
    {
     "data": {
      "text/html": [
       "<html><script type=\"math/tex; mode=display\">\\newcommand{\\Bold}[1]{\\mathbf{#1}}2^{2 \\, \\sin\\left(x^{2}\\right)}</script></html>"
      ],
      "text/plain": [
       "2^(2*sin(x^2))"
      ]
     },
     "metadata": {},
     "output_type": "display_data"
    }
   ],
   "source": [
    "show(f(g(x^2)).full_simplify())\n",
    "show(g(f(x)))\n",
    "show(f(h(x^3-2)))\n",
    "show(f(g(h(x^2))).full_simplify())"
   ]
  },
  {
   "cell_type": "markdown",
   "metadata": {},
   "source": [
    "------------------------------------------------------------------------"
   ]
  }
 ],
 "metadata": {
  "kernelspec": {
   "display_name": "SageMath 9.1",
   "language": "sage",
   "name": "sagemath"
  },
  "language_info": {
   "codemirror_mode": {
    "name": "ipython",
    "version": 3
   },
   "file_extension": ".py",
   "mimetype": "text/x-python",
   "name": "python",
   "nbconvert_exporter": "python",
   "pygments_lexer": "ipython3",
   "version": "3.7.3"
  }
 },
 "nbformat": 4,
 "nbformat_minor": 4
}
