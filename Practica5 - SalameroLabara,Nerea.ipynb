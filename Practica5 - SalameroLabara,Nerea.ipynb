{
 "cells": [
  {
   "cell_type": "markdown",
   "metadata": {},
   "source": [
    "$$\n",
    "\\def\\CC{\\bf C}\n",
    "\\def\\QQ{\\bf Q}\n",
    "\\def\\RR{\\bf R}\n",
    "\\def\\ZZ{\\bf Z}\n",
    "\\def\\NN{\\bf N}\n",
    "$$\n",
    "# Hoja de trabajo 5. \n",
    "\n",
    "# Resolver los siguientes ejercicios:\n",
    "\n",
    "Ejercicio 1. Calcular la primitiva de la función racional: \n",
    "\n",
    " $\\displaystyle R(x)=\\frac{x^8+x^6-x-1}{x^7+3x^6+4x^5+2x^4-2x^3-4x^2-3x-1}$.\n",
    "\n",
    "Comprobar derivando que los resultados son correctos.\n",
    "\n",
    "**Nota.** En general, para hallar una primitiva de una función racional hay que saber descomponerla en fracciones, lo que conlleva también saber los ceros del denominador. Para esto, Sage tiene órdenes como factor o partial\\_fraction (con la sintaxis f(x).partial\\_fraction()), que pueden ayudar mucho al que quiera practicar con esta clase de problemas. Por ejemplo, para las funciones racionales de este ejercicio, las descomposiciones en fracciones simples son:"
   ]
  },
  {
   "cell_type": "code",
   "execution_count": 32,
   "metadata": {},
   "outputs": [
    {
     "data": {
      "text/html": [
       "<html><script type=\"math/tex; mode=display\">\\newcommand{\\Bold}[1]{\\mathbf{#1}}\\frac{1}{2} \\, x^{2} - \\frac{5}{9} \\, \\sqrt{3} \\arctan\\left(\\frac{1}{3} \\, \\sqrt{3} {\\left(2 \\, x + 1\\right)}\\right) - 3 \\, x + \\frac{5 \\, x^{2} + 6 \\, x + 4}{3 \\, {\\left(x^{3} + 2 \\, x^{2} + 2 \\, x + 1\\right)}} + \\frac{1}{2} \\, \\log\\left(x^{2} + x + 1\\right) + 5 \\, \\log\\left(x + 1\\right)</script></html>"
      ],
      "text/plain": [
       "1/2*x^2 - 5/9*sqrt(3)*arctan(1/3*sqrt(3)*(2*x + 1)) - 3*x + 1/3*(5*x^2 + 6*x + 4)/(x^3 + 2*x^2 + 2*x + 1) + 1/2*log(x^2 + x + 1) + 5*log(x + 1)"
      ]
     },
     "metadata": {},
     "output_type": "display_data"
    }
   ],
   "source": [
    "f(x) = (x^8 + x^6 - x - 1) / (x^7 + 3*x^6 + 4*x^5 + 2*x^4 - 2*x^3 - 4*x^2 - 3*x - 1)\n",
    "integrate(f(x),x).show()"
   ]
  },
  {
   "cell_type": "code",
   "execution_count": 42,
   "metadata": {},
   "outputs": [
    {
     "data": {
      "text/html": [
       "<html><script type=\"math/tex; mode=display\">\\newcommand{\\Bold}[1]{\\mathbf{#1}}0</script></html>"
      ],
      "text/plain": [
       "0"
      ]
     },
     "metadata": {},
     "output_type": "display_data"
    }
   ],
   "source": [
    "g(x)=integrate(f(x),x)\n",
    "diff(g(x),x)\n",
    "(f(x)-diff(g(x),x)).full_simplify().show()"
   ]
  },
  {
   "cell_type": "markdown",
   "metadata": {},
   "source": [
    "Ejercicio 2.Calcular las siguientes integrales definidas, si es posible de forma exacta y si no, aproximada:\n",
    "\n",
    "1.  $\\displaystyle \\int_0^{\\sqrt{48}} x^2[x]\\,dx$, donde $[x]$ denota la parte entera del número $x$, que en Sage se introduce con floor(x).\n",
    "2.  $\\displaystyle \\int_0^\\pi \\frac{x\\operatorname{sen} x}{1+\\cos^2 x}\\,dx$.\n",
    "\n",
    "Dibujar también, en cada caso, la región comprendida entre la función y el eje OX, entre los límites de integración."
   ]
  },
  {
   "cell_type": "code",
   "execution_count": 21,
   "metadata": {},
   "outputs": [
    {
     "data": {
      "text/html": [
       "<html><script type=\"math/tex; mode=display\">\\newcommand{\\Bold}[1]{\\mathbf{#1}}384 \\, \\sqrt{3} - 147</script></html>"
      ],
      "text/plain": [
       "384*sqrt(3) - 147"
      ]
     },
     "metadata": {},
     "output_type": "display_data"
    }
   ],
   "source": [
    "reset()\n",
    "integrate(x^2*floor(x),x,0,(48^(1/2))).show()"
   ]
  },
  {
   "cell_type": "code",
   "execution_count": null,
   "metadata": {},
   "outputs": [
    {
     "data": {
      "image/png": "[encoded data removed]",
      "text/plain": [
       "Graphics object consisting of 3 graphics primitives"
      ]
     },
     "metadata": {},
     "output_type": "display_data"
    }
   ],
   "source": [
    "f(x) = x^2*floor(x)\n",
    "g(x) = 0\n",
    "A=plot(f(x),x,-4,4)\n",
    "B=plot(g(x),x,-4,4,fill=f(x),color='red')\n",
    "(A+B).show(figsize=3)"
   ]
  },
  {
   "cell_type": "code",
   "execution_count": 30,
   "metadata": {},
   "outputs": [
    {
     "data": {
      "text/plain": [
       "[x == 0, floor(x) == 0]"
      ]
     },
     "execution_count": 30,
     "metadata": {},
     "output_type": "execute_result"
    }
   ],
   "source": [
    "solve(f(x) == g(x),x)"
   ]
  },
  {
   "cell_type": "code",
   "execution_count": 25,
   "metadata": {},
   "outputs": [
    {
     "data": {
      "text/plain": [
       "2.4674011002723395"
      ]
     },
     "execution_count": 25,
     "metadata": {},
     "output_type": "execute_result"
    }
   ],
   "source": [
    "reset()\n",
    "numerical_integral((x*sin(x))/(1+cos(x)^2),0,pi)[0]"
   ]
  },
  {
   "cell_type": "code",
   "execution_count": 35,
   "metadata": {},
   "outputs": [
    {
     "data": {
      "image/png": "[encoded data removed]",
      "text/plain": [
       "Graphics object consisting of 3 graphics primitives"
      ]
     },
     "metadata": {},
     "output_type": "display_data"
    }
   ],
   "source": [
    "f(x) = (x*sin(x))/(1+cos(x)^2)\n",
    "g(x) = 0\n",
    "A=plot(f(x),x,-4,4)\n",
    "B=plot(g(x),x,-4,4,fill=f(x),color='red')\n",
    "(A+B).show(figsize=3)"
   ]
  },
  {
   "cell_type": "code",
   "execution_count": 33,
   "metadata": {},
   "outputs": [
    {
     "data": {
      "text/plain": [
       "[0 == x^7 + x^6 + 2*x^5 + 2*x^4 + 2*x^3 + 2*x^2 + 2*x + 1]"
      ]
     },
     "execution_count": 33,
     "metadata": {},
     "output_type": "execute_result"
    }
   ],
   "source": [
    "solve(f(x) == g(x),x)"
   ]
  },
  {
   "cell_type": "markdown",
   "metadata": {},
   "source": [
    "Ejercicio 3. Calcular el valor $a>0$ tal que $\\displaystyle \\int_0^a (e^x-\\frac12 e^{2x})\\,dx=0$. Para dicho valor, dibujar la función entre $x=0$ y $x=a$. A la vista de la figura, ¿qué significa que la integral sea $0$?"
   ]
  },
  {
   "cell_type": "code",
   "execution_count": 65,
   "metadata": {},
   "outputs": [],
   "source": [
    "var('a')\n",
    "f(x) = exp(x)-((1/2)*(exp(2*x)))"
   ]
  },
  {
   "cell_type": "code",
   "execution_count": 66,
   "metadata": {},
   "outputs": [
    {
     "data": {
      "text/plain": [
       "[a == log(3), a == 0]"
      ]
     },
     "execution_count": 66,
     "metadata": {},
     "output_type": "execute_result"
    }
   ],
   "source": [
    "solve(integrate(f(x),x,0,a)==0,a)"
   ]
  },
  {
   "cell_type": "code",
   "execution_count": 67,
   "metadata": {},
   "outputs": [
    {
     "data": {
      "image/png": "[encoded data removed]",
      "text/plain": [
       "Graphics object consisting of 1 graphics primitive"
      ]
     },
     "execution_count": 67,
     "metadata": {},
     "output_type": "execute_result"
    }
   ],
   "source": [
    "plot(f(x),x,0,log(3))"
   ]
  },
  {
   "cell_type": "markdown",
   "metadata": {},
   "source": [
    "Ejercicio 4. Comprobar que Sage sabe calcular la integral impropia $I=\\displaystyle \\int_0^{+\\infty} \\frac{\\log x}{1+x^3}dx$ y sin embargo no sabe calcular $I_1=\\displaystyle \\int_0^{1} \\frac{\\log x}{1+x^3}dx$ ni $I_2=\\displaystyle \\int_1^{+\\infty} \\frac{\\log x}{1+x^3}dx$. Verificar numéricamente que $I=I_1+I_2$."
   ]
  },
  {
   "cell_type": "code",
   "execution_count": 83,
   "metadata": {},
   "outputs": [
    {
     "data": {
      "text/html": [
       "<html><script type=\"math/tex; mode=display\">\\newcommand{\\Bold}[1]{\\mathbf{#1}}-\\frac{2}{27} \\, \\pi^{2}</script></html>"
      ],
      "text/plain": [
       "-2/27*pi^2"
      ]
     },
     "metadata": {},
     "output_type": "display_data"
    }
   ],
   "source": [
    "reset()\n",
    "f(x)=log(x)/(1+x^3)\n",
    "integrate(f(x),x,0,oo).show()"
   ]
  },
  {
   "cell_type": "code",
   "execution_count": 84,
   "metadata": {},
   "outputs": [
    {
     "data": {
      "text/plain": [
       "(-0.9515177118708003, 6.984563553952758e-07)"
      ]
     },
     "execution_count": 84,
     "metadata": {},
     "output_type": "execute_result"
    }
   ],
   "source": [
    "g(x)=log(x)/(1+x^3)\n",
    "numerical_integral(g(x),0,1)"
   ]
  },
  {
   "cell_type": "code",
   "execution_count": 85,
   "metadata": {},
   "outputs": [
    {
     "data": {
      "text/plain": [
       "(-0.7310818074887685, 4.3560832874156574e-07)"
      ]
     },
     "execution_count": 85,
     "metadata": {},
     "output_type": "execute_result"
    }
   ],
   "source": [
    "h(x)=log(x)/(1+x^3)\n",
    "numerical_integral(h(x),0,oo)"
   ]
  },
  {
   "cell_type": "code",
   "execution_count": 86,
   "metadata": {
    "scrolled": true
   },
   "outputs": [
    {
     "data": {
      "text/plain": [
       "log(x)/(x^3 + 1) == 2*log(x)/(x^3 + 1)"
      ]
     },
     "execution_count": 86,
     "metadata": {},
     "output_type": "execute_result"
    }
   ],
   "source": [
    "f(x) == g(x)+h(x)"
   ]
  },
  {
   "cell_type": "markdown",
   "metadata": {},
   "source": [
    "Ejercicio 6. Demostrar que la longitud del trozo de la parábola $y=x^2$ comprendido entre los puntos de corte con la recta $y=4$ es aproximadamente $9{,}3$."
   ]
  },
  {
   "cell_type": "code",
   "execution_count": 89,
   "metadata": {},
   "outputs": [
    {
     "data": {
      "text/html": [
       "<html><script type=\"math/tex; mode=display\">\\newcommand{\\Bold}[1]{\\mathbf{#1}}2 \\, \\sqrt{17} + \\frac{1}{2} \\, \\operatorname{arsinh}\\left(4\\right)</script></html>"
      ],
      "text/plain": [
       "2*sqrt(17) + 1/2*arcsinh(4)"
      ]
     },
     "metadata": {},
     "output_type": "display_data"
    }
   ],
   "source": [
    "g(x)=sqrt(1+diff(x^2,x)^2)\n",
    "integrate(g(x),x,-2,2).show()"
   ]
  },
  {
   "cell_type": "code",
   "execution_count": 91,
   "metadata": {},
   "outputs": [
    {
     "data": {
      "text/plain": [
       "(9.29356752486587, 2.181085932170125e-09)"
      ]
     },
     "execution_count": 91,
     "metadata": {},
     "output_type": "execute_result"
    }
   ],
   "source": [
    "numerical_integral(g(x),-2,2) #La longitud es 9.29, con un error de 2.18e-0.9"
   ]
  },
  {
   "cell_type": "markdown",
   "metadata": {},
   "source": [
    "Ejercicio 7. Dibujar el recinto limitado por la circunferencia $x^2+y^2=1$, su recta tangente en el punto $\\left(\\frac{1}{2},\\frac{\\sqrt{3}}{2}\\right)$ y el eje OX. Calcular el área de este recinto. *Ayuda:* la ecuación de la recta tangente en un punto $(x_0,y_0)$ es $y=f(x_0)+f'(x_0)(x-x_0)$."
   ]
  },
  {
   "cell_type": "code",
   "execution_count": null,
   "metadata": {},
   "outputs": [],
   "source": [
    "#no me ha dado tiempo a hacer este ejercicio."
   ]
  },
  {
   "cell_type": "code",
   "execution_count": null,
   "metadata": {},
   "outputs": [],
   "source": []
  },
  {
   "cell_type": "markdown",
   "metadata": {},
   "source": [
    "Ejercicio 8 (complementario). Dibujar el recinto limitado por las parábolas $y=x^2$; $y=8x^2$; $x=y^2$; $x=8y^2$; calcular su área."
   ]
  },
  {
   "cell_type": "code",
   "execution_count": null,
   "metadata": {},
   "outputs": [],
   "source": []
  }
 ],
 "metadata": {
  "kernelspec": {
   "display_name": "SageMath 9.1",
   "language": "sage",
   "name": "sagemath"
  },
  "language_info": {
   "codemirror_mode": {
    "name": "ipython",
    "version": 3
   },
   "file_extension": ".py",
   "mimetype": "text/x-python",
   "name": "python",
   "nbconvert_exporter": "python",
   "pygments_lexer": "ipython3",
   "version": "3.7.3"
  }
 },
 "nbformat": 4,
 "nbformat_minor": 4
}
