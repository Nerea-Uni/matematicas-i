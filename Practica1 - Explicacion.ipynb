{
 "cells": [
  {
   "cell_type": "markdown",
   "metadata": {},
   "source": [
    "$$\n",
    "\\def\\CC{\\bf C}\n",
    "\\def\\QQ{\\bf Q}\n",
    "\\def\\RR{\\bf R}\n",
    "\\def\\ZZ{\\bf Z}\n",
    "\\def\\NN{\\bf N}\n",
    "$$\n",
    "# Introducción a Sage\n",
    "\n",
    "En esta primera práctica nos familiarizaremos con Sage. Aprenderemos a usar esta aplicación desde un punto de vista general, pero siempre con una mirada puesta en el análisis de funciones de una variable real. Primero necesitamos conocer qué podemos hacer con los números reales: cómo hacer operaciones con ellos, cómo introducirlos como símbolos o variables, cómo simplificar expresiones, cómo resolver algunas ecuaciones, cómo crear listas con ellos. Después veremos cómo se introducen las funciones, cómo las podemos evaluar en uno o más puntos, cómo operar algebraicamente con ellas y cómo representarlas gráficamente. Muchas de estas cosas puede que sean bien conocidas y en todo caso se observará que la sintaxis es parecida a otras aplicaciones como Maxima, Maple, Matlab o Mathematica. Por esa razón iremos rápido al principio; si alguien necesitara más tiempo para retener algunos conceptos, tendrá la práctica a su disposición para trabajarla en casa.\n",
    "\n",
    "Para introducir un recuadro buscamos una línea azul y con el cursor allí picamos con el ratón. Para introducir un texto buscamos la línea azul y con el cursor allí y las mayúsculas pulsadas, picamos con el ratón; aparecerá un editor de texto donde podemos escribir los comentarios pertinentes (acordándonos de guardar los cambios). Las órdenes las escribimos dentro de los recuadros y para introducirlas pulsamos mayúsculas + *enter* (o el boton \"execute\" que aparece abajo). Si pulsamos sólo *enter* , pasamos a otra línea dentro del recuadro y eso sería otra orden. Sage sólo mostrará el resultado correspondiente a la última línea del recuadro.\n",
    "\n",
    "Contenido:\n",
    "\n",
    "-   Sage como calculadora\n",
    "-   Cálculo simbólico\n",
    "-   Listas\n",
    "-   Sumas\n",
    "-   Ecuaciones e inecuaciones\n",
    "-   Funciones\n",
    "-   Ejercicios resueltos\n",
    "\n",
    "## 1. Sage como calculadora\n",
    "\n",
    "Sage utiliza los signos +, -, \\*, / y ^ para las habituales operaciones, utiliza los paréntesis para agrupar las operaciones y la parte decimal de un número se escribe con un punto de separación."
   ]
  },
  {
   "cell_type": "code",
   "execution_count": 103,
   "metadata": {},
   "outputs": [
    {
     "data": {
      "text/plain": [
       "19/3"
      ]
     },
     "execution_count": 103,
     "metadata": {},
     "output_type": "execute_result"
    }
   ],
   "source": [
    "5+4/3 # no se ejecuta lo escrito después del símbolo \"#\""
   ]
  },
  {
   "cell_type": "markdown",
   "metadata": {},
   "source": [
    "**Nota.-** Sage realiza cálculos exactos: operando con números racionales obtenemos un número racional y no su representación decimal, como efectúa una calculadora convencional, que hubiera dado 6,3333333...."
   ]
  },
  {
   "cell_type": "code",
   "execution_count": 104,
   "metadata": {},
   "outputs": [
    {
     "data": {
      "text/plain": [
       "3"
      ]
     },
     "execution_count": 104,
     "metadata": {},
     "output_type": "execute_result"
    }
   ],
   "source": [
    "(5+4)/3 # el uso de paréntesis modifica el orden de las operaciones"
   ]
  },
  {
   "cell_type": "code",
   "execution_count": 105,
   "metadata": {},
   "outputs": [
    {
     "data": {
      "text/plain": [
       "108"
      ]
     },
     "execution_count": 105,
     "metadata": {},
     "output_type": "execute_result"
    }
   ],
   "source": [
    "5^3\n",
    "6^2*3"
   ]
  },
  {
   "cell_type": "markdown",
   "metadata": {},
   "source": [
    "Sólo veremos el resultado correspondiente a la última línea del recuadro. Si queremos ver los anteriores, ponemos **print** delante de la línea, usamos el comando **show** (que muestra el resultado en un formato *matemático* y que será interesante para fórmulas), o separamos las órdenes en la misma línea con un punto y coma."
   ]
  },
  {
   "cell_type": "code",
   "execution_count": 106,
   "metadata": {},
   "outputs": [
    {
     "name": "stdout",
     "output_type": "stream",
     "text": [
      "125\n"
     ]
    },
    {
     "data": {
      "text/html": [
       "<html><script type=\"math/tex; mode=display\">\\newcommand{\\Bold}[1]{\\mathbf{#1}}125</script></html>"
      ],
      "text/plain": [
       "125"
      ]
     },
     "metadata": {},
     "output_type": "display_data"
    },
    {
     "data": {
      "text/plain": [
       "108"
      ]
     },
     "execution_count": 106,
     "metadata": {},
     "output_type": "execute_result"
    }
   ],
   "source": [
    "print 5^3\n",
    "show(5^3) # observar que lo que devuelve tiene una letra diferente\n",
    "6^2*3"
   ]
  },
  {
   "cell_type": "code",
   "execution_count": 107,
   "metadata": {},
   "outputs": [
    {
     "data": {
      "text/plain": [
       "17/5"
      ]
     },
     "execution_count": 107,
     "metadata": {},
     "output_type": "execute_result"
    }
   ],
   "source": [
    "5^3; 6^2*3; 34/10"
   ]
  },
  {
   "cell_type": "code",
   "execution_count": 108,
   "metadata": {},
   "outputs": [
    {
     "data": {
      "text/plain": [
       "3486784401/742400000"
      ]
     },
     "execution_count": 108,
     "metadata": {},
     "output_type": "execute_result"
    }
   ],
   "source": [
    "3^20/(725000*1024) # devuelve una fracción, si puede, simplificada."
   ]
  },
  {
   "cell_type": "markdown",
   "metadata": {},
   "source": [
    "Para obtener aproximaciones numéricas (el número en formato decimal con cierto número de decimales) usamos el comando **N** (o **n**, que es lo mismo). Si alguno de los números involucrados en el cálculo tiene decimales, devolverá el resultado en formato decimal."
   ]
  },
  {
   "cell_type": "code",
   "execution_count": 109,
   "metadata": {},
   "outputs": [
    {
     "data": {
      "text/plain": [
       "4.69663847117457"
      ]
     },
     "execution_count": 109,
     "metadata": {},
     "output_type": "execute_result"
    }
   ],
   "source": [
    "N(3^20/(725000*1024)) # número aproximado con 14 decimales"
   ]
  },
  {
   "cell_type": "code",
   "execution_count": 110,
   "metadata": {},
   "outputs": [
    {
     "data": {
      "text/plain": [
       "0.291666666666667"
      ]
     },
     "execution_count": 110,
     "metadata": {},
     "output_type": "execute_result"
    }
   ],
   "source": [
    "1.75/6"
   ]
  },
  {
   "cell_type": "code",
   "execution_count": 111,
   "metadata": {},
   "outputs": [
    {
     "data": {
      "text/plain": [
       "4.69663847117457"
      ]
     },
     "execution_count": 111,
     "metadata": {},
     "output_type": "execute_result"
    }
   ],
   "source": [
    "3.0^20/(725000*1024) # 3 es entero y 3.0 decimal (no hace falta N)"
   ]
  },
  {
   "cell_type": "markdown",
   "metadata": {},
   "source": [
    "Para obtener más números decimales, usamos **N(número,digits=m)**, donde m es el número de decimales que deseamos:"
   ]
  },
  {
   "cell_type": "code",
   "execution_count": 118,
   "metadata": {},
   "outputs": [
    {
     "data": {
      "text/plain": [
       "4.6966384711745689655172413793103448275862068965517"
      ]
     },
     "execution_count": 118,
     "metadata": {},
     "output_type": "execute_result"
    }
   ],
   "source": [
    "N(3^20/(725000*1024),digits=50) # con más digitos"
   ]
  },
  {
   "cell_type": "markdown",
   "metadata": {},
   "source": [
    "**Nota.** Muchos comandos de Sage tienen dos formas de escribirse. Una sería **NOMBRECOMANDO(expresion,precisiones)** y la otra **expresion.NOMBRECOMANDO(precisiones)**. Observar el ejemplo con el comando **N**. Es decir, la expresión a la que queremos aplicar el comando salta adelante y se pone un punto."
   ]
  },
  {
   "cell_type": "code",
   "execution_count": 114,
   "metadata": {},
   "outputs": [
    {
     "data": {
      "text/plain": [
       "4.69663847117457"
      ]
     },
     "execution_count": 114,
     "metadata": {},
     "output_type": "execute_result"
    }
   ],
   "source": [
    "3^20/(725000*1024).n()"
   ]
  },
  {
   "cell_type": "code",
   "execution_count": 115,
   "metadata": {},
   "outputs": [
    {
     "data": {
      "text/plain": [
       "4.6966384711745689655172413793103448275862068965517"
      ]
     },
     "execution_count": 115,
     "metadata": {},
     "output_type": "execute_result"
    }
   ],
   "source": [
    "3^20/(725000*1024).n(digits=50)"
   ]
  },
  {
   "cell_type": "markdown",
   "metadata": {},
   "source": [
    "De todo lo que hemos hecho hasta ahora, Sage recuerda el último resultado que podemos recuperar con un guión bajo:"
   ]
  },
  {
   "cell_type": "code",
   "execution_count": 13,
   "metadata": {},
   "outputs": [
    {
     "data": {
      "text/plain": [
       "4.6966384711745689655172413793103448275862068965517"
      ]
     },
     "execution_count": 13,
     "metadata": {},
     "output_type": "execute_result"
    }
   ],
   "source": [
    "_"
   ]
  },
  {
   "cell_type": "markdown",
   "metadata": {},
   "source": [
    "Pero es mejor conservar el resultado anterior con el nombre de una letra (o varias), por ejemplo, la letra **a**."
   ]
  },
  {
   "cell_type": "code",
   "execution_count": 119,
   "metadata": {},
   "outputs": [],
   "source": [
    "a=3^20/(725000*1024).n(digits=50)"
   ]
  },
  {
   "cell_type": "markdown",
   "metadata": {},
   "source": [
    "A partir de ahora, Sage guarda (hasta que lo cambiemos) en una variable llamada **a** ese valor. Al asignar ese valor a la letra **a**, no hemos visto el resultado."
   ]
  },
  {
   "cell_type": "code",
   "execution_count": 120,
   "metadata": {},
   "outputs": [
    {
     "data": {
      "text/plain": [
       "4.6966384711745689655172413793103448275862068965517"
      ]
     },
     "execution_count": 120,
     "metadata": {},
     "output_type": "execute_result"
    }
   ],
   "source": [
    "a # aquí vemos que a es nuestro número"
   ]
  },
  {
   "cell_type": "code",
   "execution_count": 121,
   "metadata": {},
   "outputs": [
    {
     "data": {
      "text/html": [
       "<html><script type=\"math/tex; mode=display\">\\newcommand{\\Bold}[1]{\\mathbf{#1}}14.696638471174568965517241379310344827586206896552</script></html>"
      ],
      "text/plain": [
       "14.696638471174568965517241379310344827586206896552"
      ]
     },
     "metadata": {},
     "output_type": "display_data"
    },
    {
     "data": {
      "text/plain": [
       "22.058412928916992479612370875445897740784780023781"
      ]
     },
     "execution_count": 121,
     "metadata": {},
     "output_type": "execute_result"
    }
   ],
   "source": [
    "show(a+10) # podemos operar con a\n",
    "a^2        # a es 4.69663... (decimal) y el resultado es decimal"
   ]
  },
  {
   "cell_type": "code",
   "execution_count": 122,
   "metadata": {},
   "outputs": [
    {
     "data": {
      "text/plain": [
       "12157665459056928801/551157760000000000"
      ]
     },
     "execution_count": 122,
     "metadata": {},
     "output_type": "execute_result"
    }
   ],
   "source": [
    "b=3^20/(725000*1024) # b no es decimal, es racional\n",
    "b^2                  # el resultado será racional"
   ]
  },
  {
   "cell_type": "code",
   "execution_count": 123,
   "metadata": {},
   "outputs": [
    {
     "name": "stdout",
     "output_type": "stream",
     "text": [
      "22.058412928916992479612370875445897740784780023781\n"
     ]
    }
   ],
   "source": [
    "print N(b^2,digits=50) # esto es lo mismo que a^2, pero podría haber\n",
    "# habido pequeñas diferencias debidas al cálculo aproximado"
   ]
  },
  {
   "cell_type": "code",
   "execution_count": 124,
   "metadata": {},
   "outputs": [],
   "source": [
    "lamitad=a/2 # podemos definir nuevas variables a partir de otras"
   ]
  },
  {
   "cell_type": "code",
   "execution_count": 125,
   "metadata": {},
   "outputs": [
    {
     "data": {
      "text/plain": [
       "2.3483192355872844827586206896551724137931034482759"
      ]
     },
     "execution_count": 125,
     "metadata": {},
     "output_type": "execute_result"
    }
   ],
   "source": [
    "lamitad # observar que podemos usar muchas letras (7 en este caso)"
   ]
  },
  {
   "cell_type": "markdown",
   "metadata": {},
   "source": [
    "El valor que contiene una variable se puede cambiar en cualquier momento:"
   ]
  },
  {
   "cell_type": "code",
   "execution_count": 126,
   "metadata": {},
   "outputs": [
    {
     "data": {
      "text/html": [
       "<html><script type=\"math/tex; mode=display\">\\newcommand{\\Bold}[1]{\\mathbf{#1}}17</script></html>"
      ],
      "text/plain": [
       "17"
      ]
     },
     "metadata": {},
     "output_type": "display_data"
    }
   ],
   "source": [
    "lamitad=17\n",
    "show(lamitad)"
   ]
  },
  {
   "cell_type": "markdown",
   "metadata": {},
   "source": [
    "Y se puede borrar:"
   ]
  },
  {
   "cell_type": "code",
   "execution_count": 127,
   "metadata": {},
   "outputs": [
    {
     "ename": "NameError",
     "evalue": "name 'a' is not defined",
     "output_type": "error",
     "traceback": [
      "\u001b[0;31m---------------------------------------------------------------------------\u001b[0m",
      "\u001b[0;31mNameError\u001b[0m                                 Traceback (most recent call last)",
      "\u001b[0;32m/usr/local/sage-8.7/local/lib/python2.7/site-packages/sage/all_cmdline.pyc\u001b[0m in \u001b[0;36m<module>\u001b[0;34m()\u001b[0m\n\u001b[1;32m      1\u001b[0m \u001b[0mreset\u001b[0m\u001b[0;34m(\u001b[0m\u001b[0;34m'a'\u001b[0m\u001b[0;34m)\u001b[0m\u001b[0;34m\u001b[0m\u001b[0m\n\u001b[0;32m----> 2\u001b[0;31m \u001b[0mshow\u001b[0m\u001b[0;34m(\u001b[0m\u001b[0ma\u001b[0m\u001b[0;34m)\u001b[0m \u001b[0;31m# ya no sabe quién es a y vemos un mensaje de error\u001b[0m\u001b[0;34m\u001b[0m\u001b[0m\n\u001b[0m",
      "\u001b[0;31mNameError\u001b[0m: name 'a' is not defined"
     ]
    }
   ],
   "source": [
    "reset('a')\n",
    "show(a) # ya no sabe quién es a y vemos un mensaje de error"
   ]
  },
  {
   "cell_type": "markdown",
   "metadata": {},
   "source": [
    "Si queremos borrar las otras dos variables que hemos introducido ponemos **reset('b lamitad')** y si queremos borrar todas que, en nuestro caso actual es lo mismo, ponemos:"
   ]
  },
  {
   "cell_type": "code",
   "execution_count": 128,
   "metadata": {},
   "outputs": [],
   "source": [
    "reset() # borra todas las variables"
   ]
  },
  {
   "cell_type": "markdown",
   "metadata": {},
   "source": [
    "También podemos operar con números complejos; la unidad imaginaria se escribe I. Veamos cómo sabe, por ejemplo, hacer la operación :math:\\` (3+5i)^2=9-25+30i\\`"
   ]
  },
  {
   "cell_type": "code",
   "execution_count": 129,
   "metadata": {},
   "outputs": [
    {
     "data": {
      "text/plain": [
       "30*I - 16"
      ]
     },
     "execution_count": 129,
     "metadata": {},
     "output_type": "execute_result"
    }
   ],
   "source": [
    "(3+5*I)^2 # también vale i minúscula en vez de I"
   ]
  },
  {
   "cell_type": "markdown",
   "metadata": {},
   "source": [
    "## 2. Cálculo simbólico\n",
    "\n",
    "También podemos usar variables (o letras o símbolos si se les quiere llamar así) sin necesidad de asignarles una cantidad. Para esto, tenemos primero que declarar los nombres de las variables con la orden **var**. Por ejemplo, en los dos recuadros siguientes vamos a declarar unas variables $x$ e $y$ y comprobar que, efectivamente, siempre es $(x+y)^2=x^2+y^2+2xy$."
   ]
  },
  {
   "cell_type": "code",
   "execution_count": 130,
   "metadata": {},
   "outputs": [
    {
     "data": {
      "text/plain": [
       "(x, y)"
      ]
     },
     "execution_count": 130,
     "metadata": {},
     "output_type": "execute_result"
    }
   ],
   "source": [
    "var('x y') # importante separar; var('xy') crea la variable xy"
   ]
  },
  {
   "cell_type": "markdown",
   "metadata": {},
   "source": [
    "**Nota**. En realidad, la variable **x** no hace falta definirla. La letra **x** la entiende como variable por defecto. Las demás letras sí que es obligado definirlas."
   ]
  },
  {
   "cell_type": "code",
   "execution_count": 131,
   "metadata": {},
   "outputs": [],
   "source": [
    "a=(x+y)^2 -(x^2+y^2+2*x*y); # no hace falta declarar a como variable\n",
    "# con la asignación = es suficiente"
   ]
  },
  {
   "cell_type": "code",
   "execution_count": 132,
   "metadata": {},
   "outputs": [
    {
     "data": {
      "text/plain": [
       "(x + y)^2 - x^2 - 2*x*y - y^2"
      ]
     },
     "execution_count": 132,
     "metadata": {},
     "output_type": "execute_result"
    }
   ],
   "source": [
    "a"
   ]
  },
  {
   "cell_type": "code",
   "execution_count": 133,
   "metadata": {},
   "outputs": [
    {
     "data": {
      "text/html": [
       "<html><script type=\"math/tex; mode=display\">\\newcommand{\\Bold}[1]{\\mathbf{#1}}{\\left(x + y\\right)}^{2} - x^{2} - 2 \\, x y - y^{2}</script></html>"
      ],
      "text/plain": [
       "(x + y)^2 - x^2 - 2*x*y - y^2"
      ]
     },
     "metadata": {},
     "output_type": "display_data"
    }
   ],
   "source": [
    "show(a) # observar cómo show devuelve lo mismo en formato matemático"
   ]
  },
  {
   "cell_type": "markdown",
   "metadata": {},
   "source": [
    "Observamos que Sage no ha operado con la expresión. Pero nosotros sabemos que la cantidad anterior es $0$ para cualesquiera $x$ e $y$. Tenemos que simplificar la expresión anterior, pero es difícil dar una definición de lo que es una expresión simplificada. Por ejemplo en $(x+y)^2=x^2+y^2+2xy$, ¿qué expresión está más simplificada, la de la izquierda o la de la derecha? No está claro, depende del contexto o de lo que queramos hacer después. Por eso, Sage tiene varias órdenes dedicadas a la simplificación de expresiones, de la que destacamos en un principio **simplify**, **expand** (ejecuta multiplicaciones y potencias para convertir la expresión en una suma desarrollada), **factor** (si la expresión es un polinomio, lo factoriza, es decir, intenta expresarlo como productos) y **full\\_simplify** (aplica varios métodos de simplificación y devuelve la expresión más corta). Esta última función tiene sólo la sintaxis **expresion.full\\_simplify()**. Observar los siguientes ejemplos:"
   ]
  },
  {
   "cell_type": "code",
   "execution_count": 134,
   "metadata": {},
   "outputs": [
    {
     "data": {
      "text/plain": [
       "x^2 + 2*x*y + y^2"
      ]
     },
     "execution_count": 134,
     "metadata": {},
     "output_type": "execute_result"
    }
   ],
   "source": [
    "simplify((x+y)^2); expand((x+y)^2)"
   ]
  },
  {
   "cell_type": "code",
   "execution_count": 135,
   "metadata": {},
   "outputs": [
    {
     "data": {
      "text/plain": [
       "x^2 + 2*x*y + y^2"
      ]
     },
     "execution_count": 135,
     "metadata": {},
     "output_type": "execute_result"
    }
   ],
   "source": [
    "((x+y)^2).full_simplify()"
   ]
  },
  {
   "cell_type": "code",
   "execution_count": 136,
   "metadata": {},
   "outputs": [
    {
     "data": {
      "text/plain": [
       "0"
      ]
     },
     "execution_count": 136,
     "metadata": {},
     "output_type": "execute_result"
    }
   ],
   "source": [
    "a.full_simplify()"
   ]
  },
  {
   "cell_type": "code",
   "execution_count": 137,
   "metadata": {},
   "outputs": [
    {
     "data": {
      "text/plain": [
       "(x + y)^2"
      ]
     },
     "execution_count": 137,
     "metadata": {},
     "output_type": "execute_result"
    }
   ],
   "source": [
    "factor(x^2+y^2+2*x*y)"
   ]
  },
  {
   "cell_type": "markdown",
   "metadata": {},
   "source": [
    "Otra manera de ver la igualdad $(x+y)^2=x^2+y^2+2xy$ es con órdenes lógicas"
   ]
  },
  {
   "cell_type": "code",
   "execution_count": 138,
   "metadata": {},
   "outputs": [
    {
     "data": {
      "text/plain": [
       "True"
      ]
     },
     "execution_count": 138,
     "metadata": {},
     "output_type": "execute_result"
    }
   ],
   "source": [
    "bool((x+y)^2==x^2+y^2+2*x*y)"
   ]
  },
  {
   "cell_type": "markdown",
   "metadata": {},
   "source": [
    "Para evaluar una expresión que depende de variables en valores particulares de una o más de estas variables, se usa la siguiente sintaxis:"
   ]
  },
  {
   "cell_type": "code",
   "execution_count": 139,
   "metadata": {},
   "outputs": [
    {
     "name": "stdout",
     "output_type": "stream",
     "text": [
      "t^2 + 27\n",
      "31\n"
     ]
    }
   ],
   "source": [
    "var('r t')\n",
    "print (r^3+t^2)(r=3)\n",
    "print (r^3+t^2)(r=3,t=2)"
   ]
  },
  {
   "cell_type": "markdown",
   "metadata": {},
   "source": [
    "Podemos indicar a Sage de qué tipo es la variable con el objetivo de simplificar o de analizar si dos expresiones son iguales. Por ejemplo, $\\sqrt{x^2}=x$ es cierto sólo cuando $x>0$. Si $n$ es un número entero, $(-1)^{2n}=1$, pero si no le indicamos a Sage que $n$ es de este tipo, no podremos obtener esta igualdad. Desarrollamos a continuación estos ejemplos, siendo además hora de, para no equivocarnos, borrar todas las variables que teníamos definidas."
   ]
  },
  {
   "cell_type": "code",
   "execution_count": 140,
   "metadata": {},
   "outputs": [],
   "source": [
    "reset()"
   ]
  },
  {
   "cell_type": "code",
   "execution_count": 141,
   "metadata": {},
   "outputs": [
    {
     "data": {
      "text/plain": [
       "False"
      ]
     },
     "execution_count": 141,
     "metadata": {},
     "output_type": "execute_result"
    }
   ],
   "source": [
    "var('x')\n",
    "bool(sqrt(x^2)==x)"
   ]
  },
  {
   "cell_type": "code",
   "execution_count": 142,
   "metadata": {},
   "outputs": [
    {
     "data": {
      "text/plain": [
       "True"
      ]
     },
     "execution_count": 142,
     "metadata": {},
     "output_type": "execute_result"
    }
   ],
   "source": [
    "assume(x>0)\n",
    "bool(sqrt(x^2)==x)"
   ]
  },
  {
   "cell_type": "markdown",
   "metadata": {},
   "source": [
    "Esta suposición sobre x se mantendrá mientras no borremos la variable x o, sin necesidad de borrarla, le digamos a Sage que olvide la suposición con la orden **forget**."
   ]
  },
  {
   "cell_type": "code",
   "execution_count": 143,
   "metadata": {},
   "outputs": [
    {
     "data": {
      "text/plain": [
       "False"
      ]
     },
     "execution_count": 143,
     "metadata": {},
     "output_type": "execute_result"
    }
   ],
   "source": [
    "forget(x>0) # forget() eliminaría todas las suposiciones, no sólo ésta\n",
    "bool(sqrt(x^2)==x)"
   ]
  },
  {
   "cell_type": "code",
   "execution_count": 144,
   "metadata": {},
   "outputs": [
    {
     "data": {
      "text/plain": [
       "False"
      ]
     },
     "execution_count": 144,
     "metadata": {},
     "output_type": "execute_result"
    }
   ],
   "source": [
    "var('n')\n",
    "bool((-1)^(2*n)==1)"
   ]
  },
  {
   "cell_type": "code",
   "execution_count": 145,
   "metadata": {},
   "outputs": [
    {
     "data": {
      "text/plain": [
       "True"
      ]
     },
     "execution_count": 145,
     "metadata": {},
     "output_type": "execute_result"
    }
   ],
   "source": [
    "assume(n,'integer')\n",
    "bool((-1)^(2*n)==1)"
   ]
  },
  {
   "cell_type": "markdown",
   "metadata": {},
   "source": [
    "**Nota.** El signo de igualdad = se utiliza en Sage para asignación. Sin embargo, si queremos introducir una igualdad usamos el doble = =, como hemos hecho en estos ejemplos anteriores.\n",
    "\n",
    "También podemos guardar las ecuaciones, asignándoles un nombre:"
   ]
  },
  {
   "cell_type": "code",
   "execution_count": 146,
   "metadata": {},
   "outputs": [],
   "source": [
    "ec= x^2==1"
   ]
  },
  {
   "cell_type": "code",
   "execution_count": 147,
   "metadata": {},
   "outputs": [
    {
     "data": {
      "text/plain": [
       "x^2 == 1"
      ]
     },
     "execution_count": 147,
     "metadata": {},
     "output_type": "execute_result"
    }
   ],
   "source": [
    "ec # con el nombre de ec está guardada la igualdad x^2=1"
   ]
  },
  {
   "cell_type": "markdown",
   "metadata": {},
   "source": [
    "## 3. Listas\n",
    "\n",
    "Una lista para Sage es una colección de objetos (que pueden ser números, variables, igualdades, textos y más cosas) que están entre corchetes \\[ \\] y separados por comas. El uso de las listas puede ser muy útil y además Sage devuelve muchos resultados en forma de listas."
   ]
  },
  {
   "cell_type": "code",
   "execution_count": 148,
   "metadata": {},
   "outputs": [
    {
     "data": {
      "text/plain": [
       "[3, 7, x^2, 'tercero', x^2 == 49, 25]"
      ]
     },
     "execution_count": 148,
     "metadata": {},
     "output_type": "execute_result"
    }
   ],
   "source": [
    "[3,7,x^2,\"tercero\",x^2==49,25] # esto es una lista de 6 elementos"
   ]
  },
  {
   "cell_type": "markdown",
   "metadata": {},
   "source": [
    "Para recuperar el elemento $k$-ésimo de una lista L, la sintaxis es L\\[k\\], teniendo en cuenta que se empieza a numerar por $k=0$. No parece muy lógico que el primer elemento de la lista sea el $0$-ésimo, pero en algunos problemas presenta ventajas y de hecho, muchas aplicaciones utilizan esta numeración."
   ]
  },
  {
   "cell_type": "code",
   "execution_count": 149,
   "metadata": {},
   "outputs": [
    {
     "ename": "NameError",
     "evalue": "name 'y' is not defined",
     "output_type": "error",
     "traceback": [
      "\u001b[0;31m---------------------------------------------------------------------------\u001b[0m",
      "\u001b[0;31mNameError\u001b[0m                                 Traceback (most recent call last)",
      "\u001b[0;32m/usr/local/sage-8.7/local/lib/python2.7/site-packages/sage/all_cmdline.pyc\u001b[0m in \u001b[0;36m<module>\u001b[0;34m()\u001b[0m\n\u001b[0;32m----> 1\u001b[0;31m \u001b[0mL\u001b[0m\u001b[0;34m=\u001b[0m\u001b[0;34m[\u001b[0m\u001b[0mInteger\u001b[0m\u001b[0;34m(\u001b[0m\u001b[0;36m3\u001b[0m\u001b[0;34m)\u001b[0m\u001b[0;34m,\u001b[0m\u001b[0mInteger\u001b[0m\u001b[0;34m(\u001b[0m\u001b[0;36m7\u001b[0m\u001b[0;34m)\u001b[0m\u001b[0;34m,\u001b[0m\u001b[0mx\u001b[0m\u001b[0;34m**\u001b[0m\u001b[0mInteger\u001b[0m\u001b[0;34m(\u001b[0m\u001b[0;36m2\u001b[0m\u001b[0;34m)\u001b[0m\u001b[0;34m,\u001b[0m\u001b[0;34m\"tercero\"\u001b[0m\u001b[0;34m,\u001b[0m\u001b[0my\u001b[0m\u001b[0;34m**\u001b[0m\u001b[0mInteger\u001b[0m\u001b[0;34m(\u001b[0m\u001b[0;36m2\u001b[0m\u001b[0;34m)\u001b[0m\u001b[0;34m==\u001b[0m\u001b[0mInteger\u001b[0m\u001b[0;34m(\u001b[0m\u001b[0;36m49\u001b[0m\u001b[0;34m)\u001b[0m\u001b[0;34m,\u001b[0m\u001b[0mInteger\u001b[0m\u001b[0;34m(\u001b[0m\u001b[0;36m25\u001b[0m\u001b[0;34m)\u001b[0m\u001b[0;34m]\u001b[0m\u001b[0;34m\u001b[0m\u001b[0m\n\u001b[0m\u001b[1;32m      2\u001b[0m \u001b[0mL\u001b[0m\u001b[0;34m[\u001b[0m\u001b[0mInteger\u001b[0m\u001b[0;34m(\u001b[0m\u001b[0;36m0\u001b[0m\u001b[0;34m)\u001b[0m\u001b[0;34m]\u001b[0m\u001b[0;34m;\u001b[0m \u001b[0mL\u001b[0m\u001b[0;34m[\u001b[0m\u001b[0mInteger\u001b[0m\u001b[0;34m(\u001b[0m\u001b[0;36m2\u001b[0m\u001b[0;34m)\u001b[0m\u001b[0;34m]\u001b[0m\u001b[0;34m;\u001b[0m \u001b[0mL\u001b[0m\u001b[0;34m[\u001b[0m\u001b[0mInteger\u001b[0m\u001b[0;34m(\u001b[0m\u001b[0;36m3\u001b[0m\u001b[0;34m)\u001b[0m\u001b[0;34m]\u001b[0m\u001b[0;34m;\u001b[0m \u001b[0mL\u001b[0m\u001b[0;34m[\u001b[0m\u001b[0mInteger\u001b[0m\u001b[0;34m(\u001b[0m\u001b[0;36m4\u001b[0m\u001b[0;34m)\u001b[0m\u001b[0;34m]\u001b[0m\u001b[0;34m;\u001b[0m\u001b[0mL\u001b[0m\u001b[0;34m[\u001b[0m\u001b[0mInteger\u001b[0m\u001b[0;34m(\u001b[0m\u001b[0;36m6\u001b[0m\u001b[0;34m)\u001b[0m\u001b[0;34m]\u001b[0m \u001b[0;31m# el mensaje de error para L[6] es claro\u001b[0m\u001b[0;34m\u001b[0m\u001b[0m\n",
      "\u001b[0;31mNameError\u001b[0m: name 'y' is not defined"
     ]
    }
   ],
   "source": [
    "L=[3,7,x^2,\"tercero\",y^2==49,25]\n",
    "L[0]; L[2]; L[3]; L[4];L[6] # el mensaje de error para L[6] es claro"
   ]
  },
  {
   "cell_type": "markdown",
   "metadata": {},
   "source": [
    "Para crear listas de longitudes grandes que respondan a una regla, como pueden ser los primeros términos de una sucesión, el primer paso que debemos saber es el siguiente: **\\[i..j\\]** donde i y j son números enteros crea la lista de los números enteros \\[i,i+1,i+2,...,j\\]. También podemos conseguir listas de números entre i y j (no necesariamente enteros) equidistantes entre sí, indicando los dos primeros elementos de la lista y el último. Analizando los siguientes ejemplos comprenderemos las particularidades de este procedimiento."
   ]
  },
  {
   "cell_type": "code",
   "execution_count": 150,
   "metadata": {},
   "outputs": [
    {
     "name": "stdout",
     "output_type": "stream",
     "text": [
      "[0, 1, 2, 3]\n",
      "[-5, -4, -3, -2, -1, 0, 1, 2, 3, 4, 5, 6, 7]\n",
      "[1.00000000000000, 1.20000000000000, 1.40000000000000, 1.60000000000000, 1.80000000000000, 2.00000000000000]\n",
      "[0.300000000000000, 0.400000000000000, 0.500000000000000, 0.600000000000000, 0.700000000000000, 0.800000000000000, 0.900000000000000, 1.00000000000000, 1.10000000000000, 1.20000000000000, 1.30000000000000, 1.40000000000000, 1.50000000000000, 1.60000000000000, 1.70000000000000, 1.80000000000000, 1.90000000000000, 2.00000000000000]\n",
      "[0.300000000000000, 0.550000000000000, 0.800000000000000]\n"
     ]
    }
   ],
   "source": [
    "print [0..3]  \n",
    "print [-5..7]\n",
    "print [1,1.2..2] # los dos primeros términos son 1, 1.2 y sigue de 0.2 en 0.2 hasta 2\n",
    "print [0.3,0.4..2] # no hace falta empezar (ni acabar) en un número entero \n",
    "print [0.3,0.55..1] # con este salto no llegamos justo a 1 y acaba en el más cercano anterior a 1"
   ]
  },
  {
   "cell_type": "markdown",
   "metadata": {},
   "source": [
    "Disponiendo de estas listas de números, podemos operar sobre ellas y formar sucesiones cualesquiera. La sintaxis para introducir la lista de los términos de la sucesión $\\{expr(k)\\}_{k=n}^m$ es **\\[expr(k) for k in \\[n..m\\]\\]**."
   ]
  },
  {
   "cell_type": "code",
   "execution_count": 151,
   "metadata": {},
   "outputs": [
    {
     "name": "stdout",
     "output_type": "stream",
     "text": [
      "[1, 2, 3, 4, 5, 6, 7, 8, 9, 10, 11, 12, 13, 14, 15, 16, 17, 18, 19, 20]\n",
      "[1, 1/2, 1/3, 1/4, 1/5, 1/6, 1/7, 1/8]\n",
      "[1.00000000000000, 1.44000000000000, 1.96000000000000, 2.56000000000000, 3.24000000000000, 4.00000000000000]\n"
     ]
    }
   ],
   "source": [
    "print [k for k in [1..20]]\n",
    "print [1/k for k in [1..8]]           \n",
    "print [k^2 for k in [1,1.2..2]] # lista de los cuadrados de 1,1.2,1.4,1.6,1.8,2"
   ]
  },
  {
   "cell_type": "markdown",
   "metadata": {},
   "source": [
    "## 4. Sumas\n",
    "\n",
    "La suma $\\displaystyle \\sum_{k=a}^b expr(k)$ se introduce en Sage con la orden **sum(expr(k),k,a,b)**, donde tendremos que declarar la letra $k$ como variable y donde los extremos del sumatorio $a$ y $b$ también pueden ser variables, en cuyo caso habrá también que declararlas. Desarrollemos algunos ejemplos."
   ]
  },
  {
   "cell_type": "code",
   "execution_count": 152,
   "metadata": {},
   "outputs": [
    {
     "data": {
      "text/html": [
       "<html><script type=\"math/tex; mode=display\">\\newcommand{\\Bold}[1]{\\mathbf{#1}}\\frac{1}{2} \\, n^{2} + \\frac{1}{2} \\, n</script></html>"
      ],
      "text/plain": [
       "1/2*n^2 + 1/2*n"
      ]
     },
     "metadata": {},
     "output_type": "display_data"
    }
   ],
   "source": [
    "var('k n')\n",
    "a=sum(k,k,1,n) # esta es la suma de los n primeros números naturales\n",
    "show(a)"
   ]
  },
  {
   "cell_type": "code",
   "execution_count": 153,
   "metadata": {},
   "outputs": [
    {
     "data": {
      "text/plain": [
       "1/2520*sqrt(7)*sqrt(6)*sqrt(5)*sqrt(3)*sqrt(2)*(688*sqrt(6)*sqrt(5)*sqrt(3)*sqrt(2) + sqrt(7)*(434*sqrt(5)*sqrt(3)*sqrt(2) + sqrt(6)*(sqrt(5)*(sqrt(3)*(65*sqrt(2) + 18) + 56*sqrt(2)) + 252*sqrt(3)*sqrt(2))))"
      ]
     },
     "execution_count": 153,
     "metadata": {},
     "output_type": "execute_result"
    }
   ],
   "source": [
    "sum((k^3+1)/sqrt(k),k,2,7) # esta suma no la obtenemos muy simplificada"
   ]
  },
  {
   "cell_type": "code",
   "execution_count": 156,
   "metadata": {},
   "outputs": [
    {
     "data": {
      "text/plain": [
       "329.988339346816"
      ]
     },
     "execution_count": 156,
     "metadata": {},
     "output_type": "execute_result"
    }
   ],
   "source": [
    "sum((k^3+1)/sqrt(k),k,2,7).n()"
   ]
  },
  {
   "cell_type": "markdown",
   "metadata": {},
   "source": [
    "En el siguiente ejemplo, comprobamos la ecuación ciclotómica\n",
    "\n",
    "$$x^n-y^n=(x-y)(x^{n-1}+x^{n-2}y+\\cdots+xy^{n-2}+y^{n-1}),$$\n",
    "\n",
    "introduciendo la suma de la derecha y simplificando el resultado."
   ]
  },
  {
   "cell_type": "code",
   "execution_count": 157,
   "metadata": {},
   "outputs": [
    {
     "data": {
      "text/plain": [
       "(x^n - y^n)/(x - y)"
      ]
     },
     "execution_count": 157,
     "metadata": {},
     "output_type": "execute_result"
    }
   ],
   "source": [
    "var('y')\n",
    "r=sum(x^(n-1-k)*y^k,k,0,n-1)\n",
    "r"
   ]
  },
  {
   "cell_type": "code",
   "execution_count": 158,
   "metadata": {},
   "outputs": [
    {
     "data": {
      "text/plain": [
       "(x^n - y^n)/(x - y)"
      ]
     },
     "execution_count": 158,
     "metadata": {},
     "output_type": "execute_result"
    }
   ],
   "source": [
    "r.full_simplify()"
   ]
  },
  {
   "cell_type": "markdown",
   "metadata": {},
   "source": [
    "## 5. Ecuaciones e inecuaciones\n",
    "\n",
    "La principal orden para resolver algunas ecuaciones e inecuaciones de números reales y también sistemas es **solve**. Esta orden trabaja con cálculos exactos, de forma que si no sabe resolver alguna ecuación no dará respuesta. Para encontrar soluciones aproximadas tenemos otras órdenes como **find\\_root** que veremos más adelante. Los siguientes ejemplos son de expresiones lineales o polinómicas, pero también se podrá usar la orden **solve** con expresiones donde intervienen funciones elementales."
   ]
  },
  {
   "cell_type": "code",
   "execution_count": 159,
   "metadata": {},
   "outputs": [
    {
     "data": {
      "text/plain": [
       "[x == -1/2*I*sqrt(3) - 1/2, x == 1/2*I*sqrt(3) - 1/2]"
      ]
     },
     "execution_count": 159,
     "metadata": {},
     "output_type": "execute_result"
    }
   ],
   "source": [
    "solve(x^2+x+1==0,x)"
   ]
  },
  {
   "cell_type": "code",
   "execution_count": 160,
   "metadata": {},
   "outputs": [
    {
     "data": {
      "text/html": [
       "<html><script type=\"math/tex; mode=display\">\\newcommand{\\Bold}[1]{\\mathbf{#1}}\\left[x = -\\frac{1}{2} i \\, \\sqrt{3} - \\frac{1}{2}, x = \\frac{1}{2} i \\, \\sqrt{3} - \\frac{1}{2}\\right]</script></html>"
      ],
      "text/plain": [
       "[x == -1/2*I*sqrt(3) - 1/2, x == 1/2*I*sqrt(3) - 1/2]"
      ]
     },
     "metadata": {},
     "output_type": "display_data"
    }
   ],
   "source": [
    "soluc=solve(x^2+x+1==0,x) # hemos creado una lista de nombre soluc\n",
    "show(soluc)"
   ]
  },
  {
   "cell_type": "code",
   "execution_count": 161,
   "metadata": {},
   "outputs": [
    {
     "data": {
      "text/plain": [
       "[0 == x^5 + 3*x + 1]"
      ]
     },
     "execution_count": 161,
     "metadata": {},
     "output_type": "execute_result"
    }
   ],
   "source": [
    "solve(x^5+3*x+1==0,x) # esta ecuación de quinto grado no la sabe resolver y la devuelve tal cual"
   ]
  },
  {
   "cell_type": "code",
   "execution_count": 162,
   "metadata": {},
   "outputs": [
    {
     "data": {
      "text/html": [
       "<html><script type=\"math/tex; mode=display\">\\newcommand{\\Bold}[1]{\\mathbf{#1}}x = -\\frac{1}{2} \\, \\sqrt{\\frac{1}{3}} \\sqrt{\\frac{3 \\, {\\left(\\frac{1}{18} \\, \\sqrt{1931} \\sqrt{3} + \\frac{9}{2}\\right)}^{\\frac{2}{3}} + 4}{{\\left(\\frac{1}{18} \\, \\sqrt{1931} \\sqrt{3} + \\frac{9}{2}\\right)}^{\\frac{1}{3}}}} - \\frac{1}{2} \\, \\sqrt{-{\\left(\\frac{1}{18} \\, \\sqrt{1931} \\sqrt{3} + \\frac{9}{2}\\right)}^{\\frac{1}{3}} + \\frac{18 \\, \\sqrt{\\frac{1}{3}}}{\\sqrt{\\frac{3 \\, {\\left(\\frac{1}{18} \\, \\sqrt{1931} \\sqrt{3} + \\frac{9}{2}\\right)}^{\\frac{2}{3}} + 4}{{\\left(\\frac{1}{18} \\, \\sqrt{1931} \\sqrt{3} + \\frac{9}{2}\\right)}^{\\frac{1}{3}}}}} - \\frac{4}{3 \\, {\\left(\\frac{1}{18} \\, \\sqrt{1931} \\sqrt{3} + \\frac{9}{2}\\right)}^{\\frac{1}{3}}}}</script></html>"
      ],
      "text/plain": [
       "x == -1/2*sqrt(1/3)*sqrt((3*(1/18*sqrt(1931)*sqrt(3) + 9/2)^(2/3) + 4)/(1/18*sqrt(1931)*sqrt(3) + 9/2)^(1/3)) - 1/2*sqrt(-(1/18*sqrt(1931)*sqrt(3) + 9/2)^(1/3) + 18*sqrt(1/3)/sqrt((3*(1/18*sqrt(1931)*sqrt(3) + 9/2)^(2/3) + 4)/(1/18*sqrt(1931)*sqrt(3) + 9/2)^(1/3)) - 4/3/(1/18*sqrt(1931)*sqrt(3) + 9/2)^(1/3))"
      ]
     },
     "metadata": {},
     "output_type": "display_data"
    }
   ],
   "source": [
    "mm=solve(x^4+3*x+1==0,x) # ésta de cuarto grado sí, aunque contiene radicandos complicados\n",
    "show(mm[0]) # sólo mostramos la primera solución"
   ]
  },
  {
   "cell_type": "markdown",
   "metadata": {},
   "source": [
    "También podemos resolver ecuaciones con varias variables en una de ellas, dejando las otras como parámetros."
   ]
  },
  {
   "cell_type": "code",
   "execution_count": 163,
   "metadata": {},
   "outputs": [
    {
     "data": {
      "text/plain": [
       "[x == -sqrt(a - 1), x == sqrt(a - 1)]"
      ]
     },
     "execution_count": 163,
     "metadata": {},
     "output_type": "execute_result"
    }
   ],
   "source": [
    "var('a')\n",
    "solve(x^2+1==a,x)"
   ]
  },
  {
   "cell_type": "markdown",
   "metadata": {},
   "source": [
    "Para resolver sistemas, introducimos las ecuaciones en una lista, es decir, con corchetes, y a continuación ponemos las incógnitas separadas por comas. Por ejemplo, vamos a resolver el sistema $x+y=1,\\ x-y=r\\,$ en las incógnitas $x$ e $y$ (r es entonces un parámetro arbitrario)."
   ]
  },
  {
   "cell_type": "code",
   "execution_count": 164,
   "metadata": {},
   "outputs": [
    {
     "data": {
      "text/plain": [
       "[[x == 1/2*r + 1/2, y == -1/2*r + 1/2]]"
      ]
     },
     "execution_count": 164,
     "metadata": {},
     "output_type": "execute_result"
    }
   ],
   "source": [
    "var('y r')\n",
    "solve([x+y==1,x-y==r],x,y)"
   ]
  },
  {
   "cell_type": "markdown",
   "metadata": {},
   "source": [
    "A veces funciona la orden **assume**, aunque siempre hay que tener cuidado, como veremos con algún ejemplo de desigualdades."
   ]
  },
  {
   "cell_type": "code",
   "execution_count": 165,
   "metadata": {},
   "outputs": [
    {
     "data": {
      "text/plain": [
       "[x == -I, x == I]"
      ]
     },
     "execution_count": 165,
     "metadata": {},
     "output_type": "execute_result"
    }
   ],
   "source": [
    "solve(x^2==-1,x)"
   ]
  },
  {
   "cell_type": "code",
   "execution_count": 166,
   "metadata": {},
   "outputs": [
    {
     "data": {
      "text/plain": [
       "[]"
      ]
     },
     "execution_count": 166,
     "metadata": {},
     "output_type": "execute_result"
    }
   ],
   "source": [
    "assume(x,'real') # esto funciona bien\n",
    "solve(x^2==-1,x)"
   ]
  },
  {
   "cell_type": "markdown",
   "metadata": {},
   "source": [
    "Con desigualdades la sintaxis es la misma:"
   ]
  },
  {
   "cell_type": "code",
   "execution_count": 167,
   "metadata": {},
   "outputs": [
    {
     "name": "stdout",
     "output_type": "stream",
     "text": [
      "[[x < -1], [x > 1]]\n",
      "[[x <= -sqrt(3)], [x >= sqrt(3)]]\n"
     ]
    }
   ],
   "source": [
    "print solve(x^2>1,x) \n",
    "print solve(x^2>=3,x)"
   ]
  },
  {
   "cell_type": "code",
   "execution_count": 168,
   "metadata": {},
   "outputs": [
    {
     "data": {
      "text/plain": [
       "[[x < -1], [x > 1]]"
      ]
     },
     "execution_count": 168,
     "metadata": {},
     "output_type": "execute_result"
    }
   ],
   "source": [
    "assume(x>0) # esto no funciona como cabría esperar\n",
    "solve(x^2>1,x)"
   ]
  },
  {
   "cell_type": "code",
   "execution_count": 169,
   "metadata": {},
   "outputs": [
    {
     "data": {
      "text/plain": [
       "[[1 < x]]"
      ]
     },
     "execution_count": 169,
     "metadata": {},
     "output_type": "execute_result"
    }
   ],
   "source": [
    "forget(x>0)\n",
    "solve([x^2>1,x>0],x) # esto sí que es lo que queremos"
   ]
  },
  {
   "cell_type": "markdown",
   "metadata": {},
   "source": [
    "## 6. Funciones\n",
    "\n",
    "Sage nos puede dar el valor de las funciones elementales en cualquier punto de su dominio; sólo hay que conocer que la sintaxis es una abreviatura del nombre de la correspondiente función (en inglés) seguida del número (entre paréntesis). Entre las más usadas tenemos **exp** (exponencial), **log** (logaritmo neperiano), **sin** (función seno) o **cos** (función coseno). Practicaremos un poco con estos ejemplos, de paso que aprendemos más particularidades de Sage."
   ]
  },
  {
   "cell_type": "code",
   "execution_count": 170,
   "metadata": {},
   "outputs": [
    {
     "data": {
      "text/plain": [
       "e"
      ]
     },
     "execution_count": 170,
     "metadata": {},
     "output_type": "execute_result"
    }
   ],
   "source": [
    "exp(1) # este es el número e, que también se puede escribir con la letra e"
   ]
  },
  {
   "cell_type": "code",
   "execution_count": 171,
   "metadata": {},
   "outputs": [
    {
     "data": {
      "text/plain": [
       "0"
      ]
     },
     "execution_count": 171,
     "metadata": {},
     "output_type": "execute_result"
    }
   ],
   "source": [
    "e-exp(1)"
   ]
  },
  {
   "cell_type": "code",
   "execution_count": 172,
   "metadata": {},
   "outputs": [
    {
     "data": {
      "text/html": [
       "<html><script type=\"math/tex; mode=display\">\\newcommand{\\Bold}[1]{\\mathbf{#1}}2</script></html>"
      ],
      "text/plain": [
       "2"
      ]
     },
     "metadata": {},
     "output_type": "display_data"
    },
    {
     "data": {
      "text/plain": [
       "2"
      ]
     },
     "execution_count": 172,
     "metadata": {},
     "output_type": "execute_result"
    }
   ],
   "source": [
    "show(exp(log(2)))\n",
    "e^(log(2)) # la exponencial de un número también se puede escribir e^x"
   ]
  },
  {
   "cell_type": "markdown",
   "metadata": {},
   "source": [
    "El logaritmo neperiano también se puede escribir **ln**. El logaritmo en otra base, pongamos base b, de un número x, se escribe **log(x,b)**. Por si esto lo olvidáramos, escribiendo **log?** y ejecutando (mayúsculas+enter), obtenemos una respuesta con particularidades sobre el comando **log**. Y lo mismo con otra orden cualquiera."
   ]
  },
  {
   "cell_type": "code",
   "execution_count": 173,
   "metadata": {},
   "outputs": [
    {
     "data": {
      "text/plain": [
       "3"
      ]
     },
     "execution_count": 173,
     "metadata": {},
     "output_type": "execute_result"
    }
   ],
   "source": [
    "log(1000,10)"
   ]
  },
  {
   "cell_type": "code",
   "execution_count": 174,
   "metadata": {},
   "outputs": [
    {
     "data": {
      "text/plain": [
       "0"
      ]
     },
     "execution_count": 174,
     "metadata": {},
     "output_type": "execute_result"
    }
   ],
   "source": [
    "sin(pi) # el número pi se escribe así, con minúscula"
   ]
  },
  {
   "cell_type": "code",
   "execution_count": 175,
   "metadata": {},
   "outputs": [
    {
     "ename": "ZeroDivisionError",
     "evalue": "symbolic division by zero",
     "output_type": "error",
     "traceback": [
      "\u001b[0;31m---------------------------------------------------------------------------\u001b[0m",
      "\u001b[0;31mZeroDivisionError\u001b[0m                         Traceback (most recent call last)",
      "\u001b[0;32m/usr/local/sage-8.7/local/lib/python2.7/site-packages/sage/all_cmdline.pyc\u001b[0m in \u001b[0;36m<module>\u001b[0;34m()\u001b[0m\n\u001b[0;32m----> 1\u001b[0;31m \u001b[0mInteger\u001b[0m\u001b[0;34m(\u001b[0m\u001b[0;36m1\u001b[0m\u001b[0;34m)\u001b[0m\u001b[0;34m/\u001b[0m\u001b[0msin\u001b[0m\u001b[0;34m(\u001b[0m\u001b[0mpi\u001b[0m\u001b[0;34m)\u001b[0m \u001b[0;31m# esto responde cuando dividimos por cero\u001b[0m\u001b[0;34m\u001b[0m\u001b[0m\n\u001b[0m",
      "\u001b[0;32m/usr/local/sage-8.7/local/lib/python2.7/site-packages/sage/rings/integer.pyx\u001b[0m in \u001b[0;36msage.rings.integer.Integer.__div__ (build/cythonized/sage/rings/integer.c:13460)\u001b[0;34m()\u001b[0m\n\u001b[1;32m   1953\u001b[0m             \u001b[0;32mreturn\u001b[0m \u001b[0my\u001b[0m\u001b[0;34m\u001b[0m\u001b[0m\n\u001b[1;32m   1954\u001b[0m \u001b[0;34m\u001b[0m\u001b[0m\n\u001b[0;32m-> 1955\u001b[0;31m         \u001b[0;32mreturn\u001b[0m \u001b[0mcoercion_model\u001b[0m\u001b[0;34m.\u001b[0m\u001b[0mbin_op\u001b[0m\u001b[0;34m(\u001b[0m\u001b[0mleft\u001b[0m\u001b[0;34m,\u001b[0m \u001b[0mright\u001b[0m\u001b[0;34m,\u001b[0m \u001b[0moperator\u001b[0m\u001b[0;34m.\u001b[0m\u001b[0mtruediv\u001b[0m\u001b[0;34m)\u001b[0m\u001b[0;34m\u001b[0m\u001b[0m\n\u001b[0m\u001b[1;32m   1956\u001b[0m \u001b[0;34m\u001b[0m\u001b[0m\n\u001b[1;32m   1957\u001b[0m     \u001b[0mcpdef\u001b[0m \u001b[0m_div_\u001b[0m\u001b[0;34m(\u001b[0m\u001b[0mself\u001b[0m\u001b[0;34m,\u001b[0m \u001b[0mright\u001b[0m\u001b[0;34m)\u001b[0m\u001b[0;34m:\u001b[0m\u001b[0;34m\u001b[0m\u001b[0m\n",
      "\u001b[0;32m/usr/local/sage-8.7/local/lib/python2.7/site-packages/sage/structure/coerce.pyx\u001b[0m in \u001b[0;36msage.structure.coerce.CoercionModel.bin_op (build/cythonized/sage/structure/coerce.c:10074)\u001b[0;34m()\u001b[0m\n\u001b[1;32m   1164\u001b[0m             \u001b[0mself\u001b[0m\u001b[0;34m.\u001b[0m\u001b[0m_record_exception\u001b[0m\u001b[0;34m(\u001b[0m\u001b[0;34m)\u001b[0m\u001b[0;34m\u001b[0m\u001b[0m\n\u001b[1;32m   1165\u001b[0m         \u001b[0;32melse\u001b[0m\u001b[0;34m:\u001b[0m\u001b[0;34m\u001b[0m\u001b[0m\n\u001b[0;32m-> 1166\u001b[0;31m             \u001b[0;32mreturn\u001b[0m \u001b[0mPyObject_CallObject\u001b[0m\u001b[0;34m(\u001b[0m\u001b[0mop\u001b[0m\u001b[0;34m,\u001b[0m \u001b[0mxy\u001b[0m\u001b[0;34m)\u001b[0m\u001b[0;34m\u001b[0m\u001b[0m\n\u001b[0m\u001b[1;32m   1167\u001b[0m \u001b[0;34m\u001b[0m\u001b[0m\n\u001b[1;32m   1168\u001b[0m         \u001b[0;32mif\u001b[0m \u001b[0mop\u001b[0m \u001b[0;32mis\u001b[0m \u001b[0mmul\u001b[0m\u001b[0;34m:\u001b[0m\u001b[0;34m\u001b[0m\u001b[0m\n",
      "\u001b[0;32m/usr/local/sage-8.7/local/lib/python2.7/site-packages/sage/structure/element.pyx\u001b[0m in \u001b[0;36msage.structure.element.Element.__truediv__ (build/cythonized/sage/structure/element.c:12784)\u001b[0;34m()\u001b[0m\n\u001b[1;32m   1716\u001b[0m         \u001b[0mcdef\u001b[0m \u001b[0mint\u001b[0m \u001b[0mcl\u001b[0m \u001b[0;34m=\u001b[0m \u001b[0mclassify_elements\u001b[0m\u001b[0;34m(\u001b[0m\u001b[0mleft\u001b[0m\u001b[0;34m,\u001b[0m \u001b[0mright\u001b[0m\u001b[0;34m)\u001b[0m\u001b[0;34m\u001b[0m\u001b[0m\n\u001b[1;32m   1717\u001b[0m         \u001b[0;32mif\u001b[0m \u001b[0mHAVE_SAME_PARENT\u001b[0m\u001b[0;34m(\u001b[0m\u001b[0mcl\u001b[0m\u001b[0;34m)\u001b[0m\u001b[0;34m:\u001b[0m\u001b[0;34m\u001b[0m\u001b[0m\n\u001b[0;32m-> 1718\u001b[0;31m             \u001b[0;32mreturn\u001b[0m \u001b[0;34m(\u001b[0m\u001b[0;34m<\u001b[0m\u001b[0mElement\u001b[0m\u001b[0;34m>\u001b[0m\u001b[0mleft\u001b[0m\u001b[0;34m)\u001b[0m\u001b[0;34m.\u001b[0m\u001b[0m_div_\u001b[0m\u001b[0;34m(\u001b[0m\u001b[0mright\u001b[0m\u001b[0;34m)\u001b[0m\u001b[0;34m\u001b[0m\u001b[0m\n\u001b[0m\u001b[1;32m   1719\u001b[0m         \u001b[0;32mif\u001b[0m \u001b[0mBOTH_ARE_ELEMENT\u001b[0m\u001b[0;34m(\u001b[0m\u001b[0mcl\u001b[0m\u001b[0;34m)\u001b[0m\u001b[0;34m:\u001b[0m\u001b[0;34m\u001b[0m\u001b[0m\n\u001b[1;32m   1720\u001b[0m             \u001b[0;32mreturn\u001b[0m \u001b[0mcoercion_model\u001b[0m\u001b[0;34m.\u001b[0m\u001b[0mbin_op\u001b[0m\u001b[0;34m(\u001b[0m\u001b[0mleft\u001b[0m\u001b[0;34m,\u001b[0m \u001b[0mright\u001b[0m\u001b[0;34m,\u001b[0m \u001b[0mtruediv\u001b[0m\u001b[0;34m)\u001b[0m\u001b[0;34m\u001b[0m\u001b[0m\n",
      "\u001b[0;32m/usr/local/sage-8.7/local/lib/python2.7/site-packages/sage/symbolic/expression.pyx\u001b[0m in \u001b[0;36msage.symbolic.expression.Expression._div_ (build/cythonized/sage/symbolic/expression.cpp:23959)\u001b[0;34m()\u001b[0m\n\u001b[1;32m   3566\u001b[0m             \u001b[0;31m# See http://docs.cython.org/docs/wrapping_CPlusPlus.html\u001b[0m\u001b[0;34m\u001b[0m\u001b[0;34m\u001b[0m\u001b[0m\n\u001b[1;32m   3567\u001b[0m             \u001b[0;32mif\u001b[0m \u001b[0;34m'division by zero'\u001b[0m \u001b[0;32min\u001b[0m \u001b[0mstr\u001b[0m\u001b[0;34m(\u001b[0m\u001b[0mmsg\u001b[0m\u001b[0;34m)\u001b[0m\u001b[0;34m:\u001b[0m\u001b[0;34m\u001b[0m\u001b[0m\n\u001b[0;32m-> 3568\u001b[0;31m                 \u001b[0;32mraise\u001b[0m \u001b[0mZeroDivisionError\u001b[0m\u001b[0;34m(\u001b[0m\u001b[0;34m\"symbolic division by zero\"\u001b[0m\u001b[0;34m)\u001b[0m\u001b[0;34m\u001b[0m\u001b[0m\n\u001b[0m\u001b[1;32m   3569\u001b[0m             \u001b[0;32melse\u001b[0m\u001b[0;34m:\u001b[0m\u001b[0;34m\u001b[0m\u001b[0m\n\u001b[1;32m   3570\u001b[0m                 \u001b[0;32mraise\u001b[0m\u001b[0;34m\u001b[0m\u001b[0m\n",
      "\u001b[0;31mZeroDivisionError\u001b[0m: symbolic division by zero"
     ]
    }
   ],
   "source": [
    "1/sin(pi) # esto responde cuando dividimos por cero"
   ]
  },
  {
   "cell_type": "markdown",
   "metadata": {},
   "source": [
    "Por supuesto, para introducir funciones que dependan de una variable, tendremos que declarar dicha variable:"
   ]
  },
  {
   "cell_type": "code",
   "execution_count": 176,
   "metadata": {},
   "outputs": [
    {
     "data": {
      "text/plain": [
       "e^y"
      ]
     },
     "execution_count": 176,
     "metadata": {},
     "output_type": "execute_result"
    }
   ],
   "source": [
    "exp(y)"
   ]
  },
  {
   "cell_type": "code",
   "execution_count": 177,
   "metadata": {},
   "outputs": [
    {
     "data": {
      "text/plain": [
       "e^y"
      ]
     },
     "execution_count": 177,
     "metadata": {},
     "output_type": "execute_result"
    }
   ],
   "source": [
    "var('y')\n",
    "exp(y)"
   ]
  },
  {
   "cell_type": "markdown",
   "metadata": {},
   "source": [
    "Podremos crear funciones nuevas que Sage guardará (hasta que las cambiemos) con el nombre que demos con una sencilla sintaxis parecida a como escribimos normalmente. Después podremos operar con estas funciones:"
   ]
  },
  {
   "cell_type": "code",
   "execution_count": 178,
   "metadata": {},
   "outputs": [],
   "source": [
    "f(x)=(x^3+1)/(x^2+x+2)"
   ]
  },
  {
   "cell_type": "code",
   "execution_count": 179,
   "metadata": {},
   "outputs": [
    {
     "data": {
      "text/html": [
       "<html><script type=\"math/tex; mode=display\">\\newcommand{\\Bold}[1]{\\mathbf{#1}}x \\ {\\mapsto}\\ \\frac{x^{3} + 1}{x^{2} + x + 2}</script></html>"
      ],
      "text/plain": [
       "x |--> (x^3 + 1)/(x^2 + x + 2)"
      ]
     },
     "metadata": {},
     "output_type": "display_data"
    },
    {
     "data": {
      "text/html": [
       "<html><script type=\"math/tex; mode=display\">\\newcommand{\\Bold}[1]{\\mathbf{#1}}\\frac{x^{3} + 1}{x^{2} + x + 2}</script></html>"
      ],
      "text/plain": [
       "(x^3 + 1)/(x^2 + x + 2)"
      ]
     },
     "metadata": {},
     "output_type": "display_data"
    }
   ],
   "source": [
    "show(f) # f es para Sage una función que a una variable le asigna una expresión\n",
    "show(f(x)) # f(x) es una expresión simbólica"
   ]
  },
  {
   "cell_type": "code",
   "execution_count": 180,
   "metadata": {},
   "outputs": [
    {
     "data": {
      "text/plain": [
       "(z^3 + 1)/(z^2 + z + 2)"
      ]
     },
     "execution_count": 180,
     "metadata": {},
     "output_type": "execute_result"
    }
   ],
   "source": [
    "var('z')\n",
    "f(z) # devuelve la expresión simbólica, pero previamente debemos definir la variable"
   ]
  },
  {
   "cell_type": "code",
   "execution_count": 181,
   "metadata": {},
   "outputs": [
    {
     "data": {
      "text/plain": [
       "9/8"
      ]
     },
     "execution_count": 181,
     "metadata": {},
     "output_type": "execute_result"
    }
   ],
   "source": [
    "f(2)"
   ]
  },
  {
   "cell_type": "code",
   "execution_count": 182,
   "metadata": {},
   "outputs": [
    {
     "data": {
      "text/html": [
       "<html><script type=\"math/tex; mode=display\">\\newcommand{\\Bold}[1]{\\mathbf{#1}}\\frac{\\frac{{\\left(x^{3} + 1\\right)}^{3}}{{\\left(x^{2} + x + 2\\right)}^{3}} + 1}{\\frac{{\\left(x^{3} + 1\\right)}^{2}}{{\\left(x^{2} + x + 2\\right)}^{2}} + \\frac{x^{3} + 1}{x^{2} + x + 2} + 2}</script></html>"
      ],
      "text/plain": [
       "((x^3 + 1)^3/(x^2 + x + 2)^3 + 1)/((x^3 + 1)^2/(x^2 + x + 2)^2 + (x^3 + 1)/(x^2 + x + 2) + 2)"
      ]
     },
     "metadata": {},
     "output_type": "display_data"
    }
   ],
   "source": [
    "show(f(f(x))) # podemos operar con f(x)"
   ]
  },
  {
   "cell_type": "code",
   "execution_count": 183,
   "metadata": {},
   "outputs": [
    {
     "data": {
      "text/html": [
       "<html><script type=\"math/tex; mode=display\">\\newcommand{\\Bold}[1]{\\mathbf{#1}}\\frac{x^{9} + 4 \\, x^{6} + 3 \\, x^{5} + 9 \\, x^{4} + 16 \\, x^{3} + 18 \\, x^{2} + 12 \\, x + 9}{x^{8} + 2 \\, x^{7} + 6 \\, x^{6} + 13 \\, x^{5} + 25 \\, x^{4} + 36 \\, x^{3} + 42 \\, x^{2} + 29 \\, x + 22}</script></html>"
      ],
      "text/plain": [
       "(x^9 + 4*x^6 + 3*x^5 + 9*x^4 + 16*x^3 + 18*x^2 + 12*x + 9)/(x^8 + 2*x^7 + 6*x^6 + 13*x^5 + 25*x^4 + 36*x^3 + 42*x^2 + 29*x + 22)"
      ]
     },
     "metadata": {},
     "output_type": "display_data"
    }
   ],
   "source": [
    "show(f(f(x)).full_simplify())"
   ]
  },
  {
   "cell_type": "markdown",
   "metadata": {},
   "source": [
    "También podemos evaluar la función en una lista (sucesión) de puntos. Por ejemplo, podemos obtener $(f(1),f(2),\\dots,f(n))$ para $n=30$, o también $(f(x_n))$ donde $x_n$ es una sucesión de puntos equidistribuidos entre $-1$ y $1$ con la proximidad que queramos entre ellos:"
   ]
  },
  {
   "cell_type": "code",
   "execution_count": 184,
   "metadata": {},
   "outputs": [
    {
     "data": {
      "text/plain": [
       "[1/2,\n",
       " 9/8,\n",
       " 2,\n",
       " 65/22,\n",
       " 63/16,\n",
       " 217/44,\n",
       " 172/29,\n",
       " 513/74,\n",
       " 365/46,\n",
       " 143/16,\n",
       " 666/67,\n",
       " 1729/158,\n",
       " 1099/92,\n",
       " 2745/212,\n",
       " 1688/121,\n",
       " 4097/274,\n",
       " 351/22,\n",
       " 5833/344,\n",
       " 3430/191,\n",
       " 8001/422,\n",
       " 4631/232,\n",
       " 10649/508,\n",
       " 6084/277,\n",
       " 1975/86,\n",
       " 7813/326,\n",
       " 17577/704,\n",
       " 9842/379,\n",
       " 21953/814,\n",
       " 12195/436,\n",
       " 27001/932]"
      ]
     },
     "execution_count": 184,
     "metadata": {},
     "output_type": "execute_result"
    }
   ],
   "source": [
    "[f(j) for j in [1..30]]"
   ]
  },
  {
   "cell_type": "code",
   "execution_count": 185,
   "metadata": {},
   "outputs": [
    {
     "data": {
      "text/plain": [
       "[0.000000000000000,\n",
       " 0.141884816753927,\n",
       " 0.265217391304348,\n",
       " 0.367039106145251,\n",
       " 0.445454545454545,\n",
       " 0.500000000000000,\n",
       " 0.531818181818182,\n",
       " 0.543575418994413,\n",
       " 0.539130434782609,\n",
       " 0.523036649214660,\n",
       " 0.500000000000000,\n",
       " 0.474407582938389,\n",
       " 0.450000000000000,\n",
       " 0.429707112970711,\n",
       " 0.415625000000000,\n",
       " 0.409090909090909,\n",
       " 0.410810810810811,\n",
       " 0.421003134796238,\n",
       " 0.439534883720930,\n",
       " 0.466037735849057,\n",
       " 0.500000000000000]"
      ]
     },
     "execution_count": 185,
     "metadata": {},
     "output_type": "execute_result"
    }
   ],
   "source": [
    "[f(j) for j in [-1,-0.9,..1]]"
   ]
  },
  {
   "cell_type": "markdown",
   "metadata": {},
   "source": [
    "Dibujar una función en un intervalo \\[a,b\\] es basicamente lo siguiente: tomar una sucesión de puntos (normalmente equidistantes) $(x_n)$ en el intervalo \\[a,b\\] y poner en un plano coordenado los puntos $(x_n,f(x_n))$. Si los puntos $x_n$ están muy próximos entre sí, obtendremos la gráfica de la función. Sage dispone del comando **points(lista)** para dibujar una lista que consta de pares (a,b). Por ejemplo:"
   ]
  },
  {
   "cell_type": "code",
   "execution_count": 186,
   "metadata": {},
   "outputs": [
    {
     "data": {
      "image/png": "[encoded data removed]",
      "text/plain": [
       "Graphics object consisting of 1 graphics primitive"
      ]
     },
     "execution_count": 186,
     "metadata": {},
     "output_type": "execute_result"
    }
   ],
   "source": [
    "points([(0,0),(1,1),(2,-0.5),(3,0.1)],figsize=4)"
   ]
  },
  {
   "cell_type": "markdown",
   "metadata": {},
   "source": [
    "![image](Practica1_media/cell_205_sage0.png)\n",
    "\n",
    "Con esta orden **points** y con lo que sabemos de listas y evaluaciones ya podemos dibujar nuestra función anterior $f$ en el intervalo \\[-1,1\\], por ejemplo:"
   ]
  },
  {
   "cell_type": "code",
   "execution_count": 187,
   "metadata": {},
   "outputs": [
    {
     "data": {
      "image/png": "[encoded data removed]",
      "text/plain": [
       "Graphics object consisting of 1 graphics primitive"
      ]
     },
     "execution_count": 187,
     "metadata": {},
     "output_type": "execute_result"
    }
   ],
   "source": [
    "p=[-1,-0.98..1] # creamos una red tupida de puntos en el intervalo [-1,1] \n",
    "L=[(i,f(i)) for i in p] # formamos los pares (x_n,f(x_n)) donde x_n son los puntos de p\n",
    "points(L,figsize=4)"
   ]
  },
  {
   "cell_type": "markdown",
   "metadata": {},
   "source": [
    "![image](Practica1_media/cell_206_sage0.png)\n",
    "\n",
    "En la práctica, solemos unir los puntos y ya tenemos la gráfica de la función. Pero Sage hace este papel con la orden **plot**, de sintaxis muy sencilla y con numerosas opciones, que usaremos con muchísima frecuencia en este curso."
   ]
  },
  {
   "cell_type": "code",
   "execution_count": 188,
   "metadata": {},
   "outputs": [
    {
     "data": {
      "image/png": "[encoded data removed]",
      "text/plain": [
       "Graphics object consisting of 1 graphics primitive"
      ]
     },
     "execution_count": 188,
     "metadata": {},
     "output_type": "execute_result"
    }
   ],
   "source": [
    "plot(f(x),(x,-1,1),figsize=4)"
   ]
  },
  {
   "cell_type": "markdown",
   "metadata": {},
   "source": [
    "![image](Practica1_media/cell_137_sage0.png)\n",
    "\n",
    "## Ejercicios resueltos\n",
    "\n",
    "Mostramos a continuación cómo Sage nos puede ayudar en la resolución de problemas similares a los que nos podemos encontrar en el desarrollo de la asignatura. Se verá que, a veces, tendremos que poner algo de nuestra parte. Aprovecharemos también para ir conociendo particularidades o sintaxis de algunas órdenes.\n",
    "\n",
    "1.  Simplificar la expresión $\\displaystyle f(x)=e^{x^2-x}\\frac{(1+\\tan^2 x)\\cos x}{e^x}$."
   ]
  },
  {
   "cell_type": "code",
   "execution_count": 189,
   "metadata": {},
   "outputs": [
    {
     "data": {
      "text/html": [
       "<html><script type=\"math/tex; mode=display\">\\newcommand{\\Bold}[1]{\\mathbf{#1}}\\frac{e^{\\left(x^{2} - 2 \\, x\\right)}}{\\cos\\left(x\\right)}</script></html>"
      ],
      "text/plain": [
       "e^(x^2 - 2*x)/cos(x)"
      ]
     },
     "metadata": {},
     "output_type": "display_data"
    }
   ],
   "source": [
    "ex=exp(x^2-x)*(1+tan(x)^2)*cos(x)/exp(x)\n",
    "show(ex.full_simplify())"
   ]
  },
  {
   "cell_type": "markdown",
   "metadata": {},
   "source": [
    "1.  Hallar las raíces del polinomio $x^3+x^2-5x+3=0$ y factorizarlo."
   ]
  },
  {
   "cell_type": "code",
   "execution_count": 190,
   "metadata": {},
   "outputs": [
    {
     "data": {
      "text/plain": [
       "[x == -3, x == 1]"
      ]
     },
     "execution_count": 190,
     "metadata": {},
     "output_type": "execute_result"
    }
   ],
   "source": [
    "solve(x^3+x^2-5*x+3==0,x)"
   ]
  },
  {
   "cell_type": "markdown",
   "metadata": {},
   "source": [
    "Algo extraño sucede: es un polinomio real de grado $3$ y sólo aparecen $2$ raíces reales. Ocurre que hay una con multiplicidad doble. Para verlo tenemos que poner:"
   ]
  },
  {
   "cell_type": "code",
   "execution_count": 191,
   "metadata": {},
   "outputs": [
    {
     "data": {
      "text/plain": [
       "([x == -3, x == 1], [1, 2])"
      ]
     },
     "execution_count": 191,
     "metadata": {},
     "output_type": "execute_result"
    }
   ],
   "source": [
    "solve(x^3+x^2-5*x+3==0,x,multiplicities=True) # indica que -3 es simple y 1 es doble"
   ]
  },
  {
   "cell_type": "code",
   "execution_count": 192,
   "metadata": {},
   "outputs": [
    {
     "data": {
      "text/plain": [
       "(x + 3)*(x - 1)^2"
      ]
     },
     "execution_count": 192,
     "metadata": {},
     "output_type": "execute_result"
    }
   ],
   "source": [
    "factor(x^3+x^2-5*x+3,x) # he aquí otra forma de verlo"
   ]
  },
  {
   "cell_type": "markdown",
   "metadata": {},
   "source": [
    "1.  Resolver la ecuación $\\log(2t)+\\log(4t)=\\log t$. Comprobar gráficamente el resultado."
   ]
  },
  {
   "cell_type": "code",
   "execution_count": 193,
   "metadata": {},
   "outputs": [
    {
     "data": {
      "text/plain": [
       "[log(4*t) == -log(2*t) + log(t)]"
      ]
     },
     "execution_count": 193,
     "metadata": {},
     "output_type": "execute_result"
    }
   ],
   "source": [
    "var('t')\n",
    "f(t)=log(2*t)+log(4*t)-log(t)\n",
    "solve(f(t)==0,t)"
   ]
  },
  {
   "cell_type": "markdown",
   "metadata": {},
   "source": [
    "No ha sabido resolverlo. Con la opción **to\\_poly\\_solve=True** activamos un procedimiento de Maxima que es capaz de resolver algunas ecuaciones más (aunque este procedimiento no da multiplicidades)."
   ]
  },
  {
   "cell_type": "code",
   "execution_count": 194,
   "metadata": {},
   "outputs": [
    {
     "data": {
      "text/plain": [
       "[t == (1/8)]"
      ]
     },
     "execution_count": 194,
     "metadata": {},
     "output_type": "execute_result"
    }
   ],
   "source": [
    "solve(f(t)==0,t,to_poly_solve=True)"
   ]
  },
  {
   "cell_type": "code",
   "execution_count": 195,
   "metadata": {},
   "outputs": [
    {
     "data": {
      "image/png": "[encoded data removed]",
      "text/plain": [
       "Graphics object consisting of 1 graphics primitive"
      ]
     },
     "execution_count": 195,
     "metadata": {},
     "output_type": "execute_result"
    }
   ],
   "source": [
    "plot(f(t),(t,1/16,1/4)) # gráficamente vemos el cero en 1/8=0.125"
   ]
  },
  {
   "cell_type": "markdown",
   "metadata": {},
   "source": [
    "![image](Practica1_media/cell_243_sage0.png)\n",
    "\n",
    "1.  Tratar de resolver la ecuación $\\sin x=x-1$. Si no se puede, obtener soluciones de forma aproximada."
   ]
  },
  {
   "cell_type": "code",
   "execution_count": 196,
   "metadata": {},
   "outputs": [
    {
     "data": {
      "text/plain": [
       "[x == sin(x) + 1]"
      ]
     },
     "execution_count": 196,
     "metadata": {},
     "output_type": "execute_result"
    }
   ],
   "source": [
    "f(x)=sin(x)-x+1\n",
    "solve(f(x)==0,x) # no lo resuelve, ni con opciones especiales"
   ]
  },
  {
   "cell_type": "code",
   "execution_count": 197,
   "metadata": {},
   "outputs": [
    {
     "data": {
      "image/png": "[encoded data removed]",
      "text/plain": [
       "Graphics object consisting of 1 graphics primitive"
      ]
     },
     "execution_count": 197,
     "metadata": {},
     "output_type": "execute_result"
    }
   ],
   "source": [
    "plot(f(x),(x,-10,10)) # vemos una solución un poco antes de x=2"
   ]
  },
  {
   "cell_type": "markdown",
   "metadata": {},
   "source": [
    "![image](Practica1_media/cell_244_sage0.png)"
   ]
  },
  {
   "cell_type": "code",
   "execution_count": 198,
   "metadata": {},
   "outputs": [
    {
     "data": {
      "text/plain": [
       "1.9345632107520898"
      ]
     },
     "execution_count": 198,
     "metadata": {},
     "output_type": "execute_result"
    }
   ],
   "source": [
    "find_root(f(x)==0,1.5,2.5) # encuentra una solución aproximada en el intervalo (1.5,2.5)"
   ]
  },
  {
   "cell_type": "markdown",
   "metadata": {},
   "source": [
    "1.  Resolver la inecuación $x(x^2-2)(x^2-4)>0$."
   ]
  },
  {
   "cell_type": "code",
   "execution_count": 199,
   "metadata": {},
   "outputs": [
    {
     "data": {
      "text/plain": [
       "[[x > -2, x < -sqrt(2)], [x > 0, x < sqrt(2)], [x > 2]]"
      ]
     },
     "execution_count": 199,
     "metadata": {},
     "output_type": "execute_result"
    }
   ],
   "source": [
    "solve(x*(x^2-2)*(x^2-4)>0,x) # solución: intervalos (-2,-sqrt(2)), (0,sqrt(2)) y (2,+infty)"
   ]
  },
  {
   "cell_type": "code",
   "execution_count": 200,
   "metadata": {},
   "outputs": [
    {
     "data": {
      "text/plain": [
       "[[x > -2, x < -sqrt(2)], [x > 0, x < sqrt(2)], [x > 2]]"
      ]
     },
     "execution_count": 200,
     "metadata": {},
     "output_type": "execute_result"
    }
   ],
   "source": [
    "solve_ineq(x*(x^2-2)*(x^2-4)>0,x) # en ocasiones solve_ineq es más precisa que solve"
   ]
  },
  {
   "cell_type": "markdown",
   "metadata": {},
   "source": [
    "1.  Hallar los $x$ que verifican las dos desigualdades siguientes $\\frac{x}{|x-1|}\\geq 0$, $\\frac{1}{x}<x+1$."
   ]
  },
  {
   "cell_type": "code",
   "execution_count": 201,
   "metadata": {},
   "outputs": [
    {
     "data": {
      "text/plain": [
       "[[0 < x, x < 1, x^2 + x - 1 > 0], [1 < x, x^2 + x - 1 > 0]]"
      ]
     },
     "execution_count": 201,
     "metadata": {},
     "output_type": "execute_result"
    }
   ],
   "source": [
    "solve([x/abs(x-1)>=0,1/x<x+1],x) # vemos que no la resuelve del todo"
   ]
  },
  {
   "cell_type": "code",
   "execution_count": 202,
   "metadata": {},
   "outputs": [
    {
     "data": {
      "text/plain": [
       "[[x < -1/2*sqrt(5) - 1/2], [x > 1/2*sqrt(5) - 1/2]]"
      ]
     },
     "execution_count": 202,
     "metadata": {},
     "output_type": "execute_result"
    }
   ],
   "source": [
    "solve(x^2+x-1>0,x) # con esto podemos completar el estudio nosotros"
   ]
  },
  {
   "cell_type": "markdown",
   "metadata": {},
   "source": [
    "1.  Comprobar la igualdad $\\displaystyle 1^2+2^2+\\cdots+n^2=\\frac{n(n+1)(2n+1)}{6}$ para cualquier $n\\in\\mathbf{N}$."
   ]
  },
  {
   "cell_type": "code",
   "execution_count": 203,
   "metadata": {},
   "outputs": [
    {
     "data": {
      "text/plain": [
       "1/3*n^3 + 1/2*n^2 + 1/6*n"
      ]
     },
     "execution_count": 203,
     "metadata": {},
     "output_type": "execute_result"
    }
   ],
   "source": [
    "var('k n')\n",
    "sum(k^2,k,1,n)"
   ]
  },
  {
   "cell_type": "code",
   "execution_count": 204,
   "metadata": {},
   "outputs": [
    {
     "data": {
      "text/html": [
       "<html><script type=\"math/tex; mode=display\">\\newcommand{\\Bold}[1]{\\mathbf{#1}}\\frac{1}{6} \\, {\\left(2 \\, n + 1\\right)} {\\left(n + 1\\right)} n</script></html>"
      ],
      "text/plain": [
       "1/6*(2*n + 1)*(n + 1)*n"
      ]
     },
     "metadata": {},
     "output_type": "display_data"
    }
   ],
   "source": [
    "show(factor(_)) # comprobado"
   ]
  },
  {
   "cell_type": "markdown",
   "metadata": {},
   "source": [
    "1.  Formar una lista que contenga los números $\\displaystyle a_n=\\frac{2n^3+1}{n^2+n+3}$, $n=1,\\dots,50$. Formar una lista (sublista de la anterior) con los términos $a_5,a_{10},a_{15},\\dots,a_{50}$."
   ]
  },
  {
   "cell_type": "code",
   "execution_count": 205,
   "metadata": {},
   "outputs": [
    {
     "data": {
      "text/plain": [
       "[251/33,\n",
       " 2001/113,\n",
       " 6751/243,\n",
       " 16001/423,\n",
       " 31251/653,\n",
       " 54001/933,\n",
       " 85751/1263,\n",
       " 128001/1643,\n",
       " 182251/2073,\n",
       " 250001/2553]"
      ]
     },
     "execution_count": 205,
     "metadata": {},
     "output_type": "execute_result"
    }
   ],
   "source": [
    "a=[(2*n^3+1)/(n^2+n+3) for n in [1..50]]\n",
    "[(2*n^3+1)/(n^2+n+3) for n in [5,10..50]] # esta es la sublista"
   ]
  },
  {
   "cell_type": "code",
   "execution_count": 206,
   "metadata": {},
   "outputs": [
    {
     "data": {
      "text/plain": [
       "[251/33,\n",
       " 2001/113,\n",
       " 6751/243,\n",
       " 16001/423,\n",
       " 31251/653,\n",
       " 54001/933,\n",
       " 85751/1263,\n",
       " 128001/1643,\n",
       " 182251/2073,\n",
       " 250001/2553]"
      ]
     },
     "execution_count": 206,
     "metadata": {},
     "output_type": "execute_result"
    }
   ],
   "source": [
    "a(x)=(2*x^3+1)/(x^2+x+3) # otra manera\n",
    "[a(i) for i in [5,10..50]]"
   ]
  },
  {
   "cell_type": "markdown",
   "metadata": {},
   "source": [
    "1.  Formar una partición del intervalo $[1,2]$ con puntos equidistantes entre sí a una distancia de 0.01. Calcular los valores de las funciones $f(x)=\\frac{1}{x-3}-\\frac{1}{x}$ y $g(x)=\\frac{3}{x(x-3)}$ en los puntos de esa partición. Estos valores deberían ser iguales: comprobarlo."
   ]
  },
  {
   "cell_type": "code",
   "execution_count": 207,
   "metadata": {},
   "outputs": [],
   "source": [
    "p=[1,1.01..2]\n",
    "f(x)=1/(x-3)-1/x\n",
    "g(x)=3/(x*(x-3))\n",
    "fp=[f(i) for i in p] # estas listas son demasiado extensas para verlas en pantalla\n",
    "gp=[g(i) for i in p]"
   ]
  },
  {
   "cell_type": "code",
   "execution_count": 208,
   "metadata": {},
   "outputs": [
    {
     "data": {
      "text/plain": [
       "0.000000000000000"
      ]
     },
     "execution_count": 208,
     "metadata": {},
     "output_type": "execute_result"
    }
   ],
   "source": [
    "fp[1]-gp[1]; fp[60]-gp[60]; fp[92]-gp[92] # comprobamos que en algunos valores son iguales"
   ]
  },
  {
   "cell_type": "code",
   "execution_count": 209,
   "metadata": {},
   "outputs": [
    {
     "data": {
      "image/png": "[encoded data removed]",
      "text/plain": [
       "Graphics object consisting of 1 graphics primitive"
      ]
     },
     "execution_count": 209,
     "metadata": {},
     "output_type": "execute_result"
    }
   ],
   "source": [
    "pares=[(i,f(i)-g(i)) for i in p] # aquí vemos que los elementos de la lista son todos números             cercanísimos a 0\n",
    "points(pares) # los redondeos con decimales llevan a estas situaciones"
   ]
  }
 ],
 "metadata": {
  "kernelspec": {
   "display_name": "SageMath 8.7",
   "language": "",
   "name": "sagemath"
  },
  "language_info": {
   "codemirror_mode": {
    "name": "ipython",
    "version": 2
   },
   "file_extension": ".py",
   "mimetype": "text/x-python",
   "name": "python",
   "nbconvert_exporter": "python",
   "pygments_lexer": "ipython2",
   "version": "2.7.15"
  }
 },
 "nbformat": 4,
 "nbformat_minor": 4
}
