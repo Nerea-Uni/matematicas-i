{
 "cells": [
  {
   "cell_type": "markdown",
   "metadata": {},
   "source": [
    "$$\n",
    "\\def\\CC{\\bf C}\n",
    "\\def\\QQ{\\bf Q}\n",
    "\\def\\RR{\\bf R}\n",
    "\\def\\ZZ{\\bf Z}\n",
    "\\def\\NN{\\bf N}\n",
    "$$\n",
    "# Práctica nº 2. Matemáticas I de Ingeniería Informática\n",
    "\n",
    "En esta práctica vamos a realizar ejercicios correspondientes a las primeras clases de la asignatura. Algunos consistirán en repasar o incidir en cuestiones tratadas en la práctica anterior como resolución de ecuaciones e inecuaciones. Contenido:\n",
    "\n",
    "-   Igualdades y desigualdades\n",
    "-   Listas: sucesiones\n",
    "\n",
    "**Nota:** Cuando estemos trabajando con expresiones simbólicas, los siguientes comandos pueden ser de utilidad **simplify**, **expand** (ejecuta multiplicaciones y potencias para convertir la expresión en una suma desarrollada), **factor** (si la expresión es un polinomio, lo factoriza, es decir, intenta expresarlo como productos) y **full_simplify** (aplica varios métodos de simplificación y devuelve la expresión más corta). Esta última función tiene sólo la sintaxis expresion.full_simplify(). Observar los siguientes ejemplos:"
   ]
  },
  {
   "cell_type": "code",
   "execution_count": 52,
   "metadata": {},
   "outputs": [
    {
     "data": {
      "text/html": [
       "<html><script type=\"math/tex; mode=display\">\\newcommand{\\Bold}[1]{\\mathbf{#1}}{\\left(x + y\\right)}^{2}</script></html>"
      ],
      "text/plain": [
       "(x + y)^2"
      ]
     },
     "metadata": {},
     "output_type": "display_data"
    },
    {
     "data": {
      "text/html": [
       "<html><script type=\"math/tex; mode=display\">\\newcommand{\\Bold}[1]{\\mathbf{#1}}x^{2} + 2 \\, x y + y^{2}</script></html>"
      ],
      "text/plain": [
       "x^2 + 2*x*y + y^2"
      ]
     },
     "metadata": {},
     "output_type": "display_data"
    }
   ],
   "source": [
    "var('y')\n",
    "show(simplify((x+y)^2))\n",
    "show(expand((x+y)^2))"
   ]
  },
  {
   "cell_type": "code",
   "execution_count": 14,
   "metadata": {},
   "outputs": [
    {
     "data": {
      "text/plain": [
       "x^2 + 2*x*y + y^2"
      ]
     },
     "execution_count": 14,
     "metadata": {},
     "output_type": "execute_result"
    }
   ],
   "source": [
    "((x+y)^2).full_simplify()"
   ]
  },
  {
   "cell_type": "code",
   "execution_count": 15,
   "metadata": {},
   "outputs": [
    {
     "data": {
      "text/plain": [
       "(x + y)^2"
      ]
     },
     "execution_count": 15,
     "metadata": {},
     "output_type": "execute_result"
    }
   ],
   "source": [
    "factor(x^2+y^2+2*x*y)"
   ]
  },
  {
   "cell_type": "markdown",
   "metadata": {},
   "source": [
    "## 1. Ecuaciones, desigualdades y sistemas de ecuaciones o desigualdades\n",
    "\n",
    "Las órdenes que usamos son:\n",
    "\n",
    "-   reset , var , assume .\n",
    "-   solve, to_poly_solve=True. Con esta orden resolvemos ecuaciones, desigualdades y sistemas de ecuaciones o desigualdades.\n",
    "-   plot , con las opciones figsize , ymax , ymin . Con esta orden representamos gráficas de funciones.\n",
    "-   point , con las opciones size , color= . Para dibujar un conjunto de puntos $(x_1,y_1)$, ..., $(x_n,y_n)$ en el plano.\n",
    "-   rhs , aplicado a una ecuación a==b , devuelve el lado izquierdo, es decir, b .\n",
    "\n",
    "**Ejemplo 1.** Resolver la desigualdad $\\frac{2x-1}{3x+2} \\leq 1$."
   ]
  },
  {
   "cell_type": "code",
   "execution_count": 16,
   "metadata": {},
   "outputs": [
    {
     "data": {
      "text/plain": [
       "[[x <= -3], [x > (-2/3)]]"
      ]
     },
     "execution_count": 16,
     "metadata": {},
     "output_type": "execute_result"
    }
   ],
   "source": [
    "solve((2*x-1)/(3*x+2)<=1,x,to_poly_solve=True)"
   ]
  },
  {
   "cell_type": "markdown",
   "metadata": {},
   "source": [
    "La solución es clara: es una lista de dos elementos que a su vez son listas. En estas dos listas observamos las condiciones $x\\leq -3$ y $x>-2/3$. Es decir, la solución es la unión de intervalos $(-\\infty,-3]\\cup (-2/3,\\infty)$. Podemos extraer las dos listas así:"
   ]
  },
  {
   "cell_type": "code",
   "execution_count": 5,
   "metadata": {},
   "outputs": [
    {
     "name": "stdout",
     "output_type": "stream",
     "text": [
      "[x <= -3]\n",
      "[x > (-2/3)]\n"
     ]
    }
   ],
   "source": [
    "s=solve((2*x-1)/(3*x+2)<=1,x,to_poly_solve=True)\n",
    "print(s[0])\n",
    "print(s[1])"
   ]
  },
  {
   "cell_type": "markdown",
   "metadata": {},
   "source": [
    "Vamos a comprobar gráficamente que la solución es correcta. Para ello, dibujaremos la función $f(x)=\\frac{2x-1}{3x+2}-1$ y veremos cuando $f(x)\\leq 0$. Vamos a dibujar, por ejemplo, en el intervalo $[-5,5]$. Algún problema vamos a tener porque cuando $x=-2/3$ es $3x+2=0$ y $f(x)$ no está definida y cerca de este punto los valores de $f(x)$ son muy grandes (hay una asíntota en $x=-2/3$). Por ello nos encontramos con el siguiente resultado:"
   ]
  },
  {
   "cell_type": "code",
   "execution_count": 6,
   "metadata": {},
   "outputs": [
    {
     "data": {
      "image/png": "[encoded data removed]",
      "text/plain": [
       "Graphics object consisting of 1 graphics primitive"
      ]
     },
     "execution_count": 6,
     "metadata": {},
     "output_type": "execute_result"
    }
   ],
   "source": [
    "plot((2*x-1)/(3*x+2)-1,(x,-5,5),figsize=4)"
   ]
  },
  {
   "cell_type": "markdown",
   "metadata": {},
   "source": [
    "Cuando nos alejamos algo de $-2/3$ los valores de la función son muy pequeños comparados con los valores muy próximos a $-2/3$. Observar los valores que nos indica en el eje $OY$. Esto lo podemos arreglar pidiendo que no dibuje valores de $f(x)$ que se salgan de un rango que indicamos con ymax e ymin. En este caso elegimos los valores $6$ y $-6$ :"
   ]
  },
  {
   "cell_type": "code",
   "execution_count": 7,
   "metadata": {},
   "outputs": [
    {
     "data": {
      "image/png": "[encoded data removed]",
      "text/plain": [
       "Graphics object consisting of 1 graphics primitive"
      ]
     },
     "execution_count": 7,
     "metadata": {},
     "output_type": "execute_result"
    }
   ],
   "source": [
    "plot((2*x-1)/(3*x+2)-1,(x,-5,2),figsize=4,ymax=6,ymin=-6)"
   ]
  },
  {
   "cell_type": "markdown",
   "metadata": {},
   "source": [
    "La linea vertical dibujada es la asíntota $x=-2/3$. Está gráfica parece que basta para indicarnos que $f(x)$ es efectivamente negativa (está por debajo del eje $OX$) desde $x=-3$ para atrás y desde $x=-2/3$ en adelante. Si alguien dudara se puede hacer una gráfica en torno a $-3$\n",
    "\n",
    "Ejemplo 2. Resolver la desigualdad $|17-2x^4| \\leq 15$."
   ]
  },
  {
   "cell_type": "code",
   "execution_count": 8,
   "metadata": {},
   "outputs": [
    {
     "data": {
      "text/plain": [
       "[[x == -2, 15 == 0],\n",
       " [x == 2, 15 == 0],\n",
       " [x == -2, 15 > 0],\n",
       " [x == 2, 15 > 0],\n",
       " [x == -1, 15 > 0],\n",
       " [x == 1, 15 > 0],\n",
       " [1 < x, x < 2],\n",
       " [-2 < x, x < -1]]"
      ]
     },
     "execution_count": 8,
     "metadata": {},
     "output_type": "execute_result"
    }
   ],
   "source": [
    "solve(abs(17-2*x**4)<=15,x,to_poly_solve=True)"
   ]
  },
  {
   "cell_type": "markdown",
   "metadata": {},
   "source": [
    "Ahora, la solución no es tan clara pues vemos cosas extrañas como la lista interior \\[x==2,15==0\\] y la expresión 15==0 parece absurda. Sin embargo, la lista \\[1&lt;x,x&lt;2\\] que indica el intervalo $(1,2)$ parece coherente. Vamos a cambiar la perspectiva y hacer la gráfica de $|17-2x^4|-15$. Después de algunos intentos nos decantamos por dibujar en el intervalo $[-5/2,5/2]$ :"
   ]
  },
  {
   "cell_type": "code",
   "execution_count": 9,
   "metadata": {},
   "outputs": [
    {
     "data": {
      "image/png": "[encoded data removed]",
      "text/plain": [
       "Graphics object consisting of 1 graphics primitive"
      ]
     },
     "execution_count": 9,
     "metadata": {},
     "output_type": "execute_result"
    }
   ],
   "source": [
    "plot(abs(17-2*x**4)-15,(x,-2.5,2.5),figsize=4)"
   ]
  },
  {
   "cell_type": "markdown",
   "metadata": {},
   "source": [
    "Observamos que $f(x)\\leq 0$ en la unión de intervalos $[-2,-1]\\cup[1,2]$. Y, con un poco de paciencia, podemos desentrañar que ésta es exactamente la solución que Sage nos ha dado con la orden solve.\n",
    "\n",
    "La confusa respuesta de Sage proviene probablemente del cálculo con valores absolutos. Nosotros con nuestros conocimientos teóricos podemos evitar los valores absolutos. En efecto, sabemos que $|a|\\leq 15$ si y solo $-15\\leq a\\leq 15$. Entonces nuestra desigualdad $|f(x)|\\leq 15$ equivale a resolver las dos desigualdades $-15\\leq f(x)$ y $f(x)\\leq 15$. La orden solve también resuelve sistemas de ecuaciones o inecuaciones; sólo hay que conocer la sintaxis: las ecuaciones se ponen en una lista (entre corchetes y separadas por comas):"
   ]
  },
  {
   "cell_type": "code",
   "execution_count": 10,
   "metadata": {},
   "outputs": [
    {
     "data": {
      "text/plain": [
       "[[-2 < x, x < -1], [1 < x, x < 2], [x == -2], [x == -1], [x == 1], [x == 2]]"
      ]
     },
     "execution_count": 10,
     "metadata": {},
     "output_type": "execute_result"
    }
   ],
   "source": [
    "solve([-15<=17-2*x**4,17-2*x**4<=15],x,to_poly_solve=True)"
   ]
  },
  {
   "cell_type": "markdown",
   "metadata": {},
   "source": [
    "Aquí vemos claramente la solución: las listas interiores indican respectivamente el intervalo $(-2,-1)$, el intervalo $(1,2)$, el punto $-2$, el punto $-1$, el punto $1$ y el punto $2$. Uniéndolo todo tenemos $[-2,-1]\\cup[1,2]$ "
   ]
  },
  {
   "cell_type": "markdown",
   "metadata": {},
   "source": [
    "**NOTA IMPORTANTE.** La orden plot la usamos para hacer gráficas de funciones y nada más. No tiene sentido hacer la gráfica de una ecuación o de una desigualdad. Así, en estos ejemplos anteriores es un grave error escribir cosas como plot(abs((x-1)\\*(x-2))==3,x), plot(abs(17-2\\*x\\*\\*4)&lt;=15,x) y similares; aunque a veces no dé mensaje de error nunca sabremos qué significa la respuesta.\n",
    "\n",
    "## 2. Listas: sucesiones.\n",
    "\n",
    "Una lista para Sage es una colección de objetos (que pueden ser números, variables, igualdades, textos y más cosas) que están entre corchetes \\[ \\] y separados por comas. El uso de las listas puede ser muy útil y además Sage devuelve muchos resultados en forma de listas.\n"
   ]
  },
  {
   "cell_type": "code",
   "execution_count": 11,
   "metadata": {},
   "outputs": [
    {
     "data": {
      "text/plain": [
       "[3, 7, x^2, 'tercero', x^2 == 49, 25]"
      ]
     },
     "execution_count": 11,
     "metadata": {},
     "output_type": "execute_result"
    }
   ],
   "source": [
    "[3,7,x^2,\"tercero\",x^2==49,25] # esto es una lista de 6 elementos"
   ]
  },
  {
   "cell_type": "markdown",
   "metadata": {},
   "source": [
    "Para recuperar el elemento $k$-ésimo de una lista L, la sintaxis es L\\[k\\], teniendo en cuenta que se empieza a numerar por $k=0$. No parece muy lógico que el primer elemento de la lista sea el $0$-ésimo, pero en algunos problemas presenta ventajas y de hecho, muchas aplicaciones utilizan esta numeración."
   ]
  },
  {
   "cell_type": "code",
   "execution_count": 12,
   "metadata": {},
   "outputs": [
    {
     "ename": "IndexError",
     "evalue": "list index out of range",
     "output_type": "error",
     "traceback": [
      "\u001b[0;31m---------------------------------------------------------------------------\u001b[0m",
      "\u001b[0;31mIndexError\u001b[0m                                Traceback (most recent call last)",
      "\u001b[0;32m<ipython-input-12-3cf7c48a4e02>\u001b[0m in \u001b[0;36m<module>\u001b[0;34m()\u001b[0m\n\u001b[1;32m      1\u001b[0m \u001b[0mL\u001b[0m\u001b[0;34m=\u001b[0m\u001b[0;34m[\u001b[0m\u001b[0mInteger\u001b[0m\u001b[0;34m(\u001b[0m\u001b[0;36m3\u001b[0m\u001b[0;34m)\u001b[0m\u001b[0;34m,\u001b[0m\u001b[0mInteger\u001b[0m\u001b[0;34m(\u001b[0m\u001b[0;36m7\u001b[0m\u001b[0;34m)\u001b[0m\u001b[0;34m,\u001b[0m\u001b[0mx\u001b[0m\u001b[0;34m**\u001b[0m\u001b[0mInteger\u001b[0m\u001b[0;34m(\u001b[0m\u001b[0;36m2\u001b[0m\u001b[0;34m)\u001b[0m\u001b[0;34m,\u001b[0m\u001b[0;34m\"tercero\"\u001b[0m\u001b[0;34m,\u001b[0m\u001b[0my\u001b[0m\u001b[0;34m**\u001b[0m\u001b[0mInteger\u001b[0m\u001b[0;34m(\u001b[0m\u001b[0;36m2\u001b[0m\u001b[0;34m)\u001b[0m\u001b[0;34m==\u001b[0m\u001b[0mInteger\u001b[0m\u001b[0;34m(\u001b[0m\u001b[0;36m49\u001b[0m\u001b[0;34m)\u001b[0m\u001b[0;34m,\u001b[0m\u001b[0mInteger\u001b[0m\u001b[0;34m(\u001b[0m\u001b[0;36m25\u001b[0m\u001b[0;34m)\u001b[0m\u001b[0;34m]\u001b[0m\u001b[0;34m\u001b[0m\u001b[0m\n\u001b[0;32m----> 2\u001b[0;31m \u001b[0mL\u001b[0m\u001b[0;34m[\u001b[0m\u001b[0mInteger\u001b[0m\u001b[0;34m(\u001b[0m\u001b[0;36m0\u001b[0m\u001b[0;34m)\u001b[0m\u001b[0;34m]\u001b[0m\u001b[0;34m;\u001b[0m \u001b[0mL\u001b[0m\u001b[0;34m[\u001b[0m\u001b[0mInteger\u001b[0m\u001b[0;34m(\u001b[0m\u001b[0;36m2\u001b[0m\u001b[0;34m)\u001b[0m\u001b[0;34m]\u001b[0m\u001b[0;34m;\u001b[0m \u001b[0mL\u001b[0m\u001b[0;34m[\u001b[0m\u001b[0mInteger\u001b[0m\u001b[0;34m(\u001b[0m\u001b[0;36m3\u001b[0m\u001b[0;34m)\u001b[0m\u001b[0;34m]\u001b[0m\u001b[0;34m;\u001b[0m \u001b[0mL\u001b[0m\u001b[0;34m[\u001b[0m\u001b[0mInteger\u001b[0m\u001b[0;34m(\u001b[0m\u001b[0;36m4\u001b[0m\u001b[0;34m)\u001b[0m\u001b[0;34m]\u001b[0m\u001b[0;34m;\u001b[0m\u001b[0mL\u001b[0m\u001b[0;34m[\u001b[0m\u001b[0mInteger\u001b[0m\u001b[0;34m(\u001b[0m\u001b[0;36m6\u001b[0m\u001b[0;34m)\u001b[0m\u001b[0;34m]\u001b[0m \u001b[0;31m# el mensaje de error para L[6] es claro\u001b[0m\u001b[0;34m\u001b[0m\u001b[0m\n\u001b[0m",
      "\u001b[0;31mIndexError\u001b[0m: list index out of range"
     ]
    }
   ],
   "source": [
    "L=[3,7,x^2,\"tercero\",y^2==49,25]\n",
    "L[0]; L[2]; L[3]; L[4];L[6] # el mensaje de error para L[6] es claro"
   ]
  },
  {
   "cell_type": "markdown",
   "metadata": {},
   "source": [
    "> Resaltamos algunas de las órdenes que usaremos:\n",
    "\n",
    "-   \\[n0..n1\\] donde $n0$ y $n1$ son números enteros crea la lista de los números enteros \\[n0,n0+1,n0+2,n0+3,...,n1\\].\n",
    "-   list.append(a) modifica la lista \"list\" añadiéndole al final el elemento \"a\".\n",
    "-   point([(n,a(n)) for n in [1..n0]]) dibuja los puntos con coordenadas X: 1,2,..., n0 y coordenadas Y: a(1), a(2),..., a(n0).\n",
    "-   limit(a(n),n=oo) calcula el límite de \"a(n)\" cuando n tiende a infinito. Se puede escribir 'lim' en vez de 'limit'.\n",
    "-   sum(a(n),n,n0,n1) calcula la suma de 'a(n') con n desde n0 hasta n1, pudiendo ser n1= $\\infty$.\n",
    "\n",
    "Observad la siguientes respuestas:"
   ]
  },
  {
   "cell_type": "code",
   "execution_count": 18,
   "metadata": {},
   "outputs": [
    {
     "name": "stdout",
     "output_type": "stream",
     "text": [
      "[1, 2, 3, 4, 5, 6, 7, 8, 9, 10]\n",
      "[35, 36, 37, 38, 39, 40, 41, 42, 43, 44, 45, 46, 47, 48, 49, 50]\n"
     ]
    }
   ],
   "source": [
    "print [1..10]\n",
    "print [35..50]"
   ]
  },
  {
   "cell_type": "markdown",
   "metadata": {},
   "source": [
    "Con estas simples listas podemos formar una nueva lista con un número finito de términos de una sucesión arbitraria. Lo explicamos con un primer ejemplo: consideremos la sucesión $a(n)=\\sin \\frac{n\\pi}{8}$ y formemos una lista con sus diez primeros términos. Es así de fácil:"
   ]
  },
  {
   "cell_type": "code",
   "execution_count": 19,
   "metadata": {},
   "outputs": [
    {
     "data": {
      "text/plain": [
       "[1/2*sqrt(-sqrt(2) + 2),\n",
       " 1/2*sqrt(2),\n",
       " 1/2*sqrt(sqrt(2) + 2),\n",
       " 1,\n",
       " 1/2*sqrt(sqrt(2) + 2),\n",
       " 1/2*sqrt(2),\n",
       " 1/2*sqrt(-sqrt(2) + 2),\n",
       " 0,\n",
       " -1/2*sqrt(-sqrt(2) + 2),\n",
       " -1/2*sqrt(2)]"
      ]
     },
     "execution_count": 19,
     "metadata": {},
     "output_type": "execute_result"
    }
   ],
   "source": [
    "[sin(n*pi/8) for n in [1..10]]"
   ]
  },
  {
   "cell_type": "markdown",
   "metadata": {},
   "source": [
    "Los valores de la función seno, cuando los ha sabido hallar, los ha puesto. Si queremos hacer una lista de, por ejemplo, los 100 primeros términos, va a resultar incómodo ver el resultado en pantalla. Aquí nos puede ser muy útil la orden point que dibuja en un plano coordenado los puntos $(n,a(n))$. Es decir los pares $(1,a(1))$, $(2,a(2))$, $(3,a(3))$, ... y así hasta el lugar que indiquemos."
   ]
  },
  {
   "cell_type": "code",
   "execution_count": 20,
   "metadata": {},
   "outputs": [
    {
     "data": {
      "image/png": "[encoded data removed]",
      "text/plain": [
       "Graphics object consisting of 1 graphics primitive"
      ]
     },
     "execution_count": 20,
     "metadata": {},
     "output_type": "execute_result"
    }
   ],
   "source": [
    "L=[(n,sin(n*pi/8)) for n in [1..100]] # muy incómodo de ver en pantalla\n",
    "point(L,figsize=5)"
   ]
  },
  {
   "cell_type": "markdown",
   "metadata": {},
   "source": [
    "Aquí vemos mucha información sobre la sucesión. Por ejemplo que se repite cada $16$ términos (y es que efectivamente $a(n)=a(n+16)$ por la periodicidad de la función seno). También vemos que el término de la sucesión $a(41)$ es un valor cercano a $-0.4$. Comprobémoslo:"
   ]
  },
  {
   "cell_type": "code",
   "execution_count": 24,
   "metadata": {},
   "outputs": [
    {
     "data": {
      "text/html": [
       "<html><script type=\"math/tex; mode=display\">\\newcommand{\\Bold}[1]{\\mathbf{#1}}-0.382683432365090</script></html>"
      ],
      "text/plain": [
       "-0.382683432365090"
      ]
     },
     "metadata": {},
     "output_type": "display_data"
    },
    {
     "data": {
      "text/plain": [
       "0"
      ]
     },
     "execution_count": 24,
     "metadata": {},
     "output_type": "execute_result"
    }
   ],
   "source": [
    "show(sin(41*pi/8).n())\n",
    "(sin(n*pi/8)-sin((n+16)*pi/8)).full_simplify()"
   ]
  },
  {
   "cell_type": "markdown",
   "metadata": {},
   "source": [
    "Una forma más organizada de introducir términos de la sucesión es usando la sintaxis de funciones. Aquí no hace falta declarar n como variable, aunque muchas veces lo haremos."
   ]
  },
  {
   "cell_type": "code",
   "execution_count": 25,
   "metadata": {},
   "outputs": [],
   "source": [
    "a(n)=sin(n*pi/8)\n",
    "L=[(n,a(n)) for n in [1..100]] # misma lista anterior"
   ]
  },
  {
   "cell_type": "code",
   "execution_count": 26,
   "metadata": {},
   "outputs": [
    {
     "data": {
      "text/plain": [
       "-0.382683432365090"
      ]
     },
     "execution_count": 26,
     "metadata": {},
     "output_type": "execute_result"
    }
   ],
   "source": [
    "a(41).n() # así resulta más cómodo hallar valores particulares"
   ]
  },
  {
   "cell_type": "markdown",
   "metadata": {},
   "source": [
    "Veamos algunos ejemplos de cálculo de límites de sucesiones:\n",
    "\n",
    "**Ejemplo 1.** Calcular el límite de la sucesión $\\displaystyle a_n=1+\\frac{e^n}{n!}\\, \\sin(n)$ y corroborar el resultado con gráficas."
   ]
  },
  {
   "cell_type": "code",
   "execution_count": 27,
   "metadata": {},
   "outputs": [
    {
     "data": {
      "text/html": [
       "<html><script type=\"math/tex; mode=display\">\\newcommand{\\Bold}[1]{\\mathbf{#1}}\\frac{e^{n} \\sin\\left(n\\right)}{n!} + 1</script></html>"
      ],
      "text/plain": [
       "e^n*sin(n)/factorial(n) + 1"
      ]
     },
     "metadata": {},
     "output_type": "display_data"
    }
   ],
   "source": [
    "reset()\n",
    "n=var('n')\n",
    "a(n)=1+(e^n)/factorial(n)*sin(n)\n",
    "show(a(n))"
   ]
  },
  {
   "cell_type": "markdown",
   "metadata": {},
   "source": [
    "La ordenlimit(a(n),n=oo) (infinito se introduce en Sage con dos oes minúsculas) halla, si puede, el valor del límite de $a(n)$ cuando n tiende a $\\infty$."
   ]
  },
  {
   "cell_type": "code",
   "execution_count": 28,
   "metadata": {},
   "outputs": [
    {
     "data": {
      "text/plain": [
       "1"
      ]
     },
     "execution_count": 28,
     "metadata": {},
     "output_type": "execute_result"
    }
   ],
   "source": [
    "limit(a(n),n=oo)"
   ]
  },
  {
   "cell_type": "markdown",
   "metadata": {},
   "source": [
    "Con el siguiente dibujo queda claro que los términos de $a(n)$ cuando $n$ crece se acercan al valor $1$ y además muy rápidamente; el término $a(10)$ ya está muy pegado a $1$ :"
   ]
  },
  {
   "cell_type": "code",
   "execution_count": 29,
   "metadata": {},
   "outputs": [
    {
     "data": {
      "image/png": "[encoded data removed]",
      "text/plain": [
       "Graphics object consisting of 2 graphics primitives"
      ]
     },
     "metadata": {},
     "output_type": "display_data"
    }
   ],
   "source": [
    "ga=point([(n,a(n)) for n in [1..20]])\n",
    "gl=plot(1,(x,1,20),color='red') # dibujo de la recta y=1\n",
    "show(ga+gl)"
   ]
  },
  {
   "cell_type": "markdown",
   "metadata": {},
   "source": [
    "Veamos que para graficar dos funciones juntas, creamos dos gráficas distintas con sus respectivos comandos plot, y después ejecutamos la orden show con la suma de ambas gráficas.\n",
    "\n",
    "Aquí van otras evidencias numéricas, el término a(30) no es $1$ pero hacen falta más dígitos para detectarlo:"
   ]
  },
  {
   "cell_type": "code",
   "execution_count": 38,
   "metadata": {},
   "outputs": [
    {
     "data": {
      "text/html": [
       "<html><script type=\"math/tex; mode=display\">\\newcommand{\\Bold}[1]{\\mathbf{#1}}0.996697844358836</script></html>"
      ],
      "text/plain": [
       "0.996697844358836"
      ]
     },
     "metadata": {},
     "output_type": "display_data"
    },
    {
     "data": {
      "text/html": [
       "<html><script type=\"math/tex; mode=display\">\\newcommand{\\Bold}[1]{\\mathbf{#1}}1.00000000018206</script></html>"
      ],
      "text/plain": [
       "1.00000000018206"
      ]
     },
     "metadata": {},
     "output_type": "display_data"
    },
    {
     "data": {
      "text/html": [
       "<html><script type=\"math/tex; mode=display\">\\newcommand{\\Bold}[1]{\\mathbf{#1}}1.00000000000000</script></html>"
      ],
      "text/plain": [
       "1.00000000000000"
      ]
     },
     "metadata": {},
     "output_type": "display_data"
    },
    {
     "data": {
      "text/plain": [
       "0.99999999999999999996019430348805073916537586158864"
      ]
     },
     "execution_count": 38,
     "metadata": {},
     "output_type": "execute_result"
    }
   ],
   "source": [
    "show(a(10).n())\n",
    "show(a(20).n())\n",
    "show(a(30).n())\n",
    "a(30).n(digits=50)"
   ]
  },
  {
   "cell_type": "markdown",
   "metadata": {},
   "source": [
    "**Ejemplo 2.** Calcular el límite de la sucesión $\\displaystyle a_n= \\frac{(\\sqrt{2n} + n )^3-n^3}{n^2-2\\sqrt{n^5}}$. Representarla y compararla con su límite.\n"
   ]
  },
  {
   "cell_type": "code",
   "execution_count": 39,
   "metadata": {},
   "outputs": [
    {
     "data": {
      "text/html": [
       "<html><script type=\"math/tex; mode=display\">\\newcommand{\\Bold}[1]{\\mathbf{#1}}\\frac{{\\left(\\sqrt{2} \\sqrt{n} + n\\right)}^{3} - n^{3}}{n^{2} - 2 \\, \\sqrt{n^{5}}}</script></html>"
      ],
      "text/plain": [
       "((sqrt(2)*sqrt(n) + n)^3 - n^3)/(n^2 - 2*sqrt(n^5))"
      ]
     },
     "metadata": {},
     "output_type": "display_data"
    },
    {
     "data": {
      "text/html": [
       "<html><script type=\"math/tex; mode=display\">\\newcommand{\\Bold}[1]{\\mathbf{#1}}-\\frac{3}{2} \\, \\sqrt{2}</script></html>"
      ],
      "text/plain": [
       "-3/2*sqrt(2)"
      ]
     },
     "metadata": {},
     "output_type": "display_data"
    }
   ],
   "source": [
    "reset()\n",
    "var('n')\n",
    "a(n)=((sqrt(2*n)+n)^3-n^3)/(n^2-2*sqrt(n^5))\n",
    "show(a(n))\n",
    "L=limit(a(n),n=oo)\n",
    "show(L)"
   ]
  },
  {
   "cell_type": "markdown",
   "metadata": {},
   "source": [
    "Dibujamos los $100$ primeros términos de la sucesión y el límite. "
   ]
  },
  {
   "cell_type": "code",
   "execution_count": 40,
   "metadata": {},
   "outputs": [
    {
     "data": {
      "image/png": "[encoded data removed]",
      "text/plain": [
       "Graphics object consisting of 2 graphics primitives"
      ]
     },
     "metadata": {},
     "output_type": "display_data"
    }
   ],
   "source": [
    "ga=point([(n,a(n)) for n in [1..100]],figsize=4)\n",
    "gL=plot(L,(x,1,100),color='red',figsize=4)\n",
    "show(ga+gL)"
   ]
  },
  {
   "cell_type": "markdown",
   "metadata": {},
   "source": [
    "Como se puede apreciar la convergencia es en este caso bastante más lenta que en el problema anterior. Si consideramos más términos de la sucesión nos acercamos más al límite:"
   ]
  },
  {
   "cell_type": "code",
   "execution_count": 41,
   "metadata": {},
   "outputs": [
    {
     "data": {
      "image/png": "[encoded data removed]",
      "text/plain": [
       "Graphics object consisting of 2 graphics primitives"
      ]
     },
     "metadata": {},
     "output_type": "display_data"
    }
   ],
   "source": [
    "ga2=point([(n,a(n)) for n in [1..1000]])\n",
    "gL2=plot(L,(x,1,1000),color='red')\n",
    "show(ga2+gL2,figsize=4)"
   ]
  },
  {
   "cell_type": "markdown",
   "metadata": {},
   "source": [
    "**Ejemplo 3.** Representar la sucesión $a_n= \\sin\\sqrt {n+1}-\\sin\\sqrt {n}$. Estudiar su convergencia."
   ]
  },
  {
   "cell_type": "code",
   "execution_count": 42,
   "metadata": {},
   "outputs": [
    {
     "data": {
      "text/html": [
       "<html><script type=\"math/tex; mode=display\">\\newcommand{\\Bold}[1]{\\mathbf{#1}}\\sin\\left(\\sqrt{n + 1}\\right) - \\sin\\left(\\sqrt{n}\\right)</script></html>"
      ],
      "text/plain": [
       "sin(sqrt(n + 1)) - sin(sqrt(n))"
      ]
     },
     "metadata": {},
     "output_type": "display_data"
    }
   ],
   "source": [
    "reset()\n",
    "n=var('n')\n",
    "a(n)=sin(sqrt(n+1))-sin(sqrt(n))\n",
    "show(a(n))"
   ]
  },
  {
   "cell_type": "code",
   "execution_count": 43,
   "metadata": {},
   "outputs": [
    {
     "data": {
      "text/plain": [
       "ind"
      ]
     },
     "execution_count": 43,
     "metadata": {},
     "output_type": "execute_result"
    }
   ],
   "source": [
    "limit(a(n),n=oo)"
   ]
  },
  {
   "cell_type": "markdown",
   "metadata": {},
   "source": [
    "No ha sabido hacer el límite. Si el límite existe, le tendremos que ayudar a obtenerlo. Para tener un indicio de si existe o no, dibujamos unos cuantos términos:"
   ]
  },
  {
   "cell_type": "code",
   "execution_count": 44,
   "metadata": {},
   "outputs": [
    {
     "data": {
      "image/png": "[encoded data removed]",
      "text/plain": [
       "Graphics object consisting of 1 graphics primitive"
      ]
     },
     "execution_count": 44,
     "metadata": {},
     "output_type": "execute_result"
    }
   ],
   "source": [
    "point([(n,a(n)) for n in [1..200]],figsize=4)"
   ]
  },
  {
   "cell_type": "markdown",
   "metadata": {},
   "source": [
    "No queda del todo claro. Hay oscilaciones cada vez más pequeñas hacia $0$. Dibujamos más términos:"
   ]
  },
  {
   "cell_type": "code",
   "execution_count": 45,
   "metadata": {},
   "outputs": [
    {
     "data": {
      "image/png": "[encoded data removed]",
      "text/plain": [
       "Graphics object consisting of 1 graphics primitive"
      ]
     },
     "execution_count": 45,
     "metadata": {},
     "output_type": "execute_result"
    }
   ],
   "source": [
    "point([(n,a(n)) for n in [1..5000]],figsize=4)"
   ]
  },
  {
   "cell_type": "markdown",
   "metadata": {},
   "source": [
    "Apreciamos que las ondas cada vez tienen menos altura. El límite puede ser $0$ (aunque también podría ser que no existiera). Una forma de ayudar a que Sage lo encuentre es modificando $a_n$ por relaciones trigonométricas. Por ejemplo, podemos intentar usar la fórmula $\\displaystyle \\sin(A)-\\sin(B)=2\\cos(\\frac{A+B}{2})\\sin(\\frac{A-B}{2})$."
   ]
  },
  {
   "cell_type": "code",
   "execution_count": 46,
   "metadata": {},
   "outputs": [
    {
     "data": {
      "text/html": [
       "<html><script type=\"math/tex; mode=display\">\\newcommand{\\Bold}[1]{\\mathbf{#1}}2 \\, \\cos\\left(\\frac{1}{2} \\, \\sqrt{n + 1} + \\frac{1}{2} \\, \\sqrt{n}\\right) \\sin\\left(\\frac{1}{2} \\, \\sqrt{n + 1} - \\frac{1}{2} \\, \\sqrt{n}\\right)</script></html>"
      ],
      "text/plain": [
       "2*cos(1/2*sqrt(n + 1) + 1/2*sqrt(n))*sin(1/2*sqrt(n + 1) - 1/2*sqrt(n))"
      ]
     },
     "metadata": {},
     "output_type": "display_data"
    }
   ],
   "source": [
    "a(n)=2*cos((sqrt(n+1)+sqrt(n))/2)*sin((sqrt(n+1)-sqrt(n))/2)\n",
    "show(a(n))"
   ]
  },
  {
   "cell_type": "code",
   "execution_count": 47,
   "metadata": {},
   "outputs": [
    {
     "data": {
      "text/plain": [
       "0"
      ]
     },
     "execution_count": 47,
     "metadata": {},
     "output_type": "execute_result"
    }
   ],
   "source": [
    "limit(a(n),n=oo) # Ahora sí sabe hacerlo"
   ]
  },
  {
   "cell_type": "markdown",
   "metadata": {},
   "source": [
    "**Ejemplo 4.** **(Sucesión recurrente)**\n",
    "\n",
    "Sea la sucesión dada por $a_1=\\sqrt{2}$, $\\quad a_2=\\sqrt{2+\\sqrt{2}}$, $\\quad a_3=\\sqrt{2+\\sqrt{2+\\sqrt{2}}}, \\dots$. Hallar su límite."
   ]
  },
  {
   "cell_type": "code",
   "execution_count": null,
   "metadata": {},
   "outputs": [],
   "source": [
    "reset()"
   ]
  },
  {
   "cell_type": "markdown",
   "metadata": {},
   "source": [
    "La sucesión responde a la regla $a_n=\\sqrt{2+a_{n-1}}$, con $a_1=\\sqrt{2}$. Construiremos una lista con unos cuantos términos de la sucesión y los dibujaremos para hacernos una idea de su comportamiento. Para crear esta lista, formamos una con el primer elemento y con append, vamos añadiendo elementos de uno en uno:"
   ]
  },
  {
   "cell_type": "code",
   "execution_count": 48,
   "metadata": {},
   "outputs": [
    {
     "data": {
      "text/html": [
       "<html><script type=\"math/tex; mode=display\">\\newcommand{\\Bold}[1]{\\mathbf{#1}}\\left[\\sqrt{2}, \\sqrt{\\sqrt{2} + 2}\\right]</script></html>"
      ],
      "text/plain": [
       "[sqrt(2), sqrt(sqrt(2) + 2)]"
      ]
     },
     "metadata": {},
     "output_type": "display_data"
    }
   ],
   "source": [
    "a=[sqrt(2)]\n",
    "a.append(sqrt(2+a[0]))\n",
    "show(a)"
   ]
  },
  {
   "cell_type": "code",
   "execution_count": 49,
   "metadata": {},
   "outputs": [
    {
     "data": {
      "text/html": [
       "<html><script type=\"math/tex; mode=display\">\\newcommand{\\Bold}[1]{\\mathbf{#1}}\\left[\\sqrt{2}, \\sqrt{\\sqrt{2} + 2}, \\sqrt{\\sqrt{\\sqrt{2} + 2} + 2}\\right]</script></html>"
      ],
      "text/plain": [
       "[sqrt(2), sqrt(sqrt(2) + 2), sqrt(sqrt(sqrt(2) + 2) + 2)]"
      ]
     },
     "metadata": {},
     "output_type": "display_data"
    }
   ],
   "source": [
    "a.append(sqrt(2+a[1]))\n",
    "show(a)"
   ]
  },
  {
   "cell_type": "markdown",
   "metadata": {},
   "source": [
    "Es claro que si queremos los primeros 30 términos, no podemos seguir así. Afortunadamente un sencillo bucle (es importante la indentación), nos resuelve el problema. Al final del bucle, no decimos que nos enseñe estos 30 primeros términos, porque saldrán multitud de radicandos (observar cómo es el término $a[11]$, que se corresponde en Sage con $a[10]$). Mejor los dibujamos:"
   ]
  },
  {
   "cell_type": "code",
   "execution_count": 50,
   "metadata": {},
   "outputs": [
    {
     "data": {
      "text/html": [
       "<html><script type=\"math/tex; mode=display\">\\newcommand{\\Bold}[1]{\\mathbf{#1}}\\sqrt{\\sqrt{\\sqrt{\\sqrt{\\sqrt{\\sqrt{\\sqrt{\\sqrt{\\sqrt{\\sqrt{\\sqrt{2} + 2} + 2} + 2} + 2} + 2} + 2} + 2} + 2} + 2} + 2}</script></html>"
      ],
      "text/plain": [
       "sqrt(sqrt(sqrt(sqrt(sqrt(sqrt(sqrt(sqrt(sqrt(sqrt(sqrt(2) + 2) + 2) + 2) + 2) + 2) + 2) + 2) + 2) + 2) + 2)"
      ]
     },
     "metadata": {},
     "output_type": "display_data"
    },
    {
     "data": {
      "image/png": "[encoded data removed]",
      "text/plain": [
       "Graphics object consisting of 1 graphics primitive"
      ]
     },
     "execution_count": 50,
     "metadata": {},
     "output_type": "execute_result"
    }
   ],
   "source": [
    "reset()\n",
    "a=[sqrt(2)]\n",
    "for n in [1..30]:\n",
    "     a.append(sqrt(2+a[n-1]))\n",
    "a[10].show()    \n",
    "point([(n,a[n]) for n in [1..30]],figsize=4)\n",
    "### nota que escribimos a[n] en vez de a[n] porque en este caso tenemos una lista, no una función"
   ]
  },
  {
   "cell_type": "markdown",
   "metadata": {},
   "source": [
    "Esto nos sugiere que la sucesión es creciente y su límite está cerca de 2. Para hallar con rigor este valor, la mayor parte de la tarea nos corresponde a nosotros.  Observamos primero que hay una función $f(x)=\\sqrt{2+x}$ que nos permite escribir la recurrencia como $f(a_{n-1})=a_n$. Si $a_{n}$ tuviera límite $L$, como $\\lim a_n=\\lim a_{n-1}=L$, tendría que cumplirse $f(L)=L$. Por tanto, buscamos los valores que cumplen esta ecuación:"
   ]
  },
  {
   "cell_type": "code",
   "execution_count": 51,
   "metadata": {},
   "outputs": [
    {
     "data": {
      "text/plain": [
       "[L == 2]"
      ]
     },
     "execution_count": 51,
     "metadata": {},
     "output_type": "execute_result"
    }
   ],
   "source": [
    "f(x)=sqrt(2+x)\n",
    "var('L')\n",
    "solve(L==f(L),L,to_poly_solve=True)"
   ]
  },
  {
   "cell_type": "markdown",
   "metadata": {},
   "source": [
    "Esto significa que si la sucesión converge, converge a 2. La gráfica sugiere que $a_n$ es una sucesión creciente y acotada por $2$ (y toda sucesión creciente y acotada tiene límite). Nos quedaría, ya sin Sage, la tarea de demostrar (por inducción) que efectivamente $a_n$ es creciente y acotada."
   ]
  },
  {
   "cell_type": "code",
   "execution_count": null,
   "metadata": {},
   "outputs": [],
   "source": []
  }
 ],
 "metadata": {
  "kernelspec": {
   "display_name": "SageMath 8.8",
   "language": "",
   "name": "sagemath"
  },
  "language_info": {
   "codemirror_mode": {
    "name": "ipython",
    "version": 2
   },
   "file_extension": ".py",
   "mimetype": "text/x-python",
   "name": "python",
   "nbconvert_exporter": "python",
   "pygments_lexer": "ipython2",
   "version": "2.7.15"
  }
 },
 "nbformat": 4,
 "nbformat_minor": 4
}
