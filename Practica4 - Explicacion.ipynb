{
 "cells": [
  {
   "cell_type": "markdown",
   "metadata": {},
   "source": [
    "$$\n",
    "\\def\\CC{\\bf C}\n",
    "\\def\\QQ{\\bf Q}\n",
    "\\def\\RR{\\bf R}\n",
    "\\def\\ZZ{\\bf Z}\n",
    "\\def\\NN{\\bf N}\n",
    "$$\n",
    "\n",
    "## Práctica nº 4. Matemáticas I de Ingeniería Informática\n",
    "\n",
    "En esta práctica estudiamos aspectos de funciones reales de variable real donde intervienen los conceptos de límite, continuidad y derivada, con aplicación al cálculo de soluciones de ecuaciones. Las órdenes más usadas serán las siguientes:\n",
    "\n",
    "-   limit(f(x),x=a) . Calcula el $\\displaystyle \\lim_{x\\to a} f(x)$. Aquí $a$ puede ser un número real y también $a=+\\infty$ ( a =oo) o $a=-\\infty$ ( a=-oo ).\n",
    "-   diff(f(x),x), diff(f(x),x,x) (o diff(f(x),x,2)),... Son las derivadas primera, segunda, ... de una función $f(x)$\n",
    "-   *find\\_root* . Para encontrar soluciones (aproximadas) de ecuaciones.\n",
    "\n",
    "Con estas órdenes y alguna más que puede aparecer ocasionalmente, pasamos a desarrollar ejemplos en los que Sage nos puede resultar especialmente útil.\n",
    "\n",
    "**Ejemplo 1:** Hallar las derivadas primera, segunda y tercera de la función\n",
    "\n",
    "$$ f(x)=-\\sqrt{3} \\arctan \\frac{2x + 1}{\\sqrt{3}} - \\log(x - 1) + \\log\\sqrt{x^2 + x + 1}, $$\n",
    "\n",
    "simplificando lo que se pueda los resultados."
   ]
  },
  {
   "cell_type": "code",
   "execution_count": 1,
   "metadata": {},
   "outputs": [
    {
     "data": {
      "text/html": [
       "<html><script type=\"math/tex; mode=display\">\\newcommand{\\Bold}[1]{\\mathbf{#1}}-\\sqrt{3} \\arctan\\left(\\frac{1}{3} \\, \\sqrt{3} {\\left(2 \\, x + 1\\right)}\\right) - \\log\\left(x - 1\\right) + \\log\\left(\\sqrt{x^{2} + x + 1}\\right)</script></html>"
      ],
      "text/plain": [
       "-sqrt(3)*arctan(1/3*sqrt(3)*(2*x + 1)) - log(x - 1) + log(sqrt(x^2 + x + 1))"
      ]
     },
     "metadata": {},
     "output_type": "display_data"
    }
   ],
   "source": [
    "reset()\n",
    "f(x)=-sqrt(3)*arctan((2*x + 1)/sqrt(3)) - log(x - 1) + log(sqrt(x^2 + x + 1))\n",
    "f(x).show()"
   ]
  },
  {
   "cell_type": "code",
   "execution_count": 2,
   "metadata": {},
   "outputs": [
    {
     "data": {
      "text/html": [
       "<html><script type=\"math/tex; mode=display\">\\newcommand{\\Bold}[1]{\\mathbf{#1}}\\frac{2 \\, x + 1}{2 \\, {\\left(x^{2} + x + 1\\right)}} - \\frac{6}{{\\left(2 \\, x + 1\\right)}^{2} + 3} - \\frac{1}{x - 1}</script></html>"
      ],
      "text/plain": [
       "1/2*(2*x + 1)/(x^2 + x + 1) - 6/((2*x + 1)^2 + 3) - 1/(x - 1)"
      ]
     },
     "metadata": {},
     "output_type": "display_data"
    }
   ],
   "source": [
    "diff(f(x),x).show() # esta es la derivada"
   ]
  },
  {
   "cell_type": "code",
   "execution_count": 3,
   "metadata": {},
   "outputs": [
    {
     "data": {
      "text/html": [
       "<html><script type=\"math/tex; mode=display\">\\newcommand{\\Bold}[1]{\\mathbf{#1}}-\\frac{{\\left(2 \\, x + 1\\right)}^{2}}{2 \\, {\\left(x^{2} + x + 1\\right)}^{2}} + \\frac{1}{x^{2} + x + 1} + \\frac{24 \\, {\\left(2 \\, x + 1\\right)}}{{\\left({\\left(2 \\, x + 1\\right)}^{2} + 3\\right)}^{2}} + \\frac{1}{{\\left(x - 1\\right)}^{2}}</script></html>"
      ],
      "text/plain": [
       "-1/2*(2*x + 1)^2/(x^2 + x + 1)^2 + 1/(x^2 + x + 1) + 24*(2*x + 1)/((2*x + 1)^2 + 3)^2 + 1/(x - 1)^2"
      ]
     },
     "metadata": {},
     "output_type": "display_data"
    }
   ],
   "source": [
    "diff(f(x),x,x).show() # derivada segunda, también diff(f(x),x,2)"
   ]
  },
  {
   "cell_type": "code",
   "execution_count": 4,
   "metadata": {},
   "outputs": [
    {
     "data": {
      "text/html": [
       "<html><script type=\"math/tex; mode=display\">\\newcommand{\\Bold}[1]{\\mathbf{#1}}\\frac{{\\left(2 \\, x + 1\\right)}^{3}}{{\\left(x^{2} + x + 1\\right)}^{3}} - \\frac{3 \\, {\\left(2 \\, x + 1\\right)}}{{\\left(x^{2} + x + 1\\right)}^{2}} - \\frac{192 \\, {\\left(2 \\, x + 1\\right)}^{2}}{{\\left({\\left(2 \\, x + 1\\right)}^{2} + 3\\right)}^{3}} + \\frac{48}{{\\left({\\left(2 \\, x + 1\\right)}^{2} + 3\\right)}^{2}} - \\frac{2}{{\\left(x - 1\\right)}^{3}}</script></html>"
      ],
      "text/plain": [
       "(2*x + 1)^3/(x^2 + x + 1)^3 - 3*(2*x + 1)/(x^2 + x + 1)^2 - 192*(2*x + 1)^2/((2*x + 1)^2 + 3)^3 + 48/((2*x + 1)^2 + 3)^2 - 2/(x - 1)^3"
      ]
     },
     "metadata": {},
     "output_type": "display_data"
    }
   ],
   "source": [
    "diff(f(x),x,x,x).show() # derivada tercera, también diff(f(x),x,3)"
   ]
  },
  {
   "cell_type": "markdown",
   "metadata": {},
   "source": [
    "Conviene, para posibles cálculos sucesivos, introducir las derivadas como funciones. Aquí las llamamos fprima, fsegunda y ftercera, y las simplificamos:"
   ]
  },
  {
   "cell_type": "code",
   "execution_count": 5,
   "metadata": {},
   "outputs": [
    {
     "data": {
      "text/html": [
       "<html><script type=\"math/tex; mode=display\">\\newcommand{\\Bold}[1]{\\mathbf{#1}}\\left[-\\frac{3 \\, x}{x^{3} - 1}, \\frac{3 \\, {\\left(2 \\, x^{3} + 1\\right)}}{x^{6} - 2 \\, x^{3} + 1}, -\\frac{18 \\, {\\left(x^{5} + 2 \\, x^{2}\\right)}}{x^{9} - 3 \\, x^{6} + 3 \\, x^{3} - 1}\\right]</script></html>"
      ],
      "text/plain": [
       "[-3*x/(x^3 - 1),\n",
       " 3*(2*x^3 + 1)/(x^6 - 2*x^3 + 1),\n",
       " -18*(x^5 + 2*x^2)/(x^9 - 3*x^6 + 3*x^3 - 1)]"
      ]
     },
     "metadata": {},
     "output_type": "display_data"
    }
   ],
   "source": [
    "fprima(x)=diff(f(x),x).full_simplify()\n",
    "fsegunda(x)=diff(f(x),x,x).full_simplify()\n",
    "ftercera(x)=diff(f(x),x,x,x).full_simplify()\n",
    "show([fprima(x),fsegunda(x),ftercera(x)])"
   ]
  },
  {
   "cell_type": "markdown",
   "metadata": {},
   "source": [
    "**Ejemplo 2:**Dibujar la función $f(x)=x^3+1$ en un entorno del punto $x=1/3$ junto con la recta tangente en dicho punto.\n",
    "\n",
    "Recordamos que la ecuación de la recta tangente en un punto $(a,f(a))$ es $\\displaystyle y=f(a)+f'(a)(x-a)$. La disposición de los cálculos es sencilla:"
   ]
  },
  {
   "cell_type": "code",
   "execution_count": 6,
   "metadata": {},
   "outputs": [
    {
     "data": {
      "image/png": "[encoded data removed]",
      "text/plain": [
       "Graphics object consisting of 3 graphics primitives"
      ]
     },
     "metadata": {},
     "output_type": "display_data"
    }
   ],
   "source": [
    "reset()\n",
    "f(x)=x^3+1\n",
    "f1(x)=diff(f(x),x)\n",
    "y(x)=f(1/3)+f1(1/3)*(x-1/3)\n",
    "A=plot(f(x),(x,-1,1))\n",
    "B=plot(y(x),(x,-1,1),color='red')\n",
    "P=point([(1/3,f(1/3))],pointsize=10)\n",
    "(A+B+P).show(figsize=5)"
   ]
  },
  {
   "cell_type": "markdown",
   "metadata": {},
   "source": [
    "**Ejemplo 3:** Calcular los máximos y mínimos relativos de la función $f(x)=(2x^2-3x)e^{2x^2-3x}$ en el intervalo $[-\\frac{1}{2},2]$. Encontrar los intervalos donde la función es creciente o decreciente. Calcular los máximos y mínimos absolutos de $f(x)$ en el intervalo $[-\\frac{1}{2},2]$. Corroborar los resultados con gráficas de $f$ y $f'$."
   ]
  },
  {
   "cell_type": "code",
   "execution_count": 7,
   "metadata": {},
   "outputs": [
    {
     "data": {
      "text/plain": [
       "[x == 1, x == (1/2), x == (3/4)]"
      ]
     },
     "execution_count": 7,
     "metadata": {},
     "output_type": "execute_result"
    }
   ],
   "source": [
    "reset()\n",
    "f(x)=(2*x**2-3*x)*exp(2*x**2-3*x)\n",
    "f1(x)=diff(f(x),x)\n",
    "solve(f1(x)==0,x)"
   ]
  },
  {
   "cell_type": "code",
   "execution_count": 8,
   "metadata": {},
   "outputs": [
    {
     "data": {
      "text/plain": [
       "[e^(-1), e^(-1), -1/2*e^(-9/8)]"
      ]
     },
     "execution_count": 8,
     "metadata": {},
     "output_type": "execute_result"
    }
   ],
   "source": [
    "f2(x)=diff(f(x),x,x)\n",
    "[f2(1),f2(1/2),f2(3/4)]"
   ]
  },
  {
   "cell_type": "markdown",
   "metadata": {},
   "source": [
    "Viendo el signo de la derivada segunda, descubrimos que $1$ y $1/2$ son mínimos, y $3/4$ máximo. Dibujemos en un entorno amplio que contenga estos puntos, por ejemplo $[-1/2,3/2]$, y veamos qué ocurre:"
   ]
  },
  {
   "cell_type": "code",
   "execution_count": 9,
   "metadata": {},
   "outputs": [
    {
     "data": {
      "image/png": "[encoded data removed]",
      "text/plain": [
       "Graphics object consisting of 1 graphics primitive"
      ]
     },
     "execution_count": 9,
     "metadata": {},
     "output_type": "execute_result"
    }
   ],
   "source": [
    "plot(f(x),(x,-1/2,3/2),figsize=4)"
   ]
  },
  {
   "cell_type": "markdown",
   "metadata": {},
   "source": [
    "No distinguimos los máximos y mínimos, porque la función toma valores muy parecidos en $(0,1.5)$. Dibujando en un entorno más pequeño, por ejemplo, el intervalo $[1/4,5/4]$, distinguimos los máximos y mínimos:"
   ]
  },
  {
   "cell_type": "code",
   "execution_count": 10,
   "metadata": {},
   "outputs": [
    {
     "data": {
      "image/png": "[encoded data removed]",
      "text/plain": [
       "Graphics object consisting of 2 graphics primitives"
      ]
     },
     "metadata": {},
     "output_type": "display_data"
    }
   ],
   "source": [
    "A=plot(f(x),(x,1/4,5/4))\n",
    "B=points([(1,f(1)),(1/2,f(1/2)),(3/4,f(3/4))],pointsize=20,color='black')\n",
    "(A+B).show(figsize=3)"
   ]
  },
  {
   "cell_type": "markdown",
   "metadata": {},
   "source": [
    "Los dos siguientes recuadros muestran que la función es decreciente (derivada negativa) en $(-\\infty,1/2)$ y en $(3/4,1)$. Y creciente (derivada positiva) en $(1/2,3/4)$ y en $(1,+\\infty)$ (aunque con las gráficas anteriores podríamos habernos percatado ya de este hecho):"
   ]
  },
  {
   "cell_type": "code",
   "execution_count": 11,
   "metadata": {},
   "outputs": [
    {
     "data": {
      "text/plain": [
       "[[(3/4) < x, x < 1], [x < (1/2)]]"
      ]
     },
     "execution_count": 11,
     "metadata": {},
     "output_type": "execute_result"
    }
   ],
   "source": [
    "solve(f1(x)<0,x)"
   ]
  },
  {
   "cell_type": "code",
   "execution_count": 12,
   "metadata": {},
   "outputs": [
    {
     "data": {
      "text/plain": [
       "[[1 < x], [(1/2) < x, x < (3/4)]]"
      ]
     },
     "execution_count": 12,
     "metadata": {},
     "output_type": "execute_result"
    }
   ],
   "source": [
    "solve(f1(x)>0,x)"
   ]
  },
  {
   "cell_type": "markdown",
   "metadata": {},
   "source": [
    "Si Sage no hubiera sabido resolver dónde $f'$ es positiva y negativa, se podría dibujar la derivada:"
   ]
  },
  {
   "cell_type": "code",
   "execution_count": 13,
   "metadata": {},
   "outputs": [
    {
     "data": {
      "image/png": "[encoded data removed]",
      "text/plain": [
       "Graphics object consisting of 1 graphics primitive"
      ]
     },
     "execution_count": 13,
     "metadata": {},
     "output_type": "execute_result"
    }
   ],
   "source": [
    "plot(f1(x),(x,0.2,1.2),figsize=3)"
   ]
  },
  {
   "cell_type": "markdown",
   "metadata": {},
   "source": [
    "Para encontrar los extremos absolutos en $[-1/2,2]$ dibujamos y observamos que el máximo absoluto está en uno de los dos extremos (o en los dos a la vez). También sabemos que el mínimo absoluto estará en $1/2$ o $1$ (o en los dos a la vez) porque $1/2$ y $1$ son los mínimos relativos que habíamos hallado antes (aunque en la gráfica no se aprecia)."
   ]
  },
  {
   "cell_type": "code",
   "execution_count": 14,
   "metadata": {},
   "outputs": [
    {
     "data": {
      "image/png": "[encoded data removed]",
      "text/plain": [
       "Graphics object consisting of 1 graphics primitive"
      ]
     },
     "execution_count": 14,
     "metadata": {},
     "output_type": "execute_result"
    }
   ],
   "source": [
    "plot(f(x),(x,-1/2,2),figsize=3)"
   ]
  },
  {
   "cell_type": "markdown",
   "metadata": {},
   "source": [
    "La siguiente cuenta nos asegura que en $-1/2$ y $2$ se alcanza el máximo absoluto de la función (que es $2e^2$) y en $1/2$ y $1$ el mínimo absoluto (que es $-1/e$):"
   ]
  },
  {
   "cell_type": "code",
   "execution_count": 15,
   "metadata": {},
   "outputs": [
    {
     "data": {
      "text/plain": [
       "(2*e^2, 2*e^2, -e^(-1), -e^(-1))"
      ]
     },
     "execution_count": 15,
     "metadata": {},
     "output_type": "execute_result"
    }
   ],
   "source": [
    "f(-1/2),f(2),f(1/2),f(1)"
   ]
  },
  {
   "cell_type": "markdown",
   "metadata": {},
   "source": [
    "**Nota.** Con la orden factor aplicada a la derivada (si funciona), también podemos ver fácilmente los ceros y cambios de signo. En nuestro caso funciona:"
   ]
  },
  {
   "cell_type": "code",
   "execution_count": 16,
   "metadata": {},
   "outputs": [
    {
     "data": {
      "text/html": [
       "<html><script type=\"math/tex; mode=display\">\\newcommand{\\Bold}[1]{\\mathbf{#1}}{\\left(4 \\, x - 3\\right)} {\\left(2 \\, x - 1\\right)} {\\left(x - 1\\right)} e^{\\left(2 \\, x^{2} - 3 \\, x\\right)}</script></html>"
      ],
      "text/plain": [
       "(4*x - 3)*(2*x - 1)*(x - 1)*e^(2*x^2 - 3*x)"
      ]
     },
     "metadata": {},
     "output_type": "display_data"
    }
   ],
   "source": [
    "f1(x).factor().show()"
   ]
  },
  {
   "cell_type": "markdown",
   "metadata": {},
   "source": [
    "**Ejemplo 4:**Para la función del ejemplo anterior, encontrar los intervalos donde es cóncava o convexa y sus puntos de inflexión.\n",
    "\n",
    "Tendremos que analizar los ceros y cambios de signo de la derivada segunda: \\**\\**"
   ]
  },
  {
   "cell_type": "code",
   "execution_count": 17,
   "metadata": {},
   "outputs": [
    {
     "data": {
      "text/html": [
       "<html><script type=\"math/tex; mode=display\">\\newcommand{\\Bold}[1]{\\mathbf{#1}}{\\left(32 \\, x^{4} - 96 \\, x^{3} + 130 \\, x^{2} - 87 \\, x + 22\\right)} e^{\\left(2 \\, x^{2} - 3 \\, x\\right)}</script></html>"
      ],
      "text/plain": [
       "(32*x^4 - 96*x^3 + 130*x^2 - 87*x + 22)*e^(2*x^2 - 3*x)"
      ]
     },
     "metadata": {},
     "output_type": "display_data"
    }
   ],
   "source": [
    "f2(x).factor().show()"
   ]
  },
  {
   "cell_type": "markdown",
   "metadata": {},
   "source": [
    "La orden factor no funciona. Hallamos los ceros y viéndolos de forma aproximada, observamos que solo hay dos raíces reales."
   ]
  },
  {
   "cell_type": "code",
   "execution_count": 18,
   "metadata": {},
   "outputs": [
    {
     "data": {
      "text/plain": [
       "[x == -1/2*sqrt(-1/8*sqrt(137) - 11/8) + 3/4, x == 1/2*sqrt(-1/8*sqrt(137) - 11/8) + 3/4, x == -1/4*sqrt(1/2)*sqrt(sqrt(137) - 11) + 3/4, x == 1/4*sqrt(1/2)*sqrt(sqrt(137) - 11) + 3/4]"
      ]
     },
     "execution_count": 18,
     "metadata": {},
     "output_type": "execute_result"
    }
   ],
   "source": [
    "solve(32*x^4-96*x^3+130*x^2-87*x+22==0,x)"
   ]
  },
  {
   "cell_type": "code",
   "execution_count": 32,
   "metadata": {},
   "outputs": [
    {
     "data": {
      "text/html": [
       "<html><script type=\"math/tex; mode=display\">\\newcommand{\\Bold}[1]{\\mathbf{#1}}-\\frac{1}{2} \\, \\sqrt{-\\frac{1}{8} \\, \\sqrt{137} - \\frac{11}{8}} + \\frac{3}{4}</script></html>"
      ],
      "text/plain": [
       "-1/2*sqrt(-1/8*sqrt(137) - 11/8) + 3/4"
      ]
     },
     "metadata": {},
     "output_type": "display_data"
    },
    {
     "data": {
      "text/html": [
       "<html><script type=\"math/tex; mode=display\">\\newcommand{\\Bold}[1]{\\mathbf{#1}}\\frac{1}{2} \\, \\sqrt{-\\frac{1}{8} \\, \\sqrt{137} - \\frac{11}{8}} + \\frac{3}{4}</script></html>"
      ],
      "text/plain": [
       "1/2*sqrt(-1/8*sqrt(137) - 11/8) + 3/4"
      ]
     },
     "metadata": {},
     "output_type": "display_data"
    },
    {
     "data": {
      "text/html": [
       "<html><script type=\"math/tex; mode=display\">\\newcommand{\\Bold}[1]{\\mathbf{#1}}-\\frac{1}{4} \\, \\sqrt{\\frac{1}{2}} \\sqrt{\\sqrt{137} - 11} + \\frac{3}{4}</script></html>"
      ],
      "text/plain": [
       "-1/4*sqrt(1/2)*sqrt(sqrt(137) - 11) + 3/4"
      ]
     },
     "metadata": {},
     "output_type": "display_data"
    },
    {
     "data": {
      "text/html": [
       "<html><script type=\"math/tex; mode=display\">\\newcommand{\\Bold}[1]{\\mathbf{#1}}\\frac{1}{4} \\, \\sqrt{\\frac{1}{2}} \\sqrt{\\sqrt{137} - 11} + \\frac{3}{4}</script></html>"
      ],
      "text/plain": [
       "1/4*sqrt(1/2)*sqrt(sqrt(137) - 11) + 3/4"
      ]
     },
     "metadata": {},
     "output_type": "display_data"
    },
    {
     "data": {
      "text/html": [
       "<html><script type=\"math/tex; mode=display\">\\newcommand{\\Bold}[1]{\\mathbf{#1}}0.750000000000000 - 0.842331212890742i</script></html>"
      ],
      "text/plain": [
       "0.750000000000000 - 0.842331212890742*I"
      ]
     },
     "metadata": {},
     "output_type": "display_data"
    },
    {
     "data": {
      "text/html": [
       "<html><script type=\"math/tex; mode=display\">\\newcommand{\\Bold}[1]{\\mathbf{#1}}0.750000000000000 + 0.842331212890742i</script></html>"
      ],
      "text/plain": [
       "0.750000000000000 + 0.842331212890742*I"
      ]
     },
     "metadata": {},
     "output_type": "display_data"
    },
    {
     "data": {
      "text/html": [
       "<html><script type=\"math/tex; mode=display\">\\newcommand{\\Bold}[1]{\\mathbf{#1}}0.601602317369885</script></html>"
      ],
      "text/plain": [
       "0.601602317369885"
      ]
     },
     "metadata": {},
     "output_type": "display_data"
    },
    {
     "data": {
      "text/html": [
       "<html><script type=\"math/tex; mode=display\">\\newcommand{\\Bold}[1]{\\mathbf{#1}}0.898397682630115</script></html>"
      ],
      "text/plain": [
       "0.898397682630115"
      ]
     },
     "metadata": {},
     "output_type": "display_data"
    }
   ],
   "source": [
    "show((-1/2*sqrt(-1/8*sqrt(137) - 11/8) + 3/4))\n",
    "show((1/2*sqrt(-1/8*sqrt(137) - 11/8) + 3/4))\n",
    "show((-1/2*sqrt(1/8*sqrt(137) -11/8) + 3/4))\n",
    "show((1/2*sqrt(1/8*sqrt(137) - 11/8) + 3/4))\n",
    "\n",
    "show((-1/2*sqrt(-1/8*sqrt(137) - 11/8) + 3/4).n())\n",
    "show((1/2*sqrt(-1/8*sqrt(137) - 11/8) + 3/4).n())\n",
    "show((-1/2*sqrt(1/8*sqrt(137) -11/8) + 3/4).n())\n",
    "show((1/2*sqrt(1/8*sqrt(137) - 11/8) + 3/4).n())"
   ]
  },
  {
   "cell_type": "markdown",
   "metadata": {},
   "source": [
    "Dibujamos la derivada segunda y observando su signo podemos deducir que $f$ es convexa en $(-\\infty,0.601...)$ y en $(0.898...,+\\infty)$ y cóncava en $(0.601...,0.898...)$ y esos dos puntos son puntos de inflexión."
   ]
  },
  {
   "cell_type": "code",
   "execution_count": 33,
   "metadata": {},
   "outputs": [
    {
     "data": {
      "image/png": "[encoded data removed]",
      "text/plain": [
       "Graphics object consisting of 1 graphics primitive"
      ]
     },
     "execution_count": 33,
     "metadata": {},
     "output_type": "execute_result"
    }
   ],
   "source": [
    "plot(f2(x),(x,0,2),ymax=3,figsize=4)"
   ]
  },
  {
   "cell_type": "markdown",
   "metadata": {},
   "source": [
    "**Ejemplo 5:** Sea la función $\\displaystyle f(t)=\\frac{\\sin t -t}{t^3},\\ t\\not=0$. Analizar si se puede extender a una función continua en $t=0$. Estudiar si esta extensión es una función derivable en $t=0$ y escribir la función derivada.\n",
    "\n",
    "La función no está definida en $t=0$ pues no podemos dividir por cero:"
   ]
  },
  {
   "cell_type": "code",
   "execution_count": 34,
   "metadata": {},
   "outputs": [
    {
     "ename": "ValueError",
     "evalue": "power::eval(): division by zero",
     "output_type": "error",
     "traceback": [
      "\u001b[0;31m---------------------------------------------------------------------------\u001b[0m",
      "\u001b[0;31mValueError\u001b[0m                                Traceback (most recent call last)",
      "\u001b[0;32m/home/SageMath/local/lib/python3.7/site-packages/sage/all_cmdline.py\u001b[0m in \u001b[0;36m<module>\u001b[0;34m()\u001b[0m\n\u001b[1;32m      2\u001b[0m \u001b[0mvar\u001b[0m\u001b[0;34m(\u001b[0m\u001b[0;34m't'\u001b[0m\u001b[0;34m)\u001b[0m\u001b[0;34m\u001b[0m\u001b[0;34m\u001b[0m\u001b[0m\n\u001b[1;32m      3\u001b[0m \u001b[0m__tmp__\u001b[0m\u001b[0;34m=\u001b[0m\u001b[0mvar\u001b[0m\u001b[0;34m(\u001b[0m\u001b[0;34m\"t\"\u001b[0m\u001b[0;34m)\u001b[0m\u001b[0;34m;\u001b[0m \u001b[0mf\u001b[0m \u001b[0;34m=\u001b[0m \u001b[0msymbolic_expression\u001b[0m\u001b[0;34m(\u001b[0m\u001b[0;34m(\u001b[0m\u001b[0msin\u001b[0m\u001b[0;34m(\u001b[0m\u001b[0mt\u001b[0m\u001b[0;34m)\u001b[0m\u001b[0;34m-\u001b[0m\u001b[0mt\u001b[0m\u001b[0;34m)\u001b[0m\u001b[0;34m/\u001b[0m\u001b[0mt\u001b[0m\u001b[0;34m**\u001b[0m\u001b[0mInteger\u001b[0m\u001b[0;34m(\u001b[0m\u001b[0;36m3\u001b[0m\u001b[0;34m)\u001b[0m\u001b[0;34m)\u001b[0m\u001b[0;34m.\u001b[0m\u001b[0mfunction\u001b[0m\u001b[0;34m(\u001b[0m\u001b[0mt\u001b[0m\u001b[0;34m)\u001b[0m\u001b[0;34m\u001b[0m\u001b[0;34m\u001b[0m\u001b[0m\n\u001b[0;32m----> 4\u001b[0;31m \u001b[0mf\u001b[0m\u001b[0;34m(\u001b[0m\u001b[0mInteger\u001b[0m\u001b[0;34m(\u001b[0m\u001b[0;36m0\u001b[0m\u001b[0;34m)\u001b[0m\u001b[0;34m)\u001b[0m\u001b[0;34m\u001b[0m\u001b[0;34m\u001b[0m\u001b[0m\n\u001b[0m",
      "\u001b[0;32m/home/SageMath/local/lib/python3.7/site-packages/sage/symbolic/expression.pyx\u001b[0m in \u001b[0;36msage.symbolic.expression.Expression.__call__ (build/cythonized/sage/symbolic/expression.cpp:31513)\u001b[0;34m()\u001b[0m\n\u001b[1;32m   5521\u001b[0m             \u001b[0mz\u001b[0m\u001b[0;34m^\u001b[0m\u001b[0;36m2\u001b[0m \u001b[0;34m+\u001b[0m \u001b[0mx\u001b[0m\u001b[0;34m^\u001b[0m\u001b[0my\u001b[0m\u001b[0;34m\u001b[0m\u001b[0;34m\u001b[0m\u001b[0m\n\u001b[1;32m   5522\u001b[0m         \"\"\"\n\u001b[0;32m-> 5523\u001b[0;31m         \u001b[0;32mreturn\u001b[0m \u001b[0mself\u001b[0m\u001b[0;34m.\u001b[0m\u001b[0m_parent\u001b[0m\u001b[0;34m.\u001b[0m\u001b[0m_call_element_\u001b[0m\u001b[0;34m(\u001b[0m\u001b[0mself\u001b[0m\u001b[0;34m,\u001b[0m \u001b[0;34m*\u001b[0m\u001b[0margs\u001b[0m\u001b[0;34m,\u001b[0m \u001b[0;34m**\u001b[0m\u001b[0mkwds\u001b[0m\u001b[0;34m)\u001b[0m\u001b[0;34m\u001b[0m\u001b[0;34m\u001b[0m\u001b[0m\n\u001b[0m\u001b[1;32m   5524\u001b[0m \u001b[0;34m\u001b[0m\u001b[0m\n\u001b[1;32m   5525\u001b[0m     \u001b[0;32mdef\u001b[0m \u001b[0mvariables\u001b[0m\u001b[0;34m(\u001b[0m\u001b[0mself\u001b[0m\u001b[0;34m)\u001b[0m\u001b[0;34m:\u001b[0m\u001b[0;34m\u001b[0m\u001b[0;34m\u001b[0m\u001b[0m\n",
      "\u001b[0;32m/home/SageMath/local/lib/python3.7/site-packages/sage/symbolic/callable.py\u001b[0m in \u001b[0;36m_call_element_\u001b[0;34m(self, _the_element, *args, **kwds)\u001b[0m\n\u001b[1;32m    461\u001b[0m         \u001b[0md\u001b[0m \u001b[0;34m=\u001b[0m \u001b[0mdict\u001b[0m\u001b[0;34m(\u001b[0m\u001b[0mzip\u001b[0m\u001b[0;34m(\u001b[0m\u001b[0;34m[\u001b[0m\u001b[0mrepr\u001b[0m\u001b[0;34m(\u001b[0m\u001b[0m_\u001b[0m\u001b[0;34m)\u001b[0m \u001b[0;32mfor\u001b[0m \u001b[0m_\u001b[0m \u001b[0;32min\u001b[0m \u001b[0mself\u001b[0m\u001b[0;34m.\u001b[0m\u001b[0marguments\u001b[0m\u001b[0;34m(\u001b[0m\u001b[0;34m)\u001b[0m\u001b[0;34m]\u001b[0m\u001b[0;34m,\u001b[0m \u001b[0margs\u001b[0m\u001b[0;34m)\u001b[0m\u001b[0;34m)\u001b[0m\u001b[0;34m\u001b[0m\u001b[0;34m\u001b[0m\u001b[0m\n\u001b[1;32m    462\u001b[0m         \u001b[0md\u001b[0m\u001b[0;34m.\u001b[0m\u001b[0mupdate\u001b[0m\u001b[0;34m(\u001b[0m\u001b[0mkwds\u001b[0m\u001b[0;34m)\u001b[0m\u001b[0;34m\u001b[0m\u001b[0;34m\u001b[0m\u001b[0m\n\u001b[0;32m--> 463\u001b[0;31m         \u001b[0;32mreturn\u001b[0m \u001b[0mSR\u001b[0m\u001b[0;34m(\u001b[0m\u001b[0m_the_element\u001b[0m\u001b[0;34m.\u001b[0m\u001b[0msubstitute\u001b[0m\u001b[0;34m(\u001b[0m\u001b[0;34m**\u001b[0m\u001b[0md\u001b[0m\u001b[0;34m)\u001b[0m\u001b[0;34m)\u001b[0m\u001b[0;34m\u001b[0m\u001b[0;34m\u001b[0m\u001b[0m\n\u001b[0m\u001b[1;32m    464\u001b[0m \u001b[0;34m\u001b[0m\u001b[0m\n\u001b[1;32m    465\u001b[0m     \u001b[0;31m# __reduce__ gets replaced by the CallableSymbolicExpressionRingFactory\u001b[0m\u001b[0;34m\u001b[0m\u001b[0;34m\u001b[0m\u001b[0;34m\u001b[0m\u001b[0m\n",
      "\u001b[0;32m/home/SageMath/local/lib/python3.7/site-packages/sage/symbolic/expression.pyx\u001b[0m in \u001b[0;36msage.symbolic.expression.Expression.substitute (build/cythonized/sage/symbolic/expression.cpp:30635)\u001b[0;34m()\u001b[0m\n\u001b[1;32m   5378\u001b[0m             smap.insert(make_pair((<Expression>self.coerce_in(k))._gobj,\n\u001b[1;32m   5379\u001b[0m                                   (<Expression>self.coerce_in(v))._gobj))\n\u001b[0;32m-> 5380\u001b[0;31m         \u001b[0mres\u001b[0m \u001b[0;34m=\u001b[0m \u001b[0mself\u001b[0m\u001b[0;34m.\u001b[0m\u001b[0m_gobj\u001b[0m\u001b[0;34m.\u001b[0m\u001b[0msubs_map\u001b[0m\u001b[0;34m(\u001b[0m\u001b[0msmap\u001b[0m\u001b[0;34m,\u001b[0m \u001b[0;36m0\u001b[0m\u001b[0;34m)\u001b[0m\u001b[0;34m\u001b[0m\u001b[0;34m\u001b[0m\u001b[0m\n\u001b[0m\u001b[1;32m   5381\u001b[0m         \u001b[0;32mreturn\u001b[0m \u001b[0mnew_Expression_from_GEx\u001b[0m\u001b[0;34m(\u001b[0m\u001b[0mself\u001b[0m\u001b[0;34m.\u001b[0m\u001b[0m_parent\u001b[0m\u001b[0;34m,\u001b[0m \u001b[0mres\u001b[0m\u001b[0;34m)\u001b[0m\u001b[0;34m\u001b[0m\u001b[0;34m\u001b[0m\u001b[0m\n\u001b[1;32m   5382\u001b[0m \u001b[0;34m\u001b[0m\u001b[0m\n",
      "\u001b[0;31mValueError\u001b[0m: power::eval(): division by zero"
     ]
    }
   ],
   "source": [
    "reset()\n",
    "var('t')\n",
    "f(t)=(sin(t)-t)/t^3\n",
    "f(0)"
   ]
  },
  {
   "cell_type": "markdown",
   "metadata": {},
   "source": [
    "Sin embargo, abajo vemos que existe el límite cuando $t$ tiende a $0$ y es $-1/6$ :"
   ]
  },
  {
   "cell_type": "code",
   "execution_count": 35,
   "metadata": {},
   "outputs": [
    {
     "data": {
      "text/plain": [
       "-1/6"
      ]
     },
     "execution_count": 35,
     "metadata": {},
     "output_type": "execute_result"
    }
   ],
   "source": [
    "limit(f(t),t=0)"
   ]
  },
  {
   "cell_type": "markdown",
   "metadata": {},
   "source": [
    "Por tanto, definiendo $f(0)=-1/6$, tendremos una función continua. La derivada en puntos distintos de $0$, la obtenemos con la orden diff; y en $0$ con la definición $\\displaystyle \\lim_{t\\to 0}\\frac{f(t)-f(0)}{t}$ (que vemos que existe):"
   ]
  },
  {
   "cell_type": "code",
   "execution_count": 36,
   "metadata": {},
   "outputs": [
    {
     "data": {
      "text/html": [
       "<html><script type=\"math/tex; mode=display\">\\newcommand{\\Bold}[1]{\\mathbf{#1}}\\frac{\\cos\\left(t\\right) - 1}{t^{3}} + \\frac{3 \\, {\\left(t - \\sin\\left(t\\right)\\right)}}{t^{4}}</script></html>"
      ],
      "text/plain": [
       "(cos(t) - 1)/t^3 + 3*(t - sin(t))/t^4"
      ]
     },
     "metadata": {},
     "output_type": "display_data"
    },
    {
     "data": {
      "text/plain": [
       "0"
      ]
     },
     "execution_count": 36,
     "metadata": {},
     "output_type": "execute_result"
    }
   ],
   "source": [
    "f1(t)=diff(f(t),t)\n",
    "f1(t).show()\n",
    "limit((f(t)+1/6)/t,t=0)"
   ]
  },
  {
   "cell_type": "markdown",
   "metadata": {},
   "source": [
    "**Ejemplo 6 (sobre asíntotas):**\n",
    "\n",
    "Las órdenes que ya conocemos nos permiten dibujar la gráfica de una función, ver dónde crece y dónde decrece, calcular los máximos y mínimos, concavidad, convexidad... También podemos calcular sus asíntotas; lo vemos con un ejemplo: la función\n",
    "\n",
    "$$ f(x) = \\frac{x^3 \\arctan x + 2x + 1}{5x^2+3}. $$"
   ]
  },
  {
   "cell_type": "code",
   "execution_count": 37,
   "metadata": {},
   "outputs": [
    {
     "data": {
      "text/html": [
       "<html><script type=\"math/tex; mode=display\">\\newcommand{\\Bold}[1]{\\mathbf{#1}}\\frac{x^{3} \\arctan\\left(x\\right) + 2 \\, x + 1}{5 \\, x^{2} + 3}</script></html>"
      ],
      "text/plain": [
       "(x^3*arctan(x) + 2*x + 1)/(5*x^2 + 3)"
      ]
     },
     "metadata": {},
     "output_type": "display_data"
    }
   ],
   "source": [
    "reset()\n",
    "var('x')\n",
    "f(x)=(x^3*arctan(x)+2*x+1)/(5*x^2+3)\n",
    "f(x).show()"
   ]
  },
  {
   "cell_type": "markdown",
   "metadata": {},
   "source": [
    "La asíntota en $+\\infty$ es la recta $y = ax+b$, donde\n",
    "\n",
    "$$a=\\lim_{x\\to +\\infty} \\frac{f(x)}{x}, \\quad b=\\lim_{x\\to +\\infty} (f(x) - ax).$$\n",
    "\n",
    "Si alguno de los dos límites no existe o es $\\pm\\infty$, entonces la función no tiene asíntota en $+\\infty$. Haciendo los mismos límites en $-\\infty$ obtenemos la asíntota en $-\\infty$, si es que existe."
   ]
  },
  {
   "cell_type": "code",
   "execution_count": 38,
   "metadata": {},
   "outputs": [
    {
     "data": {
      "text/plain": [
       "1/10*pi"
      ]
     },
     "execution_count": 38,
     "metadata": {},
     "output_type": "execute_result"
    }
   ],
   "source": [
    "limit(f(x)/x,x=oo)"
   ]
  },
  {
   "cell_type": "code",
   "execution_count": 39,
   "metadata": {},
   "outputs": [
    {
     "data": {
      "text/plain": [
       "-1/5"
      ]
     },
     "execution_count": 39,
     "metadata": {},
     "output_type": "execute_result"
    }
   ],
   "source": [
    "limit(f(x)-1/10*pi*x,x=oo)"
   ]
  },
  {
   "cell_type": "markdown",
   "metadata": {},
   "source": [
    "Según lo anterior, la recta $y=\\frac{\\pi}{10} x - \\frac{1}{5}$ es la asíntota en $+\\infty$. Veamos ahora en $-\\infty$ :"
   ]
  },
  {
   "cell_type": "code",
   "execution_count": 40,
   "metadata": {},
   "outputs": [
    {
     "data": {
      "text/plain": [
       "-1/10*pi"
      ]
     },
     "execution_count": 40,
     "metadata": {},
     "output_type": "execute_result"
    }
   ],
   "source": [
    "limit(f(x)/x,x=-oo)"
   ]
  },
  {
   "cell_type": "code",
   "execution_count": 41,
   "metadata": {},
   "outputs": [
    {
     "data": {
      "text/plain": [
       "-1/5"
      ]
     },
     "execution_count": 41,
     "metadata": {},
     "output_type": "execute_result"
    }
   ],
   "source": [
    "limit(f(x)+1/10*pi*x,x=-oo)"
   ]
  },
  {
   "cell_type": "markdown",
   "metadata": {},
   "source": [
    "Es decir, la recta $y=-\\frac{\\pi}{10} x - \\frac{1}{5}$ es la asíntota en $-\\infty$. Dibujamos la función y las dos rectas en un intervalo suficientemente grande:"
   ]
  },
  {
   "cell_type": "code",
   "execution_count": 42,
   "metadata": {},
   "outputs": [],
   "source": [
    "gf=plot(f(x),(x,-10,5),color='blue')\n",
    "as1=plot(1/10*pi*x-1/5,(x,0,5),color='red',linestyle='dashed')\n",
    "as2=plot(-1/10*pi*x-1/5,(x,-10,0),color='red',linestyle='dashed')"
   ]
  },
  {
   "cell_type": "code",
   "execution_count": 43,
   "metadata": {},
   "outputs": [
    {
     "data": {
      "image/png": "[encoded data removed]",
      "text/plain": [
       "Graphics object consisting of 3 graphics primitives"
      ]
     },
     "metadata": {},
     "output_type": "display_data"
    }
   ],
   "source": [
    "(gf+as1+as2).show(figsize=4)"
   ]
  },
  {
   "cell_type": "markdown",
   "metadata": {},
   "source": [
    "**Ceros de funciones.**Dada una función $f(x)$, para encontrar ceros, es decir, puntos $x$ tal que $f(x)=0$, podemos intentar solve(f(x)==0,x) con algunas de sus opciones, pero a poco complicada que sea la función $f(x)$ este procedimiento no funcionará. Sin embargo, siempre podemos hacer gráficas de $f(x)$ y observar los cortes con el eje OX; esto nos dará los ceros de forma aproximada. También es muy útil la orden find\\_root que encuentra ceros de forma aproximada en el intervalo que indiquemos. Del mismo modo podemos buscar puntos $x$ que cumplen $f_1(x)=f_2(x)$ buscando los ceros de la diferencia $f_1(x)-f_2(x)$. A continuación desarrollamos un ejemplo."
   ]
  },
  {
   "cell_type": "code",
   "execution_count": 57,
   "metadata": {},
   "outputs": [
    {
     "data": {
      "image/png": "[encoded data removed]",
      "text/plain": [
       "Graphics object consisting of 1 graphics primitive"
      ]
     },
     "execution_count": 57,
     "metadata": {},
     "output_type": "execute_result"
    }
   ],
   "source": [
    "f(x)=x/(x^3-1)\n",
    "h(x)=(x-1)^2\n",
    "plot(f(x)-h(x),x,-2,3,ymin=-4,ymax=3)"
   ]
  },
  {
   "cell_type": "code",
   "execution_count": 58,
   "metadata": {},
   "outputs": [
    {
     "data": {
      "text/html": [
       "<html><script type=\"math/tex; mode=display\">\\newcommand{\\Bold}[1]{\\mathbf{#1}}\\frac{x}{x^{3} - 1} = {\\left(x - 1\\right)}^{2}</script></html>"
      ],
      "text/plain": [
       "x/(x^3 - 1) == (x - 1)^2"
      ]
     },
     "metadata": {},
     "output_type": "display_data"
    },
    {
     "data": {
      "text/html": [
       "<html><script type=\"math/tex; mode=display\">\\newcommand{\\Bold}[1]{\\mathbf{#1}}\\left[x = 1.673648648648649, x = \\left(-0.4472842024461323 - 0.7532396951123452i\\right), x = \\left(0.6104599292962123 - 0.6371060924265736i\\right), x = \\left(0.6104599292962123 + 0.6371060924265736i\\right), x = \\left(-0.4472842024461323 + 0.7532396951123452i\\right)\\right]</script></html>"
      ],
      "text/plain": [
       "[x == 1.673648648648649,\n",
       " x == (-0.4472842024461323 - 0.7532396951123452*I),\n",
       " x == (0.6104599292962123 - 0.6371060924265736*I),\n",
       " x == (0.6104599292962123 + 0.6371060924265736*I),\n",
       " x == (-0.4472842024461323 + 0.7532396951123452*I)]"
      ]
     },
     "metadata": {},
     "output_type": "display_data"
    }
   ],
   "source": [
    "show(f(x)==h(x))\n",
    "show(solve(f(x)-h(x)==0,x,to_poly_solve=True))"
   ]
  },
  {
   "cell_type": "markdown",
   "metadata": {},
   "source": [
    "Observamos que solve nos ha dado el punto de corte $x = 1.67364864865 $ (los otros valores son complejos). Este punto lo podemos observar en la gráfica anterior. Si hubiéramos hecho primero la gráfica, habríamos visto con claridad que el punto se encuentra entre $1$ y $2$ (podríamos afinar más si fuera necesario). Entonces, otra forma de encontrar este punto es:"
   ]
  },
  {
   "cell_type": "code",
   "execution_count": 59,
   "metadata": {},
   "outputs": [
    {
     "data": {
      "text/plain": [
       "1.6736485462998454"
      ]
     },
     "execution_count": 59,
     "metadata": {},
     "output_type": "execute_result"
    }
   ],
   "source": [
    "find_root(h(x)-f(x),1,2) # o (h(x)-f(x)).find_root(1,2)"
   ]
  },
  {
   "cell_type": "markdown",
   "metadata": {},
   "source": [
    "**Ejemplo 7:**Observar gráficamente que la ecuación $10\\sin x=x$ tiene tres soluciones en el intervalo $\\displaystyle (0,4\\pi)$. Sin la gráfica, ¿cómo demostrarías que tiene exactamente 3 soluciones?. Hallarlas de forma aproximada."
   ]
  },
  {
   "cell_type": "code",
   "execution_count": 60,
   "metadata": {},
   "outputs": [
    {
     "data": {
      "text/plain": [
       "[x == 10*sin(x)]"
      ]
     },
     "execution_count": 60,
     "metadata": {},
     "output_type": "execute_result"
    }
   ],
   "source": [
    "reset()\n",
    "solve(10*sin(x)-x==0,x) # no sabe resolver"
   ]
  },
  {
   "cell_type": "code",
   "execution_count": 61,
   "metadata": {},
   "outputs": [
    {
     "data": {
      "image/png": "[encoded data removed]",
      "text/plain": [
       "Graphics object consisting of 2 graphics primitives"
      ]
     },
     "metadata": {},
     "output_type": "display_data"
    },
    {
     "data": {
      "image/png": "[encoded data removed]",
      "text/plain": [
       "Graphics object consisting of 1 graphics primitive"
      ]
     },
     "execution_count": 61,
     "metadata": {},
     "output_type": "execute_result"
    }
   ],
   "source": [
    "a=plot(10*sin(x),(x,0,4*pi))\n",
    "b=plot(x,(x,0,4*pi),color='red')\n",
    "(a+b).show(figsize=4)\n",
    "plot(10*sin(x)-x,(x,0,4*pi),color='green',figsize=4)# Esta es otra forma de ver el problema"
   ]
  },
  {
   "cell_type": "markdown",
   "metadata": {},
   "source": [
    "La solución $x=0$ no forma parte del intervalo que nos preguntan. Examinando la gráfica, sabemos aproximadamente qué intervalos poner en la orden find\\_root:"
   ]
  },
  {
   "cell_type": "code",
   "execution_count": 62,
   "metadata": {},
   "outputs": [
    {
     "data": {
      "text/html": [
       "<html><script type=\"math/tex; mode=display\">\\newcommand{\\Bold}[1]{\\mathbf{#1}}\\left[2.8523418944500625, 7.068174358095817, 8.423203932360492\\right]</script></html>"
      ],
      "text/plain": [
       "[2.8523418944500625, 7.068174358095817, 8.423203932360492]"
      ]
     },
     "metadata": {},
     "output_type": "display_data"
    }
   ],
   "source": [
    "x1=find_root(10*sin(x)-x,2,4)\n",
    "x2=find_root(10*sin(x)-x,6,8)\n",
    "x3=find_root(10*sin(x)-x,8,10)\n",
    "show([x1,x2,x3])"
   ]
  },
  {
   "cell_type": "code",
   "execution_count": 63,
   "metadata": {},
   "outputs": [
    {
     "data": {
      "text/html": [
       "<html><script type=\"math/tex; mode=display\">\\newcommand{\\Bold}[1]{\\mathbf{#1}}10 \\, \\cos\\left(x\\right) - 1</script></html>"
      ],
      "text/plain": [
       "10*cos(x) - 1"
      ]
     },
     "metadata": {},
     "output_type": "display_data"
    },
    {
     "data": {
      "image/png": "[encoded data removed]",
      "text/plain": [
       "Graphics object consisting of 1 graphics primitive"
      ]
     },
     "execution_count": 63,
     "metadata": {},
     "output_type": "execute_result"
    }
   ],
   "source": [
    "reset()\n",
    "f(x)=10*sin(x)-x\n",
    "diff(f(x),x).show()\n",
    "plot(diff(f(x),x),(x,0,4*pi), figsize=4)"
   ]
  },
  {
   "cell_type": "code",
   "execution_count": 64,
   "metadata": {},
   "outputs": [
    {
     "data": {
      "text/plain": [
       "[x == arccos(1/10)]"
      ]
     },
     "execution_count": 64,
     "metadata": {},
     "output_type": "execute_result"
    }
   ],
   "source": [
    "solve(10*cos(x)-1==0,x)# Tan sólo nos da una solución."
   ]
  },
  {
   "cell_type": "code",
   "execution_count": 68,
   "metadata": {},
   "outputs": [
    {
     "data": {
      "text/plain": [
       "1.47062890563334"
      ]
     },
     "execution_count": 68,
     "metadata": {},
     "output_type": "execute_result"
    }
   ],
   "source": [
    "(arccos(1/10)).n()# Esta es una solución, ¿cuales son las demás?"
   ]
  },
  {
   "cell_type": "code",
   "execution_count": 74,
   "metadata": {},
   "outputs": [
    {
     "data": {
      "text/html": [
       "<html><script type=\"math/tex; mode=display\">\\newcommand{\\Bold}[1]{\\mathbf{#1}}-1.82838249046845</script></html>"
      ],
      "text/plain": [
       "-1.82838249046845"
      ]
     },
     "metadata": {},
     "output_type": "display_data"
    },
    {
     "data": {
      "text/html": [
       "<html><script type=\"math/tex; mode=display\">\\newcommand{\\Bold}[1]{\\mathbf{#1}}334.499683228664</script></html>"
      ],
      "text/plain": [
       "334.499683228664"
      ]
     },
     "metadata": {},
     "output_type": "display_data"
    },
    {
     "data": {
      "text/html": [
       "<html><script type=\"math/tex; mode=display\">\\newcommand{\\Bold}[1]{\\mathbf{#1}}3266.63498178622</script></html>"
      ],
      "text/plain": [
       "3266.63498178622"
      ]
     },
     "metadata": {},
     "output_type": "display_data"
    },
    {
     "data": {
      "text/html": [
       "<html><script type=\"math/tex; mode=display\">\\newcommand{\\Bold}[1]{\\mathbf{#1}}13395.6742322170</script></html>"
      ],
      "text/plain": [
       "13395.6742322170"
      ]
     },
     "metadata": {},
     "output_type": "display_data"
    },
    {
     "data": {
      "text/html": [
       "<html><script type=\"math/tex; mode=display\">\\newcommand{\\Bold}[1]{\\mathbf{#1}}24006.8116528144</script></html>"
      ],
      "text/plain": [
       "24006.8116528144"
      ]
     },
     "metadata": {},
     "output_type": "display_data"
    },
    {
     "data": {
      "text/plain": [
       "1/4*pi"
      ]
     },
     "execution_count": 74,
     "metadata": {},
     "output_type": "execute_result"
    }
   ],
   "source": [
    "show(f(arccos(1/10)).n())\n",
    "show(f(arccos(1/10)+pi).n())\n",
    "show(f(arccos(1/10)+2*pi).n())\n",
    "show(f(arccos(1/10)+3*pi).n())\n",
    "show(f(4*pi).n())"
   ]
  },
  {
   "cell_type": "markdown",
   "metadata": {},
   "source": [
    "Los extremos relativos cambian de signo, lo que significa que hay una única solución de nuestra ecuación entre éllos.\n",
    "\n",
    "**Ejemplo 8.**El método de Newton permite aproximar soluciones de ecuaciones del tipo $f(x)=0$. A priori, el método no asegura la convergencia hacia alguna solución. EL método de Newton consiste en construir la sucesión $x_{n+1}=x_n-\\frac{f(x_n)}{f'(x_n)}$ y estudiar si converge o no. Si lo hace, es hacia una solución de $f(x)=0$. El siguiente ejemplo sirve de ilustración.El polinomio $p (x) = x^4 - 6x^2 + x + 5$ tiene cuatro raíces reales. Comprobar que con $x_0=0$ el método de Newton converge a la raíz más cerca de $-2$."
   ]
  },
  {
   "cell_type": "code",
   "execution_count": 69,
   "metadata": {},
   "outputs": [
    {
     "data": {
      "image/png": "[encoded data removed]",
      "text/plain": [
       "Graphics object consisting of 1 graphics primitive"
      ]
     },
     "execution_count": 69,
     "metadata": {},
     "output_type": "execute_result"
    }
   ],
   "source": [
    "f(x)=x^4-6*x^2+x+5\n",
    "plot(f(x),x,-3,3, figsize=4) #se observan las 4 soluciones"
   ]
  },
  {
   "cell_type": "code",
   "execution_count": 70,
   "metadata": {},
   "outputs": [
    {
     "name": "stdout",
     "output_type": "stream",
     "text": [
      "0\n",
      "-5\n"
     ]
    }
   ],
   "source": [
    "fprima(x)=diff(f(x),x)\n",
    "a0=0\n",
    "a1=a0-(f(a0)/fprima(a0))\n",
    "print(a0)\n",
    "print(a1)"
   ]
  },
  {
   "cell_type": "code",
   "execution_count": 71,
   "metadata": {},
   "outputs": [
    {
     "name": "stdout",
     "output_type": "stream",
     "text": [
      "-5\n",
      "-3.91799544419134\n"
     ]
    }
   ],
   "source": [
    "fprima(x)=diff(f(x),x)\n",
    "a0=0\n",
    "a2=a1-(f(a1)/fprima(a1))\n",
    "print(a1)\n",
    "print(a2.n())"
   ]
  },
  {
   "cell_type": "code",
   "execution_count": 73,
   "metadata": {},
   "outputs": [
    {
     "data": {
      "text/html": [
       "<html><script type=\"math/tex; mode=display\">\\newcommand{\\Bold}[1]{\\mathbf{#1}}-2.34942693527723</script></html>"
      ],
      "text/plain": [
       "-2.34942693527723"
      ]
     },
     "metadata": {},
     "output_type": "display_data"
    },
    {
     "data": {
      "text/html": [
       "<html><script type=\"math/tex; mode=display\">\\newcommand{\\Bold}[1]{\\mathbf{#1}}\\left[0, -5.00000000000000, -3.91799544419134, -3.16694805728908, -2.68712701380716, -2.43633031925806, -2.35729793861145, -2.34950003482378, -2.34942694166568, -2.34942693527723, -2.34942693527723\\right]</script></html>"
      ],
      "text/plain": [
       "[0,\n",
       " -5.00000000000000,\n",
       " -3.91799544419134,\n",
       " -3.16694805728908,\n",
       " -2.68712701380716,\n",
       " -2.43633031925806,\n",
       " -2.35729793861145,\n",
       " -2.34950003482378,\n",
       " -2.34942694166568,\n",
       " -2.34942693527723,\n",
       " -2.34942693527723]"
      ]
     },
     "metadata": {},
     "output_type": "display_data"
    }
   ],
   "source": [
    "a=[0]\n",
    "for n in [1..10]:\n",
    "    a.append(a[n-1]-(f(a[n-1])/fprima(a[n-1])).n())\n",
    "show(a[10].n())\n",
    "show(list(a))"
   ]
  },
  {
   "cell_type": "code",
   "execution_count": null,
   "metadata": {},
   "outputs": [],
   "source": []
  },
  {
   "cell_type": "code",
   "execution_count": null,
   "metadata": {},
   "outputs": [],
   "source": []
  }
 ],
 "metadata": {
  "kernelspec": {
   "display_name": "SageMath 9.1",
   "language": "",
   "name": "sagemath"
  },
  "language_info": {
   "codemirror_mode": {
    "name": "ipython",
    "version": 3
   },
   "file_extension": ".py",
   "mimetype": "text/x-python",
   "name": "python",
   "nbconvert_exporter": "python",
   "pygments_lexer": "ipython3",
   "version": "3.7.3"
  }
 },
 "nbformat": 4,
 "nbformat_minor": 4
}
